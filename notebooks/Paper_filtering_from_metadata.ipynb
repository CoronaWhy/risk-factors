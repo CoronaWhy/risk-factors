{
  "nbformat": 4,
  "nbformat_minor": 0,
  "metadata": {
    "kernelspec": {
      "display_name": "Python 3",
      "language": "python",
      "name": "python3"
    },
    "language_info": {
      "codemirror_mode": {
        "name": "ipython",
        "version": 3
      },
      "file_extension": ".py",
      "mimetype": "text/x-python",
      "name": "python",
      "nbconvert_exporter": "python",
      "pygments_lexer": "ipython3",
      "version": "3.7.4"
    },
    "colab": {
      "name": "Paper filtering from metadata.ipynb",
      "provenance": [],
      "collapsed_sections": []
    }
  },
  "cells": [
    {
      "cell_type": "markdown",
      "metadata": {
        "id": "l_e8OKoYPuIv",
        "colab_type": "text"
      },
      "source": [
        "## Importing libraries and downloading data"
      ]
    },
    {
      "cell_type": "code",
      "metadata": {
        "id": "ncOJ0vCqPT2K",
        "colab_type": "code",
        "colab": {
          "base_uri": "https://localhost:8080/",
          "height": 68
        },
        "outputId": "6ab43c39-d51c-429d-f482-6c01fc33662f"
      },
      "source": [
        "import os\n",
        "import pandas as pd\n",
        "os.system('pip install scholarly')\n",
        "import scholarly\n",
        "from nltk import sent_tokenize, word_tokenize\n",
        "import nltk\n",
        "nltk.download('punkt')\n",
        "# os.chdir('C:\\\\Users\\\\Cafral\\\\Desktop\\\\kaggle\\\\CORD-19-research-challenge\\\\data_v7')"
      ],
      "execution_count": 1,
      "outputs": [
        {
          "output_type": "stream",
          "text": [
            "[nltk_data] Downloading package punkt to /root/nltk_data...\n",
            "[nltk_data]   Unzipping tokenizers/punkt.zip.\n"
          ],
          "name": "stdout"
        },
        {
          "output_type": "execute_result",
          "data": {
            "text/plain": [
              "True"
            ]
          },
          "metadata": {
            "tags": []
          },
          "execution_count": 1
        }
      ]
    },
    {
      "cell_type": "code",
      "metadata": {
        "id": "2OUfwOMxP2Ij",
        "colab_type": "code",
        "colab": {
          "base_uri": "https://localhost:8080/",
          "height": 102
        },
        "outputId": "71e20a08-8767-4e65-f174-4cd941159701"
      },
      "source": [
        "# Downloading metadata file\n",
        "\n",
        "!pip install -q kaggle\n",
        "\n",
        "f = open(\"kaggle.json\", \"w\")\n",
        "f.write('{\"username\":\"pranjalya\",\"key\":\"fa4deb4f89e2fe282a3e29c166413ecf\"}')\n",
        "f.close()\n",
        "\n",
        "!mkdir ~/.kaggle\n",
        "!cp kaggle.json ~/.kaggle/\n",
        "!chmod 600 ~/.kaggle/kaggle.json\n",
        "!kaggle datasets download allen-institute-for-ai/CORD-19-research-challenge -f metadata.csv\n",
        "!unzip metadata.csv.zip\n",
        "!rm -rf metadata.csv.zip"
      ],
      "execution_count": 2,
      "outputs": [
        {
          "output_type": "stream",
          "text": [
            "Downloading metadata.csv.zip to /content\n",
            " 69% 19.0M/27.6M [00:00<00:00, 97.3MB/s]\n",
            "100% 27.6M/27.6M [00:00<00:00, 109MB/s] \n",
            "Archive:  metadata.csv.zip\n",
            "  inflating: metadata.csv            \n"
          ],
          "name": "stdout"
        }
      ]
    },
    {
      "cell_type": "markdown",
      "metadata": {
        "id": "Uz8p-oGvPT2P",
        "colab_type": "text"
      },
      "source": [
        "# Load the data"
      ]
    },
    {
      "cell_type": "code",
      "metadata": {
        "id": "Aai_onUqPT2Q",
        "colab_type": "code",
        "colab": {}
      },
      "source": [
        "metadata = pd.read_csv('metadata.csv')\n",
        "metadata.rename(columns={'sha':'paper_id'}, inplace = True)\n",
        "metadata['paper_id'] = metadata['paper_id'].astype(\"str\")\n",
        "metadata['title'] = metadata['title'].fillna('nan')\n",
        "metadata['abstract'] = metadata['abstract'].fillna('nan')\n",
        "\n",
        "metadata['text'] = metadata['title']+ ' ' + metadata['abstract']\n",
        "metadata.drop_duplicates(['text'], inplace=True)"
      ],
      "execution_count": 0,
      "outputs": []
    },
    {
      "cell_type": "code",
      "metadata": {
        "id": "W3dHx13XSaPY",
        "colab_type": "code",
        "colab": {
          "base_uri": "https://localhost:8080/",
          "height": 666
        },
        "outputId": "f90d022f-3992-48d2-cfa5-12a4414adc85"
      },
      "source": [
        "metadata.head()"
      ],
      "execution_count": 4,
      "outputs": [
        {
          "output_type": "execute_result",
          "data": {
            "text/html": [
              "<div>\n",
              "<style scoped>\n",
              "    .dataframe tbody tr th:only-of-type {\n",
              "        vertical-align: middle;\n",
              "    }\n",
              "\n",
              "    .dataframe tbody tr th {\n",
              "        vertical-align: top;\n",
              "    }\n",
              "\n",
              "    .dataframe thead th {\n",
              "        text-align: right;\n",
              "    }\n",
              "</style>\n",
              "<table border=\"1\" class=\"dataframe\">\n",
              "  <thead>\n",
              "    <tr style=\"text-align: right;\">\n",
              "      <th></th>\n",
              "      <th>cord_uid</th>\n",
              "      <th>paper_id</th>\n",
              "      <th>source_x</th>\n",
              "      <th>title</th>\n",
              "      <th>doi</th>\n",
              "      <th>pmcid</th>\n",
              "      <th>pubmed_id</th>\n",
              "      <th>license</th>\n",
              "      <th>abstract</th>\n",
              "      <th>publish_time</th>\n",
              "      <th>authors</th>\n",
              "      <th>journal</th>\n",
              "      <th>Microsoft Academic Paper ID</th>\n",
              "      <th>WHO #Covidence</th>\n",
              "      <th>has_pdf_parse</th>\n",
              "      <th>has_pmc_xml_parse</th>\n",
              "      <th>full_text_file</th>\n",
              "      <th>url</th>\n",
              "      <th>text</th>\n",
              "    </tr>\n",
              "  </thead>\n",
              "  <tbody>\n",
              "    <tr>\n",
              "      <th>0</th>\n",
              "      <td>xqhn0vbp</td>\n",
              "      <td>1e1286db212100993d03cc22374b624f7caee956</td>\n",
              "      <td>PMC</td>\n",
              "      <td>Airborne rhinovirus detection and effect of ul...</td>\n",
              "      <td>10.1186/1471-2458-3-5</td>\n",
              "      <td>PMC140314</td>\n",
              "      <td>12525263.0</td>\n",
              "      <td>no-cc</td>\n",
              "      <td>BACKGROUND: Rhinovirus, the most common cause ...</td>\n",
              "      <td>2003-01-13</td>\n",
              "      <td>Myatt, Theodore A; Johnston, Sebastian L; Rudn...</td>\n",
              "      <td>BMC Public Health</td>\n",
              "      <td>NaN</td>\n",
              "      <td>NaN</td>\n",
              "      <td>True</td>\n",
              "      <td>True</td>\n",
              "      <td>custom_license</td>\n",
              "      <td>https://www.ncbi.nlm.nih.gov/pmc/articles/PMC1...</td>\n",
              "      <td>Airborne rhinovirus detection and effect of ul...</td>\n",
              "    </tr>\n",
              "    <tr>\n",
              "      <th>1</th>\n",
              "      <td>gi6uaa83</td>\n",
              "      <td>8ae137c8da1607b3a8e4c946c07ca8bda67f88ac</td>\n",
              "      <td>PMC</td>\n",
              "      <td>Discovering human history from stomach bacteria</td>\n",
              "      <td>10.1186/gb-2003-4-5-213</td>\n",
              "      <td>PMC156578</td>\n",
              "      <td>12734001.0</td>\n",
              "      <td>no-cc</td>\n",
              "      <td>Recent analyses of human pathogens have reveal...</td>\n",
              "      <td>2003-04-28</td>\n",
              "      <td>Disotell, Todd R</td>\n",
              "      <td>Genome Biol</td>\n",
              "      <td>NaN</td>\n",
              "      <td>NaN</td>\n",
              "      <td>True</td>\n",
              "      <td>True</td>\n",
              "      <td>custom_license</td>\n",
              "      <td>https://www.ncbi.nlm.nih.gov/pmc/articles/PMC1...</td>\n",
              "      <td>Discovering human history from stomach bacteri...</td>\n",
              "    </tr>\n",
              "    <tr>\n",
              "      <th>2</th>\n",
              "      <td>le0ogx1s</td>\n",
              "      <td>nan</td>\n",
              "      <td>PMC</td>\n",
              "      <td>A new recruit for the army of the men of death</td>\n",
              "      <td>10.1186/gb-2003-4-7-113</td>\n",
              "      <td>PMC193621</td>\n",
              "      <td>12844350.0</td>\n",
              "      <td>no-cc</td>\n",
              "      <td>The army of the men of death, in John Bunyan's...</td>\n",
              "      <td>2003-06-27</td>\n",
              "      <td>Petsko, Gregory A</td>\n",
              "      <td>Genome Biol</td>\n",
              "      <td>NaN</td>\n",
              "      <td>NaN</td>\n",
              "      <td>False</td>\n",
              "      <td>True</td>\n",
              "      <td>custom_license</td>\n",
              "      <td>https://www.ncbi.nlm.nih.gov/pmc/articles/PMC1...</td>\n",
              "      <td>A new recruit for the army of the men of death...</td>\n",
              "    </tr>\n",
              "    <tr>\n",
              "      <th>3</th>\n",
              "      <td>fy4w7xz8</td>\n",
              "      <td>0104f6ceccf92ae8567a0102f89cbb976969a774</td>\n",
              "      <td>PMC</td>\n",
              "      <td>Association of HLA class I with severe acute r...</td>\n",
              "      <td>10.1186/1471-2350-4-9</td>\n",
              "      <td>PMC212558</td>\n",
              "      <td>12969506.0</td>\n",
              "      <td>no-cc</td>\n",
              "      <td>BACKGROUND: The human leukocyte antigen (HLA) ...</td>\n",
              "      <td>2003-09-12</td>\n",
              "      <td>Lin, Marie; Tseng, Hsiang-Kuang; Trejaut, Jean...</td>\n",
              "      <td>BMC Med Genet</td>\n",
              "      <td>NaN</td>\n",
              "      <td>NaN</td>\n",
              "      <td>True</td>\n",
              "      <td>True</td>\n",
              "      <td>custom_license</td>\n",
              "      <td>https://www.ncbi.nlm.nih.gov/pmc/articles/PMC2...</td>\n",
              "      <td>Association of HLA class I with severe acute r...</td>\n",
              "    </tr>\n",
              "    <tr>\n",
              "      <th>4</th>\n",
              "      <td>0qaoam29</td>\n",
              "      <td>5b68a553a7cbbea13472721cd1ad617d42b40c26</td>\n",
              "      <td>PMC</td>\n",
              "      <td>A double epidemic model for the SARS propagation</td>\n",
              "      <td>10.1186/1471-2334-3-19</td>\n",
              "      <td>PMC222908</td>\n",
              "      <td>12964944.0</td>\n",
              "      <td>no-cc</td>\n",
              "      <td>BACKGROUND: An epidemic of a Severe Acute Resp...</td>\n",
              "      <td>2003-09-10</td>\n",
              "      <td>Ng, Tuen Wai; Turinici, Gabriel; Danchin, Antoine</td>\n",
              "      <td>BMC Infect Dis</td>\n",
              "      <td>NaN</td>\n",
              "      <td>NaN</td>\n",
              "      <td>True</td>\n",
              "      <td>True</td>\n",
              "      <td>custom_license</td>\n",
              "      <td>https://www.ncbi.nlm.nih.gov/pmc/articles/PMC2...</td>\n",
              "      <td>A double epidemic model for the SARS propagati...</td>\n",
              "    </tr>\n",
              "  </tbody>\n",
              "</table>\n",
              "</div>"
            ],
            "text/plain": [
              "   cord_uid  ...                                               text\n",
              "0  xqhn0vbp  ...  Airborne rhinovirus detection and effect of ul...\n",
              "1  gi6uaa83  ...  Discovering human history from stomach bacteri...\n",
              "2  le0ogx1s  ...  A new recruit for the army of the men of death...\n",
              "3  fy4w7xz8  ...  Association of HLA class I with severe acute r...\n",
              "4  0qaoam29  ...  A double epidemic model for the SARS propagati...\n",
              "\n",
              "[5 rows x 19 columns]"
            ]
          },
          "metadata": {
            "tags": []
          },
          "execution_count": 4
        }
      ]
    },
    {
      "cell_type": "markdown",
      "metadata": {
        "id": "wvD1TSwCPT2V",
        "colab_type": "text"
      },
      "source": [
        "# Extracting papers which contain ngrams"
      ]
    },
    {
      "cell_type": "code",
      "metadata": {
        "id": "Y-fYxxC5PT2W",
        "colab_type": "code",
        "colab": {}
      },
      "source": [
        "def find_ngrams(dataframe,columnToSearch,keywords):\n",
        "    df_w_ngrams = dataframe[dataframe[columnToSearch].str.contains('|'.join(keywords), case=False) == True]\n",
        "    return df_w_ngrams\n",
        "\n",
        "ngrams = ['population density','number of people in','number of people per',\n",
        "                             'highly populated areas','highly populated countries',\n",
        "                             'densely populated countries','densely populated areas',\n",
        "                             'high density areas','high density countries'\n",
        "                             ,'population densities', 'density of population','sparsely populated',\n",
        "                             'densely populated','density of the population','dense population','populated areas',\n",
        "                             'densely inhabited','housing density','densely-populated','concentration of people',\n",
        "                             'population pressure','population studies','populated regions','populous',\n",
        "                             'high population densities','residential densities','overpopulated']\n",
        "\n",
        "metadata_ngrams = find_ngrams(metadata,'text',ngrams)\n",
        "#ngrams_titles.rename(columns={'title':'title_w_ngram'},inplace=True)"
      ],
      "execution_count": 0,
      "outputs": []
    },
    {
      "cell_type": "markdown",
      "metadata": {
        "id": "RED5T8upPT2a",
        "colab_type": "text"
      },
      "source": [
        "# Extracting all sentences from the relevant papers"
      ]
    },
    {
      "cell_type": "code",
      "metadata": {
        "id": "5WCy9nsnPT2b",
        "colab_type": "code",
        "colab": {}
      },
      "source": [
        "def metadata_sentences(dataFrame):\n",
        "    paper_ids = list(dataFrame['paper_id'].unique())\n",
        "    meta_sent_df = pd.DataFrame(columns=['paper_id','sentence'])\n",
        "    for paper_id in paper_ids:\n",
        "        sentence_df = pd.DataFrame(columns=['paper_id','sentence'])\n",
        "        paper_id_df = dataFrame[dataFrame['paper_id']==paper_id]\n",
        "\n",
        "        for idx_num,row in paper_id_df.iterrows():\n",
        "            sentences = [sentence for sentence in sent_tokenize(row.abstract)]\n",
        "        sentence_df['sentence'] = sentences\n",
        "        #print(sentence_df['sentence'])\n",
        "        sentence_df['paper_id'] = paper_id\n",
        "        meta_sent_df = pd.concat([meta_sent_df,sentence_df])\n",
        "\n",
        "    meta_sent_df.reset_index(inplace=True)\n",
        "    meta_sent_df.drop(columns=['index'],inplace=True)\n",
        "    \n",
        "    return meta_sent_df"
      ],
      "execution_count": 0,
      "outputs": []
    },
    {
      "cell_type": "code",
      "metadata": {
        "id": "vpZINPJmPT2f",
        "colab_type": "code",
        "colab": {}
      },
      "source": [
        "meta_sent_df = metadata_sentences(metadata_ngrams)"
      ],
      "execution_count": 0,
      "outputs": []
    },
    {
      "cell_type": "markdown",
      "metadata": {
        "id": "9zGELVNmPT2k",
        "colab_type": "text"
      },
      "source": [
        "# Extracting methodolody, sample size, causal nature, sentences refering to coronavirus, fatality"
      ]
    },
    {
      "cell_type": "code",
      "metadata": {
        "id": "B63MCNH-PT2l",
        "colab_type": "code",
        "colab": {}
      },
      "source": [
        "def extract_features(ngramDf,allSentdataFrame,ngrams):\n",
        "    \n",
        "    #ngram sentences\n",
        "    sentences = find_ngrams(allSentdataFrame,'sentence',ngrams)\n",
        "    \n",
        "    # extracting methodology\n",
        "    methods_list = ['regression','OLS','logistic','time series','model','modelling','simulation','forecast','forecasting']\n",
        "    methodology = find_ngrams(allSentdataFrame,'sentence',methods_list)\n",
        "\n",
        "    #extracting sample size\n",
        "    sample_size_list = ['population size','sample size','number of samples','number of observations','number of subjects']\n",
        "    sample_size = find_ngrams(allSentdataFrame,'sentence',sample_size_list)\n",
        "\n",
        "    #extracting nature of correlation\n",
        "    causal_list =['statistically significant','statistical significance',\n",
        "                  'correlation','positively correlated','negatively correlated','correlated',\n",
        "                  'p value','p-value','chi square','chi-square',\n",
        "                  'confidence interval','CI','odds ratio','OR','coefficient']\n",
        "\n",
        "    causality_type = find_ngrams(allSentdataFrame,'sentence',causal_list)\n",
        "\n",
        "    # extracting coronavirus related sentence #can someone check and update this list?\n",
        "    coronavirus_list = ['severe acute respiratory syndrome','sars-cov','sars-like',\n",
        "                        'middle east respiratory syndrome','mers-cov','mers-like',\n",
        "                        'covid-19','sars-cov-2','2019-ncov','sars-2',\n",
        "                        'sarscov-2','novel coronavirus','corona virus','coronaviruses',\n",
        "                        'sars','mers','covid19','covid 19']\n",
        "\n",
        "    coronavirus = find_ngrams(allSentdataFrame,'sentence',coronavirus_list)\n",
        "\n",
        "    # extracting outcome\n",
        "    disease_stage_list = ['lethal', 'morbid',\"death\", \"fatality\", \"mortality\",\"lethal\", \"lethality\", \"morbidity\"]\n",
        "\n",
        "    fatality = find_ngrams(allSentdataFrame,'sentence',disease_stage_list)\n",
        "\n",
        "    df_list = [sentences,methodology,sample_size,causality_type,coronavirus,fatality]\n",
        "    df_list_name = ['sentences','methodology','sample_size','causality_type','coronavirus','fatality']\n",
        "    i=0\n",
        "    for one_df in df_list:\n",
        "        one_df.rename(columns={'sentence':df_list_name[i]},inplace=True)\n",
        "        grouped_one_df = one_df.groupby(['paper_id'])[df_list_name[i]].sum()\n",
        "        ngramDf = pd.merge(ngramDf,grouped_one_df,on='paper_id',how='left')\n",
        "        i=i+1\n",
        "    return ngramDf"
      ],
      "execution_count": 0,
      "outputs": []
    },
    {
      "cell_type": "code",
      "metadata": {
        "id": "Fs7-PC_EPT2q",
        "colab_type": "code",
        "outputId": "3fc9080f-064b-46f2-f0d2-9a2b41339337",
        "colab": {
          "base_uri": "https://localhost:8080/",
          "height": 102
        }
      },
      "source": [
        "metadata_ngrams = extract_features(metadata_ngrams,meta_sent_df,ngrams)"
      ],
      "execution_count": 9,
      "outputs": [
        {
          "output_type": "stream",
          "text": [
            "/usr/local/lib/python3.6/dist-packages/pandas/core/frame.py:4133: SettingWithCopyWarning: \n",
            "A value is trying to be set on a copy of a slice from a DataFrame\n",
            "\n",
            "See the caveats in the documentation: https://pandas.pydata.org/pandas-docs/stable/user_guide/indexing.html#returning-a-view-versus-a-copy\n",
            "  errors=errors,\n"
          ],
          "name": "stderr"
        }
      ]
    },
    {
      "cell_type": "code",
      "metadata": {
        "id": "4lHsQ3nNPT2v",
        "colab_type": "code",
        "colab": {}
      },
      "source": [
        "try:\n",
        "    metadata_ngrams.drop(columns=['cord_uid','source_x','pmcid', 'pubmed_id', 'license', \n",
        "                              'Microsoft Academic Paper ID', 'WHO #Covidence',\n",
        "                              'full_text_file'], inplace=True)\n",
        "except:\n",
        "    print(\"Already removed\")"
      ],
      "execution_count": 0,
      "outputs": []
    },
    {
      "cell_type": "code",
      "metadata": {
        "id": "t_5znVKBPT2z",
        "colab_type": "code",
        "colab": {}
      },
      "source": [
        "def keywordcounter(sentences, keywords_list):\n",
        "    '''\n",
        "    Input : List of sentences, List of keywords\n",
        "    Returns : Keywords present in sentences, Total count of all keywords present in Input\n",
        "    '''\n",
        "    keyword = {}\n",
        "    sent = \" \".join(sentences)\n",
        "    for pol in keywords_list:\n",
        "        counter = sent.lower().count(pol)\n",
        "        if (counter > 0):\n",
        "            keyword[pol] = counter\n",
        "    return list(keyword.keys()), sum(keyword.values())\n",
        "\n",
        "def aggregation(item,keyWordList,RiskFactor):\n",
        "    '''\n",
        "    Input : Dataframe of sentences of a paper\n",
        "    Return : Datframe in Standard Output format\n",
        "    '''\n",
        "    dfo = {}\n",
        "    \n",
        "    dfo['Risk Factor'] = RiskFactor\n",
        "    dfo['Title'] = item['title'].iloc[0]\n",
        "    dfo['Keyword/Ngram'], dfo['No of keyword occurence in Paper'] = keywordcounter(item['text'].tolist(),\n",
        "                                                                                 keyWordList)\n",
        "    dfo['Sentences'] = item['sentences'].iloc[0]\n",
        "    dfo['paper_id'] = item['paper_id'].iloc[0]\n",
        "    \n",
        "    dfo['URL'] = item['url'].iloc[0]\n",
        "    \n",
        "    dfo['Authors'] = item['authors'].iloc[0]\n",
        "\n",
        "    try:\n",
        "        dfo['No of Citations'] = next(scholarly.search_pubs_query(item['title'].iloc[0])).citedby\n",
        "    except:\n",
        "        dfo['No of Citations'] = 0\n",
        "        \n",
        "    dfo['Correlation'] = item['causality_type'].iloc[0]\n",
        "    dfo['Design Methodology'] = item['methodology'].iloc[0]\n",
        "    dfo['Sample Size'] = item['sample_size'].iloc[0]\n",
        "    dfo['Coronavirus'] = item['coronavirus'].iloc[0]\n",
        "    dfo['Fatality'] = item['fatality'].iloc[0]\n",
        "    #dfo['TAXON'] =item['TAXON'].iloc[0]\n",
        "    \n",
        "    return dfo\n",
        "\n",
        "#del df_output\n",
        "df_output = pd.DataFrame(columns=['Risk Factor', 'Title','Keyword/Ngram', 'No of keyword occurence in Paper',\n",
        "                                  'paper_id', 'URL',\n",
        "                                  'Authors','No of Citations', 'Correlation', \n",
        "                                  'Design Methodology', 'Sample Size',\n",
        "                                 'Coronavirus','Fatality'])\n",
        "\n",
        "grouped = metadata_ngrams.groupby('paper_id')\n",
        "for key, item in grouped:\n",
        "    df_output = pd.concat([df_output, pd.DataFrame([aggregation(item,ngrams,'Population Density')])])\n",
        "\n",
        "df_output = df_output.reset_index()\n",
        "df_output.to_excel('population_density_metadata.xlsx')"
      ],
      "execution_count": 0,
      "outputs": []
    },
    {
      "cell_type": "code",
      "metadata": {
        "id": "McA9UFsJPT25",
        "colab_type": "code",
        "colab": {
          "base_uri": "https://localhost:8080/",
          "height": 598
        },
        "outputId": "c3870bf0-edb6-4413-de76-eb40eb3a2e12"
      },
      "source": [
        "df_output.head()"
      ],
      "execution_count": 13,
      "outputs": [
        {
          "output_type": "execute_result",
          "data": {
            "text/html": [
              "<div>\n",
              "<style scoped>\n",
              "    .dataframe tbody tr th:only-of-type {\n",
              "        vertical-align: middle;\n",
              "    }\n",
              "\n",
              "    .dataframe tbody tr th {\n",
              "        vertical-align: top;\n",
              "    }\n",
              "\n",
              "    .dataframe thead th {\n",
              "        text-align: right;\n",
              "    }\n",
              "</style>\n",
              "<table border=\"1\" class=\"dataframe\">\n",
              "  <thead>\n",
              "    <tr style=\"text-align: right;\">\n",
              "      <th></th>\n",
              "      <th>index</th>\n",
              "      <th>Risk Factor</th>\n",
              "      <th>Title</th>\n",
              "      <th>Keyword/Ngram</th>\n",
              "      <th>No of keyword occurence in Paper</th>\n",
              "      <th>paper_id</th>\n",
              "      <th>URL</th>\n",
              "      <th>Authors</th>\n",
              "      <th>No of Citations</th>\n",
              "      <th>Correlation</th>\n",
              "      <th>Design Methodology</th>\n",
              "      <th>Sample Size</th>\n",
              "      <th>Coronavirus</th>\n",
              "      <th>Fatality</th>\n",
              "      <th>Sentences</th>\n",
              "    </tr>\n",
              "  </thead>\n",
              "  <tbody>\n",
              "    <tr>\n",
              "      <th>0</th>\n",
              "      <td>0</td>\n",
              "      <td>Population Density</td>\n",
              "      <td>Association of HLA class I with severe acute r...</td>\n",
              "      <td>[densely populated, populated regions]</td>\n",
              "      <td>2</td>\n",
              "      <td>0104f6ceccf92ae8567a0102f89cbb976969a774</td>\n",
              "      <td>https://www.ncbi.nlm.nih.gov/pmc/articles/PMC2...</td>\n",
              "      <td>Lin, Marie; Tseng, Hsiang-Kuang; Trejaut, Jean...</td>\n",
              "      <td>118</td>\n",
              "      <td>BACKGROUND: The human leukocyte antigen (HLA) ...</td>\n",
              "      <td>NaN</td>\n",
              "      <td>NaN</td>\n",
              "      <td>During the Taiwan epidemic of severe acute res...</td>\n",
              "      <td>NaN</td>\n",
              "      <td>CONCLUSIONS: Densely populated regions with ge...</td>\n",
              "    </tr>\n",
              "    <tr>\n",
              "      <th>1</th>\n",
              "      <td>0</td>\n",
              "      <td>Population Density</td>\n",
              "      <td>Representative Contact Diaries for Modeling th...</td>\n",
              "      <td>[densely populated]</td>\n",
              "      <td>1</td>\n",
              "      <td>03b9acce84a4799d4be1152a36abfaf52fb3b523</td>\n",
              "      <td>https://www.ncbi.nlm.nih.gov/pmc/articles/PMC3...</td>\n",
              "      <td>Fu, Yang-chih; Wang, Da-Wei; Chuang, Jen-Hsiang</td>\n",
              "      <td>50</td>\n",
              "      <td>Recent studies of infectious diseases have att...</td>\n",
              "      <td>We show how such parameters of contact pattern...</td>\n",
              "      <td>NaN</td>\n",
              "      <td>NaN</td>\n",
              "      <td>NaN</td>\n",
              "      <td>To ensure that such diary-based contact patter...</td>\n",
              "    </tr>\n",
              "    <tr>\n",
              "      <th>2</th>\n",
              "      <td>0</td>\n",
              "      <td>Population Density</td>\n",
              "      <td>Distribution and Risk Factors of 2009 Pandemic...</td>\n",
              "      <td>[population density]</td>\n",
              "      <td>2</td>\n",
              "      <td>043aa68f2c784899f71225e8eb233150760a6a54</td>\n",
              "      <td>https://www.ncbi.nlm.nih.gov/pmc/articles/PMC3...</td>\n",
              "      <td>Fang, Li-Qun; Wang, Li-Ping; de Vlas, Sake J.;...</td>\n",
              "      <td>45</td>\n",
              "      <td>Data from all reported cases of 2009 pandemic ...</td>\n",
              "      <td>The impact of travel-related risk factors on i...</td>\n",
              "      <td>NaN</td>\n",
              "      <td>NaN</td>\n",
              "      <td>NaN</td>\n",
              "      <td>Lower temperature and lower relative humidity ...</td>\n",
              "    </tr>\n",
              "    <tr>\n",
              "      <th>3</th>\n",
              "      <td>0</td>\n",
              "      <td>Population Density</td>\n",
              "      <td>Autocatalytic Model for Covid-19 Progression i...</td>\n",
              "      <td>[population density]</td>\n",
              "      <td>1</td>\n",
              "      <td>052bf4fb7deaf593862991af3b118b5f11a9fbe1</td>\n",
              "      <td>https://doi.org/10.1101/2020.04.03.20052985</td>\n",
              "      <td>Anatoly Chernyshev</td>\n",
              "      <td>0</td>\n",
              "      <td>Herewith we present a computational model for ...</td>\n",
              "      <td>Herewith we present a computational model for ...</td>\n",
              "      <td>NaN</td>\n",
              "      <td>Herewith we present a computational model for ...</td>\n",
              "      <td>NaN</td>\n",
              "      <td>The only explicit parameter of the model is th...</td>\n",
              "    </tr>\n",
              "    <tr>\n",
              "      <th>4</th>\n",
              "      <td>0</td>\n",
              "      <td>Population Density</td>\n",
              "      <td>Coalescent inference for infectious disease: m...</td>\n",
              "      <td>[population density]</td>\n",
              "      <td>1</td>\n",
              "      <td>05513568bb7b58bb7df33023160838ac885a6144</td>\n",
              "      <td>https://www.ncbi.nlm.nih.gov/pmc/articles/PMC3...</td>\n",
              "      <td>Dearlove, Bethany; Wilson, Daniel J.</td>\n",
              "      <td>38</td>\n",
              "      <td>Genetic analysis of pathogen genomes is a powe...</td>\n",
              "      <td>The aim of this study is to develop robust pop...</td>\n",
              "      <td>NaN</td>\n",
              "      <td>NaN</td>\n",
              "      <td>NaN</td>\n",
              "      <td>We find that differences in genetic diversity ...</td>\n",
              "    </tr>\n",
              "  </tbody>\n",
              "</table>\n",
              "</div>"
            ],
            "text/plain": [
              "   index  ...                                          Sentences\n",
              "0      0  ...  CONCLUSIONS: Densely populated regions with ge...\n",
              "1      0  ...  To ensure that such diary-based contact patter...\n",
              "2      0  ...  Lower temperature and lower relative humidity ...\n",
              "3      0  ...  The only explicit parameter of the model is th...\n",
              "4      0  ...  We find that differences in genetic diversity ...\n",
              "\n",
              "[5 rows x 15 columns]"
            ]
          },
          "metadata": {
            "tags": []
          },
          "execution_count": 13
        }
      ]
    }
  ]
}