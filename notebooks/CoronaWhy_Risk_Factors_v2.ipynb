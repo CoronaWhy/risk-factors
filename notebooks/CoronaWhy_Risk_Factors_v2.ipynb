{
  "nbformat": 4,
  "nbformat_minor": 0,
  "metadata": {
    "kernelspec": {
      "display_name": "Python 3",
      "language": "python",
      "name": "python3"
    },
    "language_info": {
      "codemirror_mode": {
        "name": "ipython",
        "version": 3
      },
      "file_extension": ".py",
      "mimetype": "text/x-python",
      "name": "python",
      "nbconvert_exporter": "python",
      "pygments_lexer": "ipython3",
      "version": "3.7.3"
    },
    "colab": {
      "name": "CoronaWhy Risk Factors-v2.ipynb",
      "provenance": [],
      "include_colab_link": true
    }
  },
  "cells": [
    {
      "cell_type": "markdown",
      "metadata": {
        "id": "view-in-github",
        "colab_type": "text"
      },
      "source": [
        "<a href=\"https://colab.research.google.com/github/antonpolishko/colab-notebooks-sink/blob/master/task-risk/CoronaWhy_Risk_Factors_v2.ipynb\" target=\"_parent\"><img src=\"https://colab.research.google.com/assets/colab-badge.svg\" alt=\"Open In Colab\"/></a>"
      ]
    },
    {
      "cell_type": "markdown",
      "metadata": {
        "id": "0ezjLfBHvYYG",
        "colab_type": "text"
      },
      "source": [
        "task-risk \n",
        "\n",
        "https://coronawhy.slack.com/archives/C010NH92CH2/p1586792972453200\n"
      ]
    },
    {
      "cell_type": "code",
      "metadata": {
        "id": "0hs5Z7UdvU-C",
        "colab_type": "code",
        "colab": {}
      },
      "source": [
        "# This Python 3 environment comes with many helpful analytics libraries installed\n",
        "# It is defined by the kaggle/python docker image: https://github.com/kaggle/docker-python\n",
        "# For example, here's several helpful packages to load in \n",
        "\n",
        "import numpy as np # linear algebra\n",
        "import pandas as pd # data processing, CSV file I/O (e.g. pd.read_csv)\n",
        "\n",
        "# Input data files are available in the \"../input/\" directory.\n",
        "# For example, running this (by clicking run or pressing Shift+Enter) will list all files under the input directory\n",
        "\n",
        "import os\n",
        "for dirname, _, filenames in os.walk('/kaggle/input'):\n",
        "    for filename in filenames:\n",
        "        print(os.path.join(dirname, filename))\n",
        "\n",
        "# Any results you write to the current directory are saved as output."
      ],
      "execution_count": 0,
      "outputs": []
    },
    {
      "cell_type": "code",
      "metadata": {
        "id": "kXnAdi-DvU-h",
        "colab_type": "code",
        "colab": {}
      },
      "source": [
        "import spacy\n",
        "import re\n",
        "from collections import Counter\n",
        "import random\n",
        "\n",
        "import scispacy\n",
        "from tqdm import tqdm\n",
        "import json\n",
        "import io\n",
        "\n",
        "import en_core_sci_lg\n",
        "import en_ner_bc5cdr_md\n",
        "import en_ner_bionlp13cg_md\n",
        "from spacy import displacy\n",
        "from scispacy.abbreviation import AbbreviationDetector\n",
        "from scispacy.umls_linking import UmlsEntityLinker\n",
        "\n",
        "import gensim\n",
        "from gensim.utils import simple_preprocess\n",
        "from gensim.models.doc2vec import Doc2Vec, TaggedDocument\n",
        "from gensim.parsing.preprocessing import STOPWORDS\n",
        "\n",
        "from sklearn.model_selection import train_test_split\n",
        "from pprint import pprint\n"
      ],
      "execution_count": 0,
      "outputs": []
    },
    {
      "cell_type": "code",
      "metadata": {
        "id": "rnhsQ2m2vU-m",
        "colab_type": "code",
        "colab": {}
      },
      "source": [
        "#default spacy model\n",
        "nlp = spacy.load(\"en_core_web_lg\")"
      ],
      "execution_count": 0,
      "outputs": []
    },
    {
      "cell_type": "code",
      "metadata": {
        "id": "5t9POfWbvU-r",
        "colab_type": "code",
        "colab": {}
      },
      "source": [
        "dirs = ['biorxiv_medrxiv', 'comm_use_subset', 'custom_license', 'noncomm_use_subset']"
      ],
      "execution_count": 0,
      "outputs": []
    },
    {
      "cell_type": "code",
      "metadata": {
        "id": "DzAwYC5OvU_l",
        "colab_type": "code",
        "colab": {}
      },
      "source": [
        "root_path = 'C:/Users/MNgwenya/Documents/Data Science/Coronawhy/'  #'/kaggle/input/CO"
      ],
      "execution_count": 0,
      "outputs": []
    },
    {
      "cell_type": "code",
      "metadata": {
        "id": "myOswHqUvVAO",
        "colab_type": "code",
        "colab": {}
      },
      "source": [
        "main_root_path = \"C:/Users/MNgwenya/Documents/Data Science/Kaggle/CORD-19-research-challenge (1)/\""
      ],
      "execution_count": 0,
      "outputs": []
    },
    {
      "cell_type": "code",
      "metadata": {
        "id": "gr-CJXSlvVAR",
        "colab_type": "code",
        "colab": {}
      },
      "source": [
        "canada_df = pd.read_excel(root_path + 'Public_COVID-19_Canada.xlsx') # 3409 records"
      ],
      "execution_count": 0,
      "outputs": []
    },
    {
      "cell_type": "code",
      "metadata": {
        "id": "koCw7yIVvVAU",
        "colab_type": "code",
        "colab": {}
      },
      "source": [
        "covid_full = pd.read_csv(root_path + \"covid_full_unabbreviated-method date of datetime.datetime objects.csv\") # 29315 records"
      ],
      "execution_count": 0,
      "outputs": []
    },
    {
      "cell_type": "code",
      "metadata": {
        "id": "Ixe2-BZ_vVAi",
        "colab_type": "code",
        "colab": {}
      },
      "source": [
        "covid_sections = pd.read_json(root_path + \"sections_export_1.json\") # 29315 records"
      ],
      "execution_count": 0,
      "outputs": []
    },
    {
      "cell_type": "code",
      "metadata": {
        "id": "4SQyS0rrvVAn",
        "colab_type": "code",
        "colab": {},
        "outputId": "84247322-7c57-4a36-d4e2-cc9dd6ed0771"
      },
      "source": [
        "processed_df =  pd.read_csv(root_path + \"tables_processed_03282020.csv\") # 1025196 records"
      ],
      "execution_count": 0,
      "outputs": [
        {
          "output_type": "stream",
          "text": [
            "c:\\users\\mngwenya\\pyspace\\lib\\site-packages\\IPython\\core\\interactiveshell.py:3063: DtypeWarning: Columns (7,31,34) have mixed types.Specify dtype option on import or set low_memory=False.\n",
            "  interactivity=interactivity, compiler=compiler, result=result)\n"
          ],
          "name": "stderr"
        }
      ]
    },
    {
      "cell_type": "code",
      "metadata": {
        "id": "N_rQ0V_8vVAt",
        "colab_type": "code",
        "colab": {}
      },
      "source": [
        "metadata_df = pd.read_csv(main_root_path + 'metadata.csv')"
      ],
      "execution_count": 0,
      "outputs": []
    },
    {
      "cell_type": "code",
      "metadata": {
        "id": "_Kfhu5GfvVAw",
        "colab_type": "code",
        "colab": {}
      },
      "source": [
        "batch_1_processed_df = processed_df.iloc[:512598, :]"
      ],
      "execution_count": 0,
      "outputs": []
    },
    {
      "cell_type": "code",
      "metadata": {
        "id": "BeJtUJMivVA9",
        "colab_type": "code",
        "colab": {}
      },
      "source": [
        "batch_2_processed_df = processed_df.iloc[512599:len(processed_df), :]"
      ],
      "execution_count": 0,
      "outputs": []
    },
    {
      "cell_type": "code",
      "metadata": {
        "id": "hp71VfPSvVBU",
        "colab_type": "code",
        "colab": {}
      },
      "source": [
        "key_factors = ['asthma', 'tuberculosis',  'respiratory', 'pneumonia', 'hypertension', 'cardiovascular','infection', 'cerebrovascular', 'diabetes','hepatitis', 'chronic kidney', 'malignancy', 'immunodeficiency','coad']"
      ],
      "execution_count": 0,
      "outputs": []
    },
    {
      "cell_type": "code",
      "metadata": {
        "id": "73aGYUOavVBW",
        "colab_type": "code",
        "colab": {}
      },
      "source": [
        "import pickle as pic"
      ],
      "execution_count": 0,
      "outputs": []
    },
    {
      "cell_type": "code",
      "metadata": {
        "id": "QpSH4p3tvVBi",
        "colab_type": "code",
        "colab": {}
      },
      "source": [
        " #pickled articles can be found https://drive.google.com/drive/folders/1jBBM0QwedzX8PfTvSK3ds6xKR6VWI4g0\n",
        "pic_articles = open('covid19_articles', 'rb')"
      ],
      "execution_count": 0,
      "outputs": []
    },
    {
      "cell_type": "code",
      "metadata": {
        "id": "_rJSxfPNvVBl",
        "colab_type": "code",
        "colab": {}
      },
      "source": [
        "data = pic.load(pic_articles)"
      ],
      "execution_count": 0,
      "outputs": []
    },
    {
      "cell_type": "markdown",
      "metadata": {
        "id": "EHpo2TeRvVBo",
        "colab_type": "text"
      },
      "source": [
        "### Preprocess data"
      ]
    },
    {
      "cell_type": "code",
      "metadata": {
        "id": "RzA2vpYYvVBo",
        "colab_type": "code",
        "colab": {}
      },
      "source": [
        "n_stop_words = [u'covid-19', u'SARS-CoV', u'HCoV-19', u'MERS-CoV', u'cov2', 'statistical']"
      ],
      "execution_count": 0,
      "outputs": []
    },
    {
      "cell_type": "code",
      "metadata": {
        "id": "Ba50iugBvVB1",
        "colab_type": "code",
        "colab": {}
      },
      "source": [
        "def add_stop_words(sentences):\n",
        "    for w in n_stop_words:\n",
        "        sentences.vocab[w].is_stop = True        \n",
        "    return sentences"
      ],
      "execution_count": 0,
      "outputs": []
    },
    {
      "cell_type": "code",
      "metadata": {
        "id": "TX3xxOnYvVCB",
        "colab_type": "code",
        "colab": {}
      },
      "source": [
        "def lemmantize_corpus(sentence):\n",
        "    article = ''\n",
        "    _sentence = sentence.lower()\n",
        "    doc = nlp(_sentence)\n",
        "    n_doc = add_stop_words(doc)\n",
        "    for word in n_doc:\n",
        "    # if it's not a stop word or punctuation mark, add it to our article!\n",
        "        if not word.is_stop and not word.is_punct and len(word.text) != 1 and not word.like_num:\n",
        "        # we add the lematized version of the word\n",
        "            article += word.lemma_ + ' '\n",
        "    \n",
        "    return article"
      ],
      "execution_count": 0,
      "outputs": []
    },
    {
      "cell_type": "code",
      "metadata": {
        "id": "WUX5wecBvVCD",
        "colab_type": "code",
        "colab": {}
      },
      "source": [
        "def preprocesstext(data):\n",
        "    indeces = []\n",
        "    cleaned_text = []\n",
        "    \n",
        "    #remove range [0: 75000] to preprocess all data which takes more time\n",
        "    for i in (range(0, len(data[0 :75000]))):\n",
        "        \n",
        "        #Remove nonword characters and replace them by a single space\n",
        "        fulltext = data.iloc[i, 3]\n",
        "        index = data.iloc[i, 2]\n",
        "        \n",
        "        review = re.sub(r'\\W', ' ', str(fulltext))\n",
        "        #transform to lower cases\n",
        "        review = str(fulltext).lower()\n",
        "        #Remove single word charz such ' a ' \n",
        "        review = re.sub(r'\\s+[a-z]\\s+', ' ', review)\n",
        "        #Remove space\n",
        "        review = re.sub(r'\\s+', ' ', review)\n",
        "        #update the cleaned version\n",
        "        lem_sentence = lemmantize_corpus(review)\n",
        "        \n",
        "        indeces.append(index)       \n",
        "        cleaned_text.append(lem_sentence)   \n",
        "        \n",
        "    return (pd.DataFrame({'cleaned_text': cleaned_text, 'index':indeces})) \n"
      ],
      "execution_count": 0,
      "outputs": []
    },
    {
      "cell_type": "code",
      "metadata": {
        "id": "0dBHX2scvVCF",
        "colab_type": "code",
        "colab": {}
      },
      "source": [
        "cleaned_data = preprocesstext(data)"
      ],
      "execution_count": 0,
      "outputs": []
    },
    {
      "cell_type": "markdown",
      "metadata": {
        "id": "Qmy3SWtnvVCI",
        "colab_type": "text"
      },
      "source": [
        "### Set up data for training word embedding model doc2vec"
      ]
    },
    {
      "cell_type": "code",
      "metadata": {
        "id": "mCBc51q9vVCI",
        "colab_type": "code",
        "colab": {}
      },
      "source": [
        "X_train, X_test = train_test_split(cleaned_data, test_size=0.25, random_state=42)"
      ],
      "execution_count": 0,
      "outputs": []
    },
    {
      "cell_type": "code",
      "metadata": {
        "id": "mcCxo1T7vVCJ",
        "colab_type": "code",
        "colab": {}
      },
      "source": [
        "def process_corpus(data, tokens_only=False):\n",
        "    for i in tqdm(range(0, len(data))):\n",
        "        text = data.iloc[i, 0]\n",
        "        index = data.iloc[i,1]\n",
        "        \n",
        "        if tokens_only:\n",
        "            yield gensim.utils.simple_preprocess(text)\n",
        "        else:\n",
        "            # For training data, add tags\n",
        "            yield TaggedDocument(gensim.utils.simple_preprocess(text), [index])"
      ],
      "execution_count": 0,
      "outputs": []
    },
    {
      "cell_type": "code",
      "metadata": {
        "id": "KIb6qveXvVCL",
        "colab_type": "code",
        "colab": {}
      },
      "source": [
        "train_corpus = list(process_corpus(cleaned_data))"
      ],
      "execution_count": 0,
      "outputs": []
    },
    {
      "cell_type": "markdown",
      "metadata": {
        "id": "6ctZEnhXvVCM",
        "colab_type": "text"
      },
      "source": [
        "##### The current hyperparameters as they gave the best results, the distributed memory model seems to perform better more vector sizes hence the value of 100 was selected after multiple tests which did not yield good results. \n",
        "##### Min count was set to a higher value to avoid rare terms"
      ]
    },
    {
      "cell_type": "code",
      "metadata": {
        "id": "AAXV_GeDvVCM",
        "colab_type": "code",
        "colab": {}
      },
      "source": [
        "import multiprocessing\n",
        "cores = multiprocessing.cpu_count()\n",
        "\n",
        "models = [\n",
        "    # PV-DBOW \n",
        "    Doc2Vec(dm=0, dbow_words=1, window=8, min_count=19, vector_size=40, workers=cores),\n",
        "    # PV-DM w/average\n",
        "    Doc2Vec(dm=1, dm_mean=1, window=8, min_count=19, vector_size =100, workers=cores),\n",
        "]\n",
        "#model = Doc2Vec(dm=1, vector_size=40,min_count=10, epochs=100, workers=cores)"
      ],
      "execution_count": 0,
      "outputs": []
    },
    {
      "cell_type": "code",
      "metadata": {
        "id": "zGT9KTO6vVCO",
        "colab_type": "code",
        "colab": {}
      },
      "source": [
        "models[0].build_vocab(train_corpus)\n",
        "print(str(models[0]))\n",
        "models[1].reset_from(models[0])\n",
        "print(str(models[1]))"
      ],
      "execution_count": 0,
      "outputs": []
    },
    {
      "cell_type": "markdown",
      "metadata": {
        "id": "saHQe1DtvVCT",
        "colab_type": "text"
      },
      "source": [
        "##### Model overfits the data when there are more 40 epochs, however this remains to be tested further with differing hyperparameters, in my case a higher values causes the model to overfit."
      ]
    },
    {
      "cell_type": "code",
      "metadata": {
        "id": "5tYayueMvVCW",
        "colab_type": "code",
        "colab": {}
      },
      "source": [
        "for model in tqdm(models):\n",
        "    %time model.train(train_corpus, total_examples=model.corpus_count, epochs=40)"
      ],
      "execution_count": 0,
      "outputs": []
    },
    {
      "cell_type": "markdown",
      "metadata": {
        "id": "-in0kD7IvVCa",
        "colab_type": "text"
      },
      "source": [
        "### Test word relations, this yields synonyms and word relations"
      ]
    },
    {
      "cell_type": "code",
      "metadata": {
        "id": "2HDHIYuAvVCb",
        "colab_type": "code",
        "colab": {},
        "outputId": "342d4d80-05fe-4b73-803c-7268c2155eae"
      },
      "source": [
        "model[0].wv.most_similar(['mortality'])"
      ],
      "execution_count": 0,
      "outputs": [
        {
          "output_type": "execute_result",
          "data": {
            "text/plain": [
              "[('fatality', 0.6445885896682739),\n",
              " ('survival', 0.5999062061309814),\n",
              " ('incidence', 0.5373064279556274),\n",
              " ('lethality', 0.5291377305984497),\n",
              " ('death', 0.509006142616272),\n",
              " ('hospitalization', 0.4980815052986145),\n",
              " ('seropositivity', 0.4902401566505432),\n",
              " ('readmission', 0.46347740292549133),\n",
              " ('seroprevalence', 0.451874315738678),\n",
              " ('coinfection', 0.44803276658058167)]"
            ]
          },
          "metadata": {
            "tags": []
          },
          "execution_count": 43
        }
      ]
    },
    {
      "cell_type": "markdown",
      "metadata": {
        "id": "eU1uAB2MvVCi",
        "colab_type": "text"
      },
      "source": [
        "### Find articles by subject"
      ]
    },
    {
      "cell_type": "code",
      "metadata": {
        "id": "iB4pqDL-vVCk",
        "colab_type": "code",
        "colab": {}
      },
      "source": [
        "doc_x = 'animal'.split(' ')\n",
        "\n",
        "#distributed model which is model[1] misbehaves with few words, hence bow model was used\n",
        "test_inferred_vector = {}\n",
        "test_inferred_vector = models[0].infer_vector(doc_x)\n",
        "test_similar_docs = models[0].docvecs.most_similar([test_inferred_vector], topn=10)"
      ],
      "execution_count": 0,
      "outputs": []
    },
    {
      "cell_type": "markdown",
      "metadata": {
        "id": "Gzax1ZLBvVC2",
        "colab_type": "text"
      },
      "source": [
        "### Testing similarities in papers"
      ]
    },
    {
      "cell_type": "markdown",
      "metadata": {
        "id": "XwqLHPZwvVC3",
        "colab_type": "text"
      },
      "source": [
        "###### One can further retrain the model by excluding papers that are more directed at animal research\n",
        "###### data can be filtered as show, remove records that are in id_to_exclude list or find similar records"
      ]
    },
    {
      "cell_type": "markdown",
      "metadata": {
        "id": "0uaxA-YIvVC5",
        "colab_type": "text"
      },
      "source": [
        "###### <i style=\"color: red\">data = data[~data['paper_ids'].isin(id_to_exclude)]</i>"
      ]
    },
    {
      "cell_type": "code",
      "metadata": {
        "id": "ORCm5BXrvVC5",
        "colab_type": "code",
        "colab": {},
        "outputId": "dc23f2ca-23fd-46ae-eadb-3a9184764728"
      },
      "source": [
        "id_to_exclude = []\n",
        "for id in test_similar_docs:\n",
        "    id_to_exclude.append(id[0])\n",
        "    print(data[data['paper_ids'] == id[0]][['titles', 'paper_ids']].values[0])   "
      ],
      "execution_count": 0,
      "outputs": [
        {
          "output_type": "stream",
          "text": [
            "['Clinical Management of Captive Cheetahs'\n",
            " '095d29c85da8abc7d96e63e20f3f0051eb9ab373']\n",
            "['Pathogen exposure in endangered island fox (Urocyon littoralis) populations: Implications for conservation management'\n",
            " '145b849ffc443529651d531b40b392078823f4ec']\n",
            "['Genetic characterization of a new astrovirus detected in dogs suffering from diarrhoea'\n",
            " '7bb8b2a2d05a605169ac5614fef7ed49cd843dc8']\n",
            "['Assessment of Virally Vectored Autoimmunity as a Biocontrol Strategy for Cane Toads'\n",
            " '8ba5919b2b4c229c9c1685852cf19a1d727ac220']\n",
            "['Potential for Introduction of Bat-Borne Zoonotic Viruses into the EU: A Review'\n",
            " '38e37fa66e4acf2931dbc37ac44d66cce82bae55']\n",
            "['Synchronized shift of oral, faecal and urinary microbiotas in bats and natural infection dynamics during seasonal reproduction'\n",
            " '02aabb0b8eb8a3f3692e162442bbed19c5f915b6']\n",
            "['Peptide presentation by bat MHC class I provides new insight into the antiviral immunity of bats'\n",
            " '0d5f9dd2c1626d1d3a4228b838fc0bc666363a3c']\n",
            "['The Ubiquitin Proteasome System Plays a Role in Venezuelan Equine Encephalitis Virus Infection'\n",
            " '2bf3f075175c307923fc400707b30616a676419c']\n",
            "['Organization of cholinergic, catecholaminergic, serotonergic and orexinergic nuclei in three strepsirrhine primates: Galago demidoff, Perodicticus potto and Lemur catta'\n",
            " '121438bb49d3468a7dddb6b374ba84d47da00d63']\n",
            "['Safety evaluation of a recombinant myxoma-RHDV virus inducing horizontal transmissible protection against myxomatosis and rabbit haemorrhagic disease'\n",
            " '0beba87e3366b16efad5fc85a9fb2be33e63e019']\n"
          ],
          "name": "stdout"
        }
      ]
    },
    {
      "cell_type": "markdown",
      "metadata": {
        "id": "AvKYFhQ-vVC_",
        "colab_type": "text"
      },
      "source": [
        "### Find Related Articles"
      ]
    },
    {
      "cell_type": "code",
      "metadata": {
        "id": "PPhGcnQ8vVC_",
        "colab_type": "code",
        "colab": {}
      },
      "source": [
        "#randomly pick up a word\n",
        "def get_documents(doc, nth_records):\n",
        "    \n",
        "    similar = []\n",
        "    indeces = []\n",
        "    percentages = []\n",
        "    n_model = []\n",
        "    for model in models:\n",
        "        \n",
        "        inferred_vector = model.infer_vector(doc)\n",
        "        similar_docs = model.docvecs.most_similar([inferred_vector], topn= nth_records)\n",
        "        desc = []\n",
        "        for index, value in (similar_docs):\n",
        "            perc = round((value * 100), 2)\n",
        "            indeces.append(index)\n",
        "            percentages.append(perc)\n",
        "            n_model.append(model)\n",
        "                        \n",
        "    return pd.DataFrame({'index':indeces, 'percentage': percentages, 'model': n_model })"
      ],
      "execution_count": 0,
      "outputs": []
    },
    {
      "cell_type": "markdown",
      "metadata": {
        "id": "oIXdSyxivVDC",
        "colab_type": "text"
      },
      "source": [
        "##### Search for a related document in the corpus"
      ]
    },
    {
      "cell_type": "code",
      "metadata": {
        "id": "dOu3rNrcvVDC",
        "colab_type": "code",
        "colab": {}
      },
      "source": [
        "doc = '''readmissions of patient'''.split(' ')\n",
        "mydocs = get_documents(doc, 10)"
      ],
      "execution_count": 0,
      "outputs": []
    },
    {
      "cell_type": "code",
      "metadata": {
        "id": "bSnM8RYAvVDR",
        "colab_type": "code",
        "colab": {},
        "outputId": "9fc9587b-d296-47a5-c5c9-c26599f6df0c"
      },
      "source": [
        "mydocs"
      ],
      "execution_count": 0,
      "outputs": [
        {
          "output_type": "execute_result",
          "data": {
            "text/html": [
              "<div>\n",
              "<style scoped>\n",
              "    .dataframe tbody tr th:only-of-type {\n",
              "        vertical-align: middle;\n",
              "    }\n",
              "\n",
              "    .dataframe tbody tr th {\n",
              "        vertical-align: top;\n",
              "    }\n",
              "\n",
              "    .dataframe thead th {\n",
              "        text-align: right;\n",
              "    }\n",
              "</style>\n",
              "<table border=\"1\" class=\"dataframe\">\n",
              "  <thead>\n",
              "    <tr style=\"text-align: right;\">\n",
              "      <th></th>\n",
              "      <th>index</th>\n",
              "      <th>percentage</th>\n",
              "      <th>model</th>\n",
              "    </tr>\n",
              "  </thead>\n",
              "  <tbody>\n",
              "    <tr>\n",
              "      <th>0</th>\n",
              "      <td>8eb99586e9103599ab2f58cc33ca94cd0b60ae53</td>\n",
              "      <td>82.62</td>\n",
              "      <td>Doc2Vec(dm/m,d100,n5,w8,mc19,s0.001,t12)</td>\n",
              "    </tr>\n",
              "    <tr>\n",
              "      <th>1</th>\n",
              "      <td>75435342678d143b3fea48a288d1baa113d28a42</td>\n",
              "      <td>82.01</td>\n",
              "      <td>Doc2Vec(dm/m,d100,n5,w8,mc19,s0.001,t12)</td>\n",
              "    </tr>\n",
              "    <tr>\n",
              "      <th>2</th>\n",
              "      <td>2e3c6d9e2a2a8d2d9b43d5ae7b882c9a82557274</td>\n",
              "      <td>81.04</td>\n",
              "      <td>Doc2Vec(dm/m,d100,n5,w8,mc19,s0.001,t12)</td>\n",
              "    </tr>\n",
              "    <tr>\n",
              "      <th>3</th>\n",
              "      <td>3078165241b24fed34596efa9f563661f1caa00c</td>\n",
              "      <td>80.28</td>\n",
              "      <td>Doc2Vec(dm/m,d100,n5,w8,mc19,s0.001,t12)</td>\n",
              "    </tr>\n",
              "    <tr>\n",
              "      <th>4</th>\n",
              "      <td>196d55353760e8e1ddbc2e2cce92f806351b747c</td>\n",
              "      <td>79.85</td>\n",
              "      <td>Doc2Vec(dm/m,d100,n5,w8,mc19,s0.001,t12)</td>\n",
              "    </tr>\n",
              "    <tr>\n",
              "      <th>5</th>\n",
              "      <td>88c599b1de8a17cd519f9f72aaaea28392f697f0</td>\n",
              "      <td>79.66</td>\n",
              "      <td>Doc2Vec(dm/m,d100,n5,w8,mc19,s0.001,t12)</td>\n",
              "    </tr>\n",
              "    <tr>\n",
              "      <th>6</th>\n",
              "      <td>7ec733f3684d6294483b03df183878ad777a78d9</td>\n",
              "      <td>79.59</td>\n",
              "      <td>Doc2Vec(dm/m,d100,n5,w8,mc19,s0.001,t12)</td>\n",
              "    </tr>\n",
              "    <tr>\n",
              "      <th>7</th>\n",
              "      <td>210b30ec755f5d8b0622c78a8e570290293bf49f</td>\n",
              "      <td>79.51</td>\n",
              "      <td>Doc2Vec(dm/m,d100,n5,w8,mc19,s0.001,t12)</td>\n",
              "    </tr>\n",
              "    <tr>\n",
              "      <th>8</th>\n",
              "      <td>1ac070de6fe30924deb4ea2b0b8259884bde7121</td>\n",
              "      <td>79.39</td>\n",
              "      <td>Doc2Vec(dm/m,d100,n5,w8,mc19,s0.001,t12)</td>\n",
              "    </tr>\n",
              "    <tr>\n",
              "      <th>9</th>\n",
              "      <td>2ed23e6fe433d2ce14436eaa68a9ab6240a00500</td>\n",
              "      <td>79.12</td>\n",
              "      <td>Doc2Vec(dm/m,d100,n5,w8,mc19,s0.001,t12)</td>\n",
              "    </tr>\n",
              "  </tbody>\n",
              "</table>\n",
              "</div>"
            ],
            "text/plain": [
              "                                      index  percentage  \\\n",
              "0  8eb99586e9103599ab2f58cc33ca94cd0b60ae53       82.62   \n",
              "1  75435342678d143b3fea48a288d1baa113d28a42       82.01   \n",
              "2  2e3c6d9e2a2a8d2d9b43d5ae7b882c9a82557274       81.04   \n",
              "3  3078165241b24fed34596efa9f563661f1caa00c       80.28   \n",
              "4  196d55353760e8e1ddbc2e2cce92f806351b747c       79.85   \n",
              "5  88c599b1de8a17cd519f9f72aaaea28392f697f0       79.66   \n",
              "6  7ec733f3684d6294483b03df183878ad777a78d9       79.59   \n",
              "7  210b30ec755f5d8b0622c78a8e570290293bf49f       79.51   \n",
              "8  1ac070de6fe30924deb4ea2b0b8259884bde7121       79.39   \n",
              "9  2ed23e6fe433d2ce14436eaa68a9ab6240a00500       79.12   \n",
              "\n",
              "                                      model  \n",
              "0  Doc2Vec(dm/m,d100,n5,w8,mc19,s0.001,t12)  \n",
              "1  Doc2Vec(dm/m,d100,n5,w8,mc19,s0.001,t12)  \n",
              "2  Doc2Vec(dm/m,d100,n5,w8,mc19,s0.001,t12)  \n",
              "3  Doc2Vec(dm/m,d100,n5,w8,mc19,s0.001,t12)  \n",
              "4  Doc2Vec(dm/m,d100,n5,w8,mc19,s0.001,t12)  \n",
              "5  Doc2Vec(dm/m,d100,n5,w8,mc19,s0.001,t12)  \n",
              "6  Doc2Vec(dm/m,d100,n5,w8,mc19,s0.001,t12)  \n",
              "7  Doc2Vec(dm/m,d100,n5,w8,mc19,s0.001,t12)  \n",
              "8  Doc2Vec(dm/m,d100,n5,w8,mc19,s0.001,t12)  \n",
              "9  Doc2Vec(dm/m,d100,n5,w8,mc19,s0.001,t12)  "
            ]
          },
          "metadata": {
            "tags": []
          },
          "execution_count": 61
        }
      ]
    },
    {
      "cell_type": "markdown",
      "metadata": {
        "id": "I9S5ldddvVDa",
        "colab_type": "text"
      },
      "source": [
        "##### Find articles only in specified sections, we use this filter because the model was trained with all the sections of the paper, however in order to find comorbidities one would have to find a related section for instance the methodology section would talk about the characteristics of the patients. Also another problem is that the sections do not follow the same naming structure which makes it difficult to focus on a specific section hence in this notebook also search for related section "
      ]
    },
    {
      "cell_type": "code",
      "metadata": {
        "id": "sqJHDjMFvVDb",
        "colab_type": "code",
        "colab": {}
      },
      "source": [
        "def get_related_sections(target_section):\n",
        "    \n",
        "    target = nlp(target_section)\n",
        "    _targets = []\n",
        "    _sections = []\n",
        "    _sims = []\n",
        "    _paperids = []\n",
        "    \n",
        "    #only filter sections from the related documents\n",
        "    for i in (range(0, len(mydocs))):\n",
        "        \n",
        "        #filter out introduction and background sections \n",
        "        sections = (data[(data['paper_ids'] == mydocs.iloc[i, 0]) & (~data['sections'].str.lower().str.contains('introduction')) & (~data['sections'].str.lower().str.contains('background'))][['sections']].drop_duplicates())\n",
        "        \n",
        "        for section in sections['sections']:\n",
        "            section = section.lower()\n",
        "            x_section = nlp(section)\n",
        "\n",
        "            #for non-null sections find other sections related to that one\n",
        "            if (len(section) > 0):\n",
        "                similarity = target.similarity(x_section)\n",
        "            else:\n",
        "                similarity = 0\n",
        "\n",
        "            _paperids.append(mydocs.iloc[i, 0])\n",
        "            _targets.append(target_section)\n",
        "            _sections.append(section)\n",
        "            _sims.append(similarity)\n",
        "\n",
        "    return pd.DataFrame({'paperids': _paperids, 'target': _targets, 'section':_sections, 'similarity': _sims })"
      ],
      "execution_count": 0,
      "outputs": []
    },
    {
      "cell_type": "code",
      "metadata": {
        "id": "zse5q5wZvVDe",
        "colab_type": "code",
        "colab": {},
        "outputId": "84884e30-199a-4b4f-fc66-dc8b8ce2afa5"
      },
      "source": [
        "get_related_sections('comorbidities')"
      ],
      "execution_count": 0,
      "outputs": [
        {
          "output_type": "stream",
          "text": [
            "C:\\Users\\MNgwenya\\AppData\\Local\\Programs\\Python\\Python37\\lib\\runpy.py:193: UserWarning: [W008] Evaluating Doc.similarity based on empty vectors.\n",
            "  \"__main__\", mod_spec)\n"
          ],
          "name": "stderr"
        },
        {
          "output_type": "execute_result",
          "data": {
            "text/html": [
              "<div>\n",
              "<style scoped>\n",
              "    .dataframe tbody tr th:only-of-type {\n",
              "        vertical-align: middle;\n",
              "    }\n",
              "\n",
              "    .dataframe tbody tr th {\n",
              "        vertical-align: top;\n",
              "    }\n",
              "\n",
              "    .dataframe thead th {\n",
              "        text-align: right;\n",
              "    }\n",
              "</style>\n",
              "<table border=\"1\" class=\"dataframe\">\n",
              "  <thead>\n",
              "    <tr style=\"text-align: right;\">\n",
              "      <th></th>\n",
              "      <th>paperids</th>\n",
              "      <th>target</th>\n",
              "      <th>section</th>\n",
              "      <th>similarity</th>\n",
              "    </tr>\n",
              "  </thead>\n",
              "  <tbody>\n",
              "    <tr>\n",
              "      <th>0</th>\n",
              "      <td>8eb99586e9103599ab2f58cc33ca94cd0b60ae53</td>\n",
              "      <td>comorbidities</td>\n",
              "      <td>sample collection and analysis</td>\n",
              "      <td>0.052703</td>\n",
              "    </tr>\n",
              "    <tr>\n",
              "      <th>1</th>\n",
              "      <td>8eb99586e9103599ab2f58cc33ca94cd0b60ae53</td>\n",
              "      <td>comorbidities</td>\n",
              "      <td>phenotypic and epidemiological typing</td>\n",
              "      <td>0.398466</td>\n",
              "    </tr>\n",
              "    <tr>\n",
              "      <th>2</th>\n",
              "      <td>8eb99586e9103599ab2f58cc33ca94cd0b60ae53</td>\n",
              "      <td>comorbidities</td>\n",
              "      <td>ecological analysis</td>\n",
              "      <td>0.173376</td>\n",
              "    </tr>\n",
              "    <tr>\n",
              "      <th>3</th>\n",
              "      <td>8eb99586e9103599ab2f58cc33ca94cd0b60ae53</td>\n",
              "      <td>comorbidities</td>\n",
              "      <td>nestedness</td>\n",
              "      <td>0.000000</td>\n",
              "    </tr>\n",
              "    <tr>\n",
              "      <th>4</th>\n",
              "      <td>8eb99586e9103599ab2f58cc33ca94cd0b60ae53</td>\n",
              "      <td>comorbidities</td>\n",
              "      <td>species distributions</td>\n",
              "      <td>0.196752</td>\n",
              "    </tr>\n",
              "    <tr>\n",
              "      <th>...</th>\n",
              "      <td>...</td>\n",
              "      <td>...</td>\n",
              "      <td>...</td>\n",
              "      <td>...</td>\n",
              "    </tr>\n",
              "    <tr>\n",
              "      <th>171</th>\n",
              "      <td>2ed23e6fe433d2ce14436eaa68a9ab6240a00500</td>\n",
              "      <td>comorbidities</td>\n",
              "      <td>broad and higher antiviral activity</td>\n",
              "      <td>0.215885</td>\n",
              "    </tr>\n",
              "    <tr>\n",
              "      <th>172</th>\n",
              "      <td>2ed23e6fe433d2ce14436eaa68a9ab6240a00500</td>\n",
              "      <td>comorbidities</td>\n",
              "      <td>the \"outliers\" of the unconventional ifn subtypes</td>\n",
              "      <td>0.193731</td>\n",
              "    </tr>\n",
              "    <tr>\n",
              "      <th>173</th>\n",
              "      <td>2ed23e6fe433d2ce14436eaa68a9ab6240a00500</td>\n",
              "      <td>comorbidities</td>\n",
              "      <td>discussion</td>\n",
              "      <td>0.016364</td>\n",
              "    </tr>\n",
              "    <tr>\n",
              "      <th>174</th>\n",
              "      <td>2ed23e6fe433d2ce14436eaa68a9ab6240a00500</td>\n",
              "      <td>comorbidities</td>\n",
              "      <td>data availability</td>\n",
              "      <td>0.161810</td>\n",
              "    </tr>\n",
              "    <tr>\n",
              "      <th>175</th>\n",
              "      <td>2ed23e6fe433d2ce14436eaa68a9ab6240a00500</td>\n",
              "      <td>comorbidities</td>\n",
              "      <td>author contributions</td>\n",
              "      <td>0.030932</td>\n",
              "    </tr>\n",
              "  </tbody>\n",
              "</table>\n",
              "<p>176 rows × 4 columns</p>\n",
              "</div>"
            ],
            "text/plain": [
              "                                     paperids         target  \\\n",
              "0    8eb99586e9103599ab2f58cc33ca94cd0b60ae53  comorbidities   \n",
              "1    8eb99586e9103599ab2f58cc33ca94cd0b60ae53  comorbidities   \n",
              "2    8eb99586e9103599ab2f58cc33ca94cd0b60ae53  comorbidities   \n",
              "3    8eb99586e9103599ab2f58cc33ca94cd0b60ae53  comorbidities   \n",
              "4    8eb99586e9103599ab2f58cc33ca94cd0b60ae53  comorbidities   \n",
              "..                                        ...            ...   \n",
              "171  2ed23e6fe433d2ce14436eaa68a9ab6240a00500  comorbidities   \n",
              "172  2ed23e6fe433d2ce14436eaa68a9ab6240a00500  comorbidities   \n",
              "173  2ed23e6fe433d2ce14436eaa68a9ab6240a00500  comorbidities   \n",
              "174  2ed23e6fe433d2ce14436eaa68a9ab6240a00500  comorbidities   \n",
              "175  2ed23e6fe433d2ce14436eaa68a9ab6240a00500  comorbidities   \n",
              "\n",
              "                                               section  similarity  \n",
              "0                       sample collection and analysis    0.052703  \n",
              "1                phenotypic and epidemiological typing    0.398466  \n",
              "2                                  ecological analysis    0.173376  \n",
              "3                                           nestedness    0.000000  \n",
              "4                                species distributions    0.196752  \n",
              "..                                                 ...         ...  \n",
              "171                broad and higher antiviral activity    0.215885  \n",
              "172  the \"outliers\" of the unconventional ifn subtypes    0.193731  \n",
              "173                                         discussion    0.016364  \n",
              "174                                  data availability    0.161810  \n",
              "175                               author contributions    0.030932  \n",
              "\n",
              "[176 rows x 4 columns]"
            ]
          },
          "metadata": {
            "tags": []
          },
          "execution_count": 63
        }
      ]
    },
    {
      "cell_type": "markdown",
      "metadata": {
        "id": "gH8r13qnvVDi",
        "colab_type": "text"
      },
      "source": [
        "### Identify diseases mentioned per paper"
      ]
    },
    {
      "cell_type": "code",
      "metadata": {
        "id": "L0bVOss-vVDj",
        "colab_type": "code",
        "colab": {}
      },
      "source": [
        "def print_diseases_by_section(section):\n",
        "    diseases = []\n",
        "    paperids = []\n",
        "    \n",
        "    sims_sections_df = get_related_sections(section)\n",
        "    \n",
        "    # only take section that have are more than 45% similary to the searched for section\n",
        "    # so sections such as findings and results are more similar\n",
        "    filtered_sections = sims_sections_df[sims_sections_df['similarity'] > 0.45].sort_values('similarity', ascending=False)\n",
        "    \n",
        "    for i in (range(0, len(filtered_sections) - 120)):\n",
        "        doc_x = (data[(data['paper_ids'] == filtered_sections.iloc[i, 0]) & (data['sections'].str.lower()== filtered_sections.iloc[i, 2])][['fulltext']].values)\n",
        "        \n",
        "        if (len(doc_x) > 0):\n",
        "            perc = filtered_sections.iloc[i, 3] * 100\n",
        "            #this simply shows sections with matching percentages\n",
        "            print(str(\"{:.2f}\".format(round(perc, 2))) + '% Section >>>', filtered_sections.iloc[i, 2])\n",
        "            \n",
        "            #display output and return disease mentioned per paperid\n",
        "            output = display_entities(en_ner_bc5cdr_md, doc_x[0][0])\n",
        "            \n",
        "            diseases.append(output)\n",
        "            paperids.append(sims_sections_df.iloc[i, 0])\n",
        "    return pd.DataFrame({'diseases': diseases, 'paperids': paperids})"
      ],
      "execution_count": 0,
      "outputs": []
    },
    {
      "cell_type": "code",
      "metadata": {
        "id": "sfwqrTkDvVD3",
        "colab_type": "code",
        "colab": {}
      },
      "source": [
        "def display_entities(model, document):\n",
        "    nlp = model.load()\n",
        "    _document = document.lower()\n",
        "    doc = nlp(_document)\n",
        "    colors = {\n",
        "    'CHEMICAL': '#ffffff',\n",
        "    'DISEASE': '#b9ebcc',\n",
        "    }\n",
        "    \n",
        "    counter = 0\n",
        "    for e in doc.ents:\n",
        "        if (e.label_ == 'DISEASE'):\n",
        "            counter += 1\n",
        "            if (counter > 1):\n",
        "                \n",
        "                displacy.render(doc, jupyter=True, style='ent', options= {\"colors\": colors})\n",
        "                entity_and_label = [(x.text, x.label_) for x in doc.ents if x.label_ == 'DISEASE']\n",
        "        \n",
        "                return entity_and_label "
      ],
      "execution_count": 0,
      "outputs": []
    },
    {
      "cell_type": "code",
      "metadata": {
        "id": "BN91cC81vVEK",
        "colab_type": "code",
        "colab": {},
        "outputId": "48a6a992-2be5-4631-dc46-00bae4d04903"
      },
      "source": [
        "section = 'comorbidities'\n",
        "output = print_diseases_by_section(section)"
      ],
      "execution_count": 0,
      "outputs": [
        {
          "output_type": "stream",
          "text": [
            "C:\\Users\\MNgwenya\\AppData\\Local\\Programs\\Python\\Python37\\lib\\runpy.py:193: UserWarning: [W008] Evaluating Doc.similarity based on empty vectors.\n",
            "  \"__main__\", mod_spec)\n"
          ],
          "name": "stderr"
        }
      ]
    },
    {
      "cell_type": "markdown",
      "metadata": {
        "id": "Axxv3oWEvVEO",
        "colab_type": "text"
      },
      "source": [
        "### Get most common diseases mentioned together"
      ]
    },
    {
      "cell_type": "markdown",
      "metadata": {
        "id": "GPEenPefvVEO",
        "colab_type": "text"
      },
      "source": [
        "### Get comorbidity associations e.g. (linked to/related to/associated with)"
      ]
    },
    {
      "cell_type": "markdown",
      "metadata": {
        "id": "Zv2TrADSvVEP",
        "colab_type": "text"
      },
      "source": [
        "### Mortality rates mentioned with diseases (higher/lower/%)"
      ]
    },
    {
      "cell_type": "markdown",
      "metadata": {
        "id": "GUM3YZMjvVEP",
        "colab_type": "text"
      },
      "source": [
        "### Comparisons in relation to comorbidities e.g. (more than/greater than/less than)"
      ]
    },
    {
      "cell_type": "markdown",
      "metadata": {
        "id": "FJotCARNvVEQ",
        "colab_type": "text"
      },
      "source": [
        "### Prevalence of comorbidities in COPD (chronic obstructive pulmonary disease)"
      ]
    },
    {
      "cell_type": "markdown",
      "metadata": {
        "id": "s8IpPU-1vVEQ",
        "colab_type": "text"
      },
      "source": [
        "### Save models for later use"
      ]
    },
    {
      "cell_type": "code",
      "metadata": {
        "id": "n3ajH06gvVER",
        "colab_type": "code",
        "colab": {}
      },
      "source": [
        "model_path = \"C:\\\\covidwhy.d2v\"\n",
        "model.save(model_path)"
      ],
      "execution_count": 0,
      "outputs": []
    },
    {
      "cell_type": "code",
      "metadata": {
        "id": "pKCefEzfvVEx",
        "colab_type": "code",
        "colab": {}
      },
      "source": [
        "model_path = \"C:\\\\covidwhy.d2v\"\n",
        "model = Doc2Vec.load(model_path)"
      ],
      "execution_count": 0,
      "outputs": []
    },
    {
      "cell_type": "code",
      "metadata": {
        "id": "xks_qGcevVE7",
        "colab_type": "code",
        "colab": {}
      },
      "source": [
        ""
      ],
      "execution_count": 0,
      "outputs": []
    }
  ]
}