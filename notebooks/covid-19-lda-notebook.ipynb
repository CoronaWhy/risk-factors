{
 "cells": [
  {
   "cell_type": "markdown",
   "metadata": {
    "colab_type": "text",
    "id": "T_USq_DTBgho"
   },
   "source": [
    "# Importing Key Libraries"
   ]
  },
  {
   "cell_type": "code",
   "execution_count": 1,
   "metadata": {
    "colab": {},
    "colab_type": "code",
    "id": "ptFn63qqBghr"
   },
   "outputs": [],
   "source": [
    "import os\n",
    "import glob\n",
    "import json\n",
    "import pandas as pd\n",
    "from sklearn.feature_extraction.text import TfidfVectorizer,CountVectorizer\n",
    "from sklearn.decomposition import LatentDirichletAllocation\n",
    "from tqdm.notebook import tqdm"
   ]
  },
  {
   "cell_type": "markdown",
   "metadata": {
    "colab_type": "text",
    "id": "01QjldBsBghx"
   },
   "source": [
    "# Reading in the data"
   ]
  },
  {
   "cell_type": "code",
   "execution_count": 2,
   "metadata": {
    "colab": {},
    "colab_type": "code",
    "id": "sGipnonFBghy",
    "outputId": "3dc53757-3b25-4e30-ae05-017fb5e854b5"
   },
   "outputs": [
    {
     "data": {
      "text/plain": [
       "9315"
      ]
     },
     "execution_count": 2,
     "metadata": {},
     "output_type": "execute_result"
    }
   ],
   "source": [
    "all_json_paths = glob.glob(f'/kaggle/input/CORD-19-research-challenge/comm_use_subset/comm_use_subset/*.json', recursive=True)\n",
    "len(all_json_paths)"
   ]
  },
  {
   "cell_type": "code",
   "execution_count": 3,
   "metadata": {
    "colab": {},
    "colab_type": "code",
    "id": "kRrcR3p6Bgh5",
    "outputId": "21210341-e78f-4701-a45f-7ece34070b93"
   },
   "outputs": [
    {
     "name": "stdout",
     "output_type": "stream",
     "text": [
      "Processing index: 0 of 9315\n",
      "Processing index: 931 of 9315\n",
      "Processing index: 1862 of 9315\n",
      "Processing index: 2793 of 9315\n",
      "Processing index: 3724 of 9315\n",
      "Processing index: 4655 of 9315\n",
      "Processing index: 5586 of 9315\n",
      "Processing index: 6517 of 9315\n",
      "Processing index: 7448 of 9315\n",
      "Processing index: 8379 of 9315\n",
      "Processing index: 9310 of 9315\n"
     ]
    },
    {
     "data": {
      "text/html": [
       "<div>\n",
       "<style scoped>\n",
       "    .dataframe tbody tr th:only-of-type {\n",
       "        vertical-align: middle;\n",
       "    }\n",
       "\n",
       "    .dataframe tbody tr th {\n",
       "        vertical-align: top;\n",
       "    }\n",
       "\n",
       "    .dataframe thead th {\n",
       "        text-align: right;\n",
       "    }\n",
       "</style>\n",
       "<table border=\"1\" class=\"dataframe\">\n",
       "  <thead>\n",
       "    <tr style=\"text-align: right;\">\n",
       "      <th></th>\n",
       "      <th>paper_id</th>\n",
       "      <th>abstract</th>\n",
       "      <th>body_text</th>\n",
       "      <th>biblio</th>\n",
       "      <th>img_tables</th>\n",
       "    </tr>\n",
       "  </thead>\n",
       "  <tbody>\n",
       "    <tr>\n",
       "      <th>count</th>\n",
       "      <td>8318</td>\n",
       "      <td>8318</td>\n",
       "      <td>8318</td>\n",
       "      <td>8318</td>\n",
       "      <td>8318</td>\n",
       "    </tr>\n",
       "    <tr>\n",
       "      <th>unique</th>\n",
       "      <td>8318</td>\n",
       "      <td>8318</td>\n",
       "      <td>8318</td>\n",
       "      <td>8316</td>\n",
       "      <td>8116</td>\n",
       "    </tr>\n",
       "    <tr>\n",
       "      <th>top</th>\n",
       "      <td>24708179db3a64c831215a30805bf37e6d27ccf7</td>\n",
       "      <td>Prior studies of clay-virus interactions have ...</td>\n",
       "      <td>The term \"comorbidity\" refers to the coexisten...</td>\n",
       "      <td>Ebola by the numbers: The size, spread and cos...</td>\n",
       "      <td></td>\n",
       "    </tr>\n",
       "    <tr>\n",
       "      <th>freq</th>\n",
       "      <td>1</td>\n",
       "      <td>1</td>\n",
       "      <td>1</td>\n",
       "      <td>2</td>\n",
       "      <td>202</td>\n",
       "    </tr>\n",
       "  </tbody>\n",
       "</table>\n",
       "</div>"
      ],
      "text/plain": [
       "                                        paper_id  \\\n",
       "count                                       8318   \n",
       "unique                                      8318   \n",
       "top     24708179db3a64c831215a30805bf37e6d27ccf7   \n",
       "freq                                           1   \n",
       "\n",
       "                                                 abstract  \\\n",
       "count                                                8318   \n",
       "unique                                               8318   \n",
       "top     Prior studies of clay-virus interactions have ...   \n",
       "freq                                                    1   \n",
       "\n",
       "                                                body_text  \\\n",
       "count                                                8318   \n",
       "unique                                               8318   \n",
       "top     The term \"comorbidity\" refers to the coexisten...   \n",
       "freq                                                    1   \n",
       "\n",
       "                                                   biblio img_tables  \n",
       "count                                                8318       8318  \n",
       "unique                                               8316       8116  \n",
       "top     Ebola by the numbers: The size, spread and cos...             \n",
       "freq                                                    2        202  "
      ]
     },
     "execution_count": 3,
     "metadata": {},
     "output_type": "execute_result"
    }
   ],
   "source": [
    "#source:https://www.kaggle.com/amogh05/cord-19-eda-question-topic-modeling-starter\n",
    "#add more vars as required\n",
    "\n",
    "class FileReader:\n",
    "    def __init__(self, file_path):\n",
    "        with open(file_path) as file:\n",
    "            content = json.load(file)\n",
    "            self.paper_id = content['paper_id']\n",
    "            self.title = content['metadata']['title']\n",
    "            self.abstract = []\n",
    "            self.body_text = []\n",
    "            self.biblio = []\n",
    "            self.biblio_doi = []\n",
    "            self.img_tables = []\n",
    "            self.back_matter = []\n",
    "            \n",
    "            \n",
    "            # Abstract\n",
    "            for entry in content['abstract']:\n",
    "                self.abstract.append(entry['text'])\n",
    "            self.abstract = '\\n'.join(self.abstract)\n",
    "            \n",
    "            # Body text\n",
    "            for entry in content['body_text']:\n",
    "                self.body_text.append(entry['text'])          \n",
    "            self.body_text = '\\n'.join(self.body_text)\n",
    "            \n",
    "            # bibliography\n",
    "            for bib_id, details in content['bib_entries'].items():\n",
    "                self.biblio.append(details['title'])\n",
    "                self.biblio_doi.append(details['other_ids'])\n",
    "            self.biblio = '\\n'.join(self.biblio)\n",
    "            #self.biblio_doi = '\\n'.join(self.biblio_doi)\n",
    "            \n",
    "            #img and table references\n",
    "            for ref_id,details in content['ref_entries'].items():\n",
    "                self.img_tables.append(details['text'])\n",
    "            self.img_tables = '\\n'.join(self.img_tables)\n",
    "            \n",
    "            #back_matter\n",
    "            for entry in content['back_matter']:\n",
    "                self.back_matter.append(entry['text'])\n",
    "            self.back_matter = '\\n'.join(self.back_matter)\n",
    "            \n",
    "    def __repr__(self):\n",
    "        return f'{self.paper_id}:{self.title}-{self.abstract}... {self.body_text}...{self.biblio}...{self.img_tables}...{self.back_matter}'\n",
    "        \n",
    "    \n",
    "dict_ = {'paper_id': [],'title':[], 'abstract': [], 'body_text': [],'biblio':[],'bidoi':[],'img_tables':[]}\n",
    "for idx, entry in enumerate(all_json_paths):\n",
    "    if idx % (len(all_json_paths) // 10) == 0:\n",
    "        print(f'Processing index: {idx} of {len(all_json_paths)}')\n",
    "    #print(entry)\n",
    "    content = FileReader(entry)\n",
    "    dict_['paper_id'].append(content.paper_id)\n",
    "    dict_['title'].append(content.title)\n",
    "    dict_['abstract'].append(content.abstract)\n",
    "    dict_['body_text'].append(content.body_text)\n",
    "    dict_['biblio'].append(content.biblio)   \n",
    "    dict_['img_tables'].append(content.img_tables)  \n",
    "df_covid = pd.DataFrame(dict_, columns=['paper_id', 'abstract', 'body_text','biblio','img_tables'])\n",
    "df_covid.head()\n",
    "\n",
    "#identify dups\n",
    "df_covid.describe(include='all')\n",
    "\n",
    "df_covid.drop_duplicates(['abstract'], inplace=True)\n",
    "df_covid.describe(include='all')"
   ]
  },
  {
   "cell_type": "code",
   "execution_count": 4,
   "metadata": {
    "colab": {},
    "colab_type": "code",
    "id": "R4g3odpnBgh8"
   },
   "outputs": [],
   "source": [
    "df_covid['all_text'] = df_covid['abstract'] + '' + df_covid['body_text'] "
   ]
  },
  {
   "cell_type": "markdown",
   "metadata": {
    "colab_type": "text",
    "id": "DzSi43YiBgh_"
   },
   "source": [
    "# Find synonyms"
   ]
  },
  {
   "cell_type": "code",
   "execution_count": 5,
   "metadata": {
    "colab": {},
    "colab_type": "code",
    "id": "rP4LiZK6Bgh_",
    "outputId": "354c606d-1375-4ee6-b9ab-d50c77026cb1"
   },
   "outputs": [
    {
     "name": "stdout",
     "output_type": "stream",
     "text": [
      "{'vulnerability', 'photo', 'picture', 'photograph', 'pic', 'exposure'}\n"
     ]
    }
   ],
   "source": [
    "#This approach does not work well:  defining a list is better\n",
    "import nltk \n",
    "from nltk.corpus import wordnet \n",
    "synonyms = [] \n",
    "\n",
    "  \n",
    "for syn in wordnet.synsets('exposure'): \n",
    "    for l in syn.lemmas(): \n",
    "        synonyms.append(l.name()) \n",
    "        if l.antonyms(): \n",
    "            antonyms.append(l.antonyms()[0].name())\n",
    "print(set(synonyms))"
   ]
  },
  {
   "cell_type": "code",
   "execution_count": 6,
   "metadata": {
    "colab": {},
    "colab_type": "code",
    "id": "bgcCgM0dBgiC"
   },
   "outputs": [],
   "source": [
    "#defining a list better\n",
    "stage_syn_list = ['exposure','vulnerability','vulnerable'] "
   ]
  },
  {
   "cell_type": "markdown",
   "metadata": {
    "colab_type": "text",
    "id": "5HeiIWjBBgiF"
   },
   "source": [
    "# Filter By Stage"
   ]
  },
  {
   "cell_type": "code",
   "execution_count": 7,
   "metadata": {
    "colab": {},
    "colab_type": "code",
    "id": "psF8crebBgiG"
   },
   "outputs": [],
   "source": [
    "disease_stage_list = ['exposure' ,'acquisition' ,'progression', 'development' ,'complications' ,'fatality', 'disability']"
   ]
  },
  {
   "cell_type": "code",
   "execution_count": 8,
   "metadata": {
    "colab": {},
    "colab_type": "code",
    "id": "799CUu-QBgiJ"
   },
   "outputs": [],
   "source": [
    "def filterByStage(text,stage_syn_list):\n",
    "    paper_list =[]\n",
    "    \n",
    "    for idx_num,row in text.iterrows():\n",
    "        for stage in stage_syn_list:\n",
    "            stage_found = False\n",
    "            if stage in row.all_text.split():\n",
    "                stage_found = True\n",
    "            else:\n",
    "                pass \n",
    "        if stage_found==True:\n",
    "            paper_list.append(row.all_text)\n",
    "    return paper_list"
   ]
  },
  {
   "cell_type": "code",
   "execution_count": 9,
   "metadata": {
    "colab": {},
    "colab_type": "code",
    "id": "f--Oywl2BgiM"
   },
   "outputs": [],
   "source": [
    "stage_dict = {}\n",
    "\n",
    "stage = disease_stage_list[0]\n",
    "\n",
    "stage_dict[stage] = filterByStage(df_covid,stage_syn_list)"
   ]
  },
  {
   "cell_type": "code",
   "execution_count": 10,
   "metadata": {
    "colab": {},
    "colab_type": "code",
    "id": "KqBwy-cBBgiO"
   },
   "outputs": [],
   "source": [
    "#for later ease while searching for relevant papers\n",
    "exposure = pd.DataFrame(stage_dict[stage])"
   ]
  },
  {
   "cell_type": "markdown",
   "metadata": {
    "colab_type": "text",
    "id": "kVZ7kb-lBgiR"
   },
   "source": [
    "# NLP Starts"
   ]
  },
  {
   "cell_type": "code",
   "execution_count": 11,
   "metadata": {},
   "outputs": [
    {
     "name": "stdout",
     "output_type": "stream",
     "text": [
      "Collecting scispacy\r\n",
      "  Downloading scispacy-0.2.4.tar.gz (38 kB)\r\n",
      "Requirement already satisfied: scipy in /opt/conda/lib/python3.6/site-packages (1.4.1)\r\n",
      "Requirement already satisfied: spacy>=2.2.1 in /opt/conda/lib/python3.6/site-packages (from scispacy) (2.2.3)\r\n",
      "Collecting awscli\r\n",
      "  Downloading awscli-1.18.31-py2.py3-none-any.whl (3.0 MB)\r\n",
      "\u001b[K     |████████████████████████████████| 3.0 MB 3.0 MB/s \r\n",
      "\u001b[?25hRequirement already satisfied: conllu in /opt/conda/lib/python3.6/site-packages (from scispacy) (1.3.1)\r\n",
      "Requirement already satisfied: numpy in /opt/conda/lib/python3.6/site-packages (from scispacy) (1.18.1)\r\n",
      "Requirement already satisfied: joblib in /opt/conda/lib/python3.6/site-packages (from scispacy) (0.14.1)\r\n",
      "Collecting nmslib>=1.7.3.6\r\n",
      "  Downloading nmslib-2.0.5-cp36-cp36m-manylinux2010_x86_64.whl (12.9 MB)\r\n",
      "\u001b[K     |████████████████████████████████| 12.9 MB 16.3 MB/s \r\n",
      "\u001b[?25hRequirement already satisfied: scikit-learn>=0.20.3 in /opt/conda/lib/python3.6/site-packages (from scispacy) (0.22.2.post1)\r\n",
      "Collecting pysbd\r\n",
      "  Downloading pysbd-0.2.3-py3-none-any.whl (24 kB)\r\n",
      "Requirement already satisfied: requests<3.0.0,>=2.13.0 in /opt/conda/lib/python3.6/site-packages (from spacy>=2.2.1->scispacy) (2.22.0)\r\n",
      "Requirement already satisfied: plac<1.2.0,>=0.9.6 in /opt/conda/lib/python3.6/site-packages (from spacy>=2.2.1->scispacy) (0.9.6)\r\n",
      "Requirement already satisfied: wasabi<1.1.0,>=0.4.0 in /opt/conda/lib/python3.6/site-packages (from spacy>=2.2.1->scispacy) (0.6.0)\r\n",
      "Requirement already satisfied: srsly<1.1.0,>=0.1.0 in /opt/conda/lib/python3.6/site-packages (from spacy>=2.2.1->scispacy) (1.0.2)\r\n",
      "Requirement already satisfied: blis<0.5.0,>=0.4.0 in /opt/conda/lib/python3.6/site-packages (from spacy>=2.2.1->scispacy) (0.4.1)\r\n",
      "Requirement already satisfied: murmurhash<1.1.0,>=0.28.0 in /opt/conda/lib/python3.6/site-packages (from spacy>=2.2.1->scispacy) (1.0.2)\r\n",
      "Requirement already satisfied: catalogue<1.1.0,>=0.0.7 in /opt/conda/lib/python3.6/site-packages (from spacy>=2.2.1->scispacy) (1.0.0)\r\n",
      "Requirement already satisfied: cymem<2.1.0,>=2.0.2 in /opt/conda/lib/python3.6/site-packages (from spacy>=2.2.1->scispacy) (2.0.3)\r\n",
      "Requirement already satisfied: thinc<7.4.0,>=7.3.0 in /opt/conda/lib/python3.6/site-packages (from spacy>=2.2.1->scispacy) (7.3.1)\r\n",
      "Requirement already satisfied: setuptools in /opt/conda/lib/python3.6/site-packages (from spacy>=2.2.1->scispacy) (45.2.0.post20200210)\r\n",
      "Requirement already satisfied: preshed<3.1.0,>=3.0.2 in /opt/conda/lib/python3.6/site-packages (from spacy>=2.2.1->scispacy) (3.0.2)\r\n",
      "Collecting botocore==1.15.31\r\n",
      "  Downloading botocore-1.15.31-py2.py3-none-any.whl (6.0 MB)\r\n",
      "\u001b[K     |████████████████████████████████| 6.0 MB 47.3 MB/s \r\n",
      "\u001b[?25hRequirement already satisfied: docutils<0.16,>=0.10 in /opt/conda/lib/python3.6/site-packages (from awscli->scispacy) (0.15.2)\r\n",
      "Requirement already satisfied: colorama<0.4.4,>=0.2.5; python_version != \"3.4\" in /opt/conda/lib/python3.6/site-packages (from awscli->scispacy) (0.4.3)\r\n",
      "Collecting rsa<=3.5.0,>=3.1.2\r\n",
      "  Downloading rsa-3.4.2-py2.py3-none-any.whl (46 kB)\r\n",
      "\u001b[K     |████████████████████████████████| 46 kB 3.3 MB/s \r\n",
      "\u001b[?25hRequirement already satisfied: s3transfer<0.4.0,>=0.3.0 in /opt/conda/lib/python3.6/site-packages (from awscli->scispacy) (0.3.3)\r\n",
      "Requirement already satisfied: PyYAML<5.4,>=3.10; python_version != \"3.4\" in /opt/conda/lib/python3.6/site-packages (from awscli->scispacy) (5.3)\r\n",
      "Requirement already satisfied: pybind11>=2.2.3 in /opt/conda/lib/python3.6/site-packages (from nmslib>=1.7.3.6->scispacy) (2.4.3)\r\n",
      "Requirement already satisfied: psutil in /opt/conda/lib/python3.6/site-packages (from nmslib>=1.7.3.6->scispacy) (5.6.7)\r\n",
      "Requirement already satisfied: urllib3!=1.25.0,!=1.25.1,<1.26,>=1.21.1 in /opt/conda/lib/python3.6/site-packages (from requests<3.0.0,>=2.13.0->spacy>=2.2.1->scispacy) (1.24.3)\r\n",
      "Requirement already satisfied: chardet<3.1.0,>=3.0.2 in /opt/conda/lib/python3.6/site-packages (from requests<3.0.0,>=2.13.0->spacy>=2.2.1->scispacy) (3.0.4)\r\n",
      "Requirement already satisfied: idna<2.9,>=2.5 in /opt/conda/lib/python3.6/site-packages (from requests<3.0.0,>=2.13.0->spacy>=2.2.1->scispacy) (2.8)\r\n",
      "Requirement already satisfied: certifi>=2017.4.17 in /opt/conda/lib/python3.6/site-packages (from requests<3.0.0,>=2.13.0->spacy>=2.2.1->scispacy) (2019.11.28)\r\n",
      "Requirement already satisfied: importlib-metadata>=0.20; python_version < \"3.8\" in /opt/conda/lib/python3.6/site-packages (from catalogue<1.1.0,>=0.0.7->spacy>=2.2.1->scispacy) (1.5.0)\r\n",
      "Requirement already satisfied: tqdm<5.0.0,>=4.10.0 in /opt/conda/lib/python3.6/site-packages (from thinc<7.4.0,>=7.3.0->spacy>=2.2.1->scispacy) (4.42.0)\r\n",
      "Requirement already satisfied: jmespath<1.0.0,>=0.7.1 in /opt/conda/lib/python3.6/site-packages (from botocore==1.15.31->awscli->scispacy) (0.9.5)\r\n",
      "Requirement already satisfied: python-dateutil<3.0.0,>=2.1 in /opt/conda/lib/python3.6/site-packages (from botocore==1.15.31->awscli->scispacy) (2.8.0)\r\n",
      "Requirement already satisfied: pyasn1>=0.1.3 in /opt/conda/lib/python3.6/site-packages (from rsa<=3.5.0,>=3.1.2->awscli->scispacy) (0.4.8)\r\n",
      "Requirement already satisfied: zipp>=0.5 in /opt/conda/lib/python3.6/site-packages (from importlib-metadata>=0.20; python_version < \"3.8\"->catalogue<1.1.0,>=0.0.7->spacy>=2.2.1->scispacy) (2.2.0)\r\n",
      "Requirement already satisfied: six>=1.5 in /opt/conda/lib/python3.6/site-packages (from python-dateutil<3.0.0,>=2.1->botocore==1.15.31->awscli->scispacy) (1.14.0)\r\n",
      "Building wheels for collected packages: scispacy\r\n",
      "  Building wheel for scispacy (setup.py) ... \u001b[?25l-\b \b\\\b \bdone\r\n",
      "\u001b[?25h  Created wheel for scispacy: filename=scispacy-0.2.4-py3-none-any.whl size=35203 sha256=7488a7b3aed301c771550773180a058b18acd8887186860502f8a9b52f2632fe\r\n",
      "  Stored in directory: /root/.cache/pip/wheels/80/01/69/37a2ab4f9b61773c187d83257ffb31365a5ad57e7779ae5e92\r\n",
      "Successfully built scispacy\r\n",
      "\u001b[31mERROR: allennlp 0.9.0 has requirement spacy<2.2,>=2.1.0, but you'll have spacy 2.2.3 which is incompatible.\u001b[0m\r\n",
      "Installing collected packages: botocore, rsa, awscli, nmslib, pysbd, scispacy\r\n",
      "  Attempting uninstall: botocore\r\n",
      "    Found existing installation: botocore 1.15.13\r\n",
      "    Uninstalling botocore-1.15.13:\r\n",
      "      Successfully uninstalled botocore-1.15.13\r\n",
      "  Attempting uninstall: rsa\r\n",
      "    Found existing installation: rsa 4.0\r\n",
      "    Uninstalling rsa-4.0:\r\n",
      "      Successfully uninstalled rsa-4.0\r\n",
      "Successfully installed awscli-1.18.31 botocore-1.15.31 nmslib-2.0.5 pysbd-0.2.3 rsa-3.4.2 scispacy-0.2.4\r\n",
      "Collecting https://s3-us-west-2.amazonaws.com/ai2-s2-scispacy/releases/v0.2.4/en_core_sci_lg-0.2.4.tar.gz\r\n",
      "  Downloading https://s3-us-west-2.amazonaws.com/ai2-s2-scispacy/releases/v0.2.4/en_core_sci_lg-0.2.4.tar.gz (500.6 MB)\r\n",
      "\u001b[K     |████████████████████████████████| 500.6 MB 9.8 kB/s \r\n",
      "\u001b[?25hRequirement already satisfied: spacy>=2.2.1 in /opt/conda/lib/python3.6/site-packages (from en-core-sci-lg==0.2.4) (2.2.3)\r\n",
      "Requirement already satisfied: cymem<2.1.0,>=2.0.2 in /opt/conda/lib/python3.6/site-packages (from spacy>=2.2.1->en-core-sci-lg==0.2.4) (2.0.3)\r\n",
      "Requirement already satisfied: thinc<7.4.0,>=7.3.0 in /opt/conda/lib/python3.6/site-packages (from spacy>=2.2.1->en-core-sci-lg==0.2.4) (7.3.1)\r\n",
      "Requirement already satisfied: srsly<1.1.0,>=0.1.0 in /opt/conda/lib/python3.6/site-packages (from spacy>=2.2.1->en-core-sci-lg==0.2.4) (1.0.2)\r\n",
      "Requirement already satisfied: blis<0.5.0,>=0.4.0 in /opt/conda/lib/python3.6/site-packages (from spacy>=2.2.1->en-core-sci-lg==0.2.4) (0.4.1)\r\n",
      "Requirement already satisfied: requests<3.0.0,>=2.13.0 in /opt/conda/lib/python3.6/site-packages (from spacy>=2.2.1->en-core-sci-lg==0.2.4) (2.22.0)\r\n",
      "Requirement already satisfied: plac<1.2.0,>=0.9.6 in /opt/conda/lib/python3.6/site-packages (from spacy>=2.2.1->en-core-sci-lg==0.2.4) (0.9.6)\r\n",
      "Requirement already satisfied: numpy>=1.15.0 in /opt/conda/lib/python3.6/site-packages (from spacy>=2.2.1->en-core-sci-lg==0.2.4) (1.18.1)\r\n",
      "Requirement already satisfied: preshed<3.1.0,>=3.0.2 in /opt/conda/lib/python3.6/site-packages (from spacy>=2.2.1->en-core-sci-lg==0.2.4) (3.0.2)\r\n",
      "Requirement already satisfied: wasabi<1.1.0,>=0.4.0 in /opt/conda/lib/python3.6/site-packages (from spacy>=2.2.1->en-core-sci-lg==0.2.4) (0.6.0)\r\n",
      "Requirement already satisfied: murmurhash<1.1.0,>=0.28.0 in /opt/conda/lib/python3.6/site-packages (from spacy>=2.2.1->en-core-sci-lg==0.2.4) (1.0.2)\r\n",
      "Requirement already satisfied: catalogue<1.1.0,>=0.0.7 in /opt/conda/lib/python3.6/site-packages (from spacy>=2.2.1->en-core-sci-lg==0.2.4) (1.0.0)\r\n",
      "Requirement already satisfied: setuptools in /opt/conda/lib/python3.6/site-packages (from spacy>=2.2.1->en-core-sci-lg==0.2.4) (45.2.0.post20200210)\r\n",
      "Requirement already satisfied: tqdm<5.0.0,>=4.10.0 in /opt/conda/lib/python3.6/site-packages (from thinc<7.4.0,>=7.3.0->spacy>=2.2.1->en-core-sci-lg==0.2.4) (4.42.0)\r\n",
      "Requirement already satisfied: idna<2.9,>=2.5 in /opt/conda/lib/python3.6/site-packages (from requests<3.0.0,>=2.13.0->spacy>=2.2.1->en-core-sci-lg==0.2.4) (2.8)\r\n",
      "Requirement already satisfied: certifi>=2017.4.17 in /opt/conda/lib/python3.6/site-packages (from requests<3.0.0,>=2.13.0->spacy>=2.2.1->en-core-sci-lg==0.2.4) (2019.11.28)\r\n",
      "Requirement already satisfied: urllib3!=1.25.0,!=1.25.1,<1.26,>=1.21.1 in /opt/conda/lib/python3.6/site-packages (from requests<3.0.0,>=2.13.0->spacy>=2.2.1->en-core-sci-lg==0.2.4) (1.24.3)\r\n",
      "Requirement already satisfied: chardet<3.1.0,>=3.0.2 in /opt/conda/lib/python3.6/site-packages (from requests<3.0.0,>=2.13.0->spacy>=2.2.1->en-core-sci-lg==0.2.4) (3.0.4)\r\n",
      "Requirement already satisfied: importlib-metadata>=0.20; python_version < \"3.8\" in /opt/conda/lib/python3.6/site-packages (from catalogue<1.1.0,>=0.0.7->spacy>=2.2.1->en-core-sci-lg==0.2.4) (1.5.0)\r\n",
      "Requirement already satisfied: zipp>=0.5 in /opt/conda/lib/python3.6/site-packages (from importlib-metadata>=0.20; python_version < \"3.8\"->catalogue<1.1.0,>=0.0.7->spacy>=2.2.1->en-core-sci-lg==0.2.4) (2.2.0)\r\n",
      "Building wheels for collected packages: en-core-sci-lg\r\n",
      "  Building wheel for en-core-sci-lg (setup.py) ... \u001b[?25l-\b \b\\\b \b|\b \b/\b \b-\b \b\\\b \b|\b \b/\b \b-\b \b\\\b \b|\b \b/\b \b-\b \b\\\b \bdone\r\n",
      "\u001b[?25h  Created wheel for en-core-sci-lg: filename=en_core_sci_lg-0.2.4-py3-none-any.whl size=501343161 sha256=ddd54d846138dcc1fe929574c4e2b7106ed376ed104fd7c22db58ea7602aeb38\r\n",
      "  Stored in directory: /root/.cache/pip/wheels/43/12/d5/dd85b5deab7738797c4d5358672df3616dda39acf570a3ef96\r\n",
      "Successfully built en-core-sci-lg\r\n",
      "Installing collected packages: en-core-sci-lg\r\n",
      "Successfully installed en-core-sci-lg-0.2.4\r\n",
      "Collecting tqdm\r\n",
      "  Downloading tqdm-4.44.1-py2.py3-none-any.whl (60 kB)\r\n",
      "\u001b[K     |████████████████████████████████| 60 kB 101 kB/s \r\n",
      "\u001b[31mERROR: pandas-profiling 2.5.0 has requirement tqdm==4.42.0, but you'll have tqdm 4.44.1 which is incompatible.\u001b[0m\r\n",
      "\u001b[31mERROR: hyperopt 0.2.3 has requirement networkx==2.2, but you'll have networkx 2.4 which is incompatible.\u001b[0m\r\n",
      "\u001b[31mERROR: allennlp 0.9.0 has requirement spacy<2.2,>=2.1.0, but you'll have spacy 2.2.3 which is incompatible.\u001b[0m\r\n",
      "\u001b[?25hInstalling collected packages: tqdm\r\n",
      "  Attempting uninstall: tqdm\r\n",
      "    Found existing installation: tqdm 4.42.0\r\n",
      "    Uninstalling tqdm-4.42.0:\r\n",
      "      Successfully uninstalled tqdm-4.42.0\r\n",
      "Successfully installed tqdm-4.44.1\r\n",
      "Collecting spacy-langdetect\r\n",
      "  Downloading spacy_langdetect-0.1.2-py3-none-any.whl (5.0 kB)\r\n",
      "Requirement already satisfied: langdetect==1.0.7 in /opt/conda/lib/python3.6/site-packages (from spacy-langdetect) (1.0.7)\r\n",
      "Requirement already satisfied: pytest in /opt/conda/lib/python3.6/site-packages (from spacy-langdetect) (5.0.1)\r\n",
      "Requirement already satisfied: six in /opt/conda/lib/python3.6/site-packages (from langdetect==1.0.7->spacy-langdetect) (1.14.0)\r\n",
      "Requirement already satisfied: py>=1.5.0 in /opt/conda/lib/python3.6/site-packages (from pytest->spacy-langdetect) (1.8.1)\r\n",
      "Requirement already satisfied: packaging in /opt/conda/lib/python3.6/site-packages (from pytest->spacy-langdetect) (20.1)\r\n",
      "Requirement already satisfied: attrs>=17.4.0 in /opt/conda/lib/python3.6/site-packages (from pytest->spacy-langdetect) (19.3.0)\r\n",
      "Requirement already satisfied: more-itertools>=4.0.0 in /opt/conda/lib/python3.6/site-packages (from pytest->spacy-langdetect) (8.2.0)\r\n",
      "Requirement already satisfied: atomicwrites>=1.0 in /opt/conda/lib/python3.6/site-packages (from pytest->spacy-langdetect) (1.3.0)\r\n",
      "Requirement already satisfied: pluggy<1.0,>=0.12 in /opt/conda/lib/python3.6/site-packages (from pytest->spacy-langdetect) (0.13.1)\r\n",
      "Requirement already satisfied: importlib-metadata>=0.12 in /opt/conda/lib/python3.6/site-packages (from pytest->spacy-langdetect) (1.5.0)\r\n",
      "Requirement already satisfied: wcwidth in /opt/conda/lib/python3.6/site-packages (from pytest->spacy-langdetect) (0.1.8)\r\n",
      "Requirement already satisfied: pyparsing>=2.0.2 in /opt/conda/lib/python3.6/site-packages (from packaging->pytest->spacy-langdetect) (2.4.6)\r\n",
      "Requirement already satisfied: zipp>=0.5 in /opt/conda/lib/python3.6/site-packages (from importlib-metadata>=0.12->pytest->spacy-langdetect) (2.2.0)\r\n",
      "Installing collected packages: spacy-langdetect\r\n",
      "Successfully installed spacy-langdetect-0.1.2\r\n"
     ]
    }
   ],
   "source": [
    "!pip install scispacy scipy\n",
    "!pip install https://s3-us-west-2.amazonaws.com/ai2-s2-scispacy/releases/v0.2.4/en_core_sci_lg-0.2.4.tar.gz\n",
    "!pip install tqdm -U\n",
    "!pip install spacy-langdetect"
   ]
  },
  {
   "cell_type": "code",
   "execution_count": 12,
   "metadata": {
    "colab": {},
    "colab_type": "code",
    "id": "0SW7BY4EBgiR"
   },
   "outputs": [],
   "source": [
    "import spacy\n",
    "import en_core_sci_lg\n",
    "nlp = en_core_sci_lg.load()\n",
    "\n",
    "# We also need to detect language, or else we'll be parsing non-english text \n",
    "# as if it were English. \n",
    "from spacy_langdetect import LanguageDetector\n",
    "nlp.add_pipe(LanguageDetector(), name='language_detector', last=True)\n",
    "\n",
    "nlp.max_length=2000000\n",
    "\n",
    "# New stop words list \n",
    "customize_stop_words = [\n",
    "    'doi', 'preprint', 'copyright', 'peer', 'reviewed', 'org', 'https', 'et', 'al', 'author', 'figure', \n",
    "    'rights', 'reserved', 'permission', 'used', 'using', 'biorxiv', 'fig', 'fig.', 'al.',\n",
    "    'di', 'la', 'il', 'del', 'le', 'della', 'dei', 'delle', 'una', 'da',  'dell',  'non', 'si'\n",
    "]\n",
    "\n",
    "# Mark them as stop words\n",
    "for w in customize_stop_words:\n",
    "    nlp.vocab[w].is_stop = True"
   ]
  },
  {
   "cell_type": "markdown",
   "metadata": {
    "colab_type": "text",
    "id": "zxBNAcnfBgiV"
   },
   "source": [
    "# LDA : Kaggle Notebook Approach\n",
    "https://www.kaggle.com/danielwolffram/topic-modeling-finding-related-articles"
   ]
  },
  {
   "cell_type": "code",
   "execution_count": 13,
   "metadata": {
    "colab": {},
    "colab_type": "code",
    "id": "l_9eTyZUBgiV"
   },
   "outputs": [],
   "source": [
    "def spacy_tokenizer(sentence):\n",
    "    return [word.lemma_ for word in nlp(sentence) if not (word.like_num or word.is_stop or word.is_punct or word.is_space or len(word)==1)] \n",
    "    # remove numbers (e.g. from references [1], etc.)"
   ]
  },
  {
   "cell_type": "markdown",
   "metadata": {
    "colab_type": "text",
    "id": "CHowpLdvBgiY"
   },
   "source": [
    "### Create vector representation of data"
   ]
  },
  {
   "cell_type": "code",
   "execution_count": 14,
   "metadata": {
    "colab": {
     "referenced_widgets": [
      "669f984b48d5431cb5bbb3a1260c9dff"
     ]
    },
    "colab_type": "code",
    "id": "67rnpT5yBgiY",
    "outputId": "e82fb073-be2d-43e4-dec6-bbb4c05f7f2b"
   },
   "outputs": [
    {
     "data": {
      "application/vnd.jupyter.widget-view+json": {
       "model_id": "1f1fbfd784f84a02adfcd00e6af4ae10",
       "version_major": 2,
       "version_minor": 0
      },
      "text/plain": [
       "HBox(children=(FloatProgress(value=0.0, max=531.0), HTML(value='')))"
      ]
     },
     "metadata": {},
     "output_type": "display_data"
    },
    {
     "name": "stdout",
     "output_type": "stream",
     "text": [
      "\n",
      "(531, 69575)\n"
     ]
    },
    {
     "data": {
      "text/plain": [
       "['/kaggle/working/tf.csv']"
      ]
     },
     "execution_count": 14,
     "metadata": {},
     "output_type": "execute_result"
    }
   ],
   "source": [
    "tf_vectorizer = CountVectorizer(tokenizer = spacy_tokenizer, max_features=800000) \n",
    "tf = tf_vectorizer.fit_transform(tqdm(stage_dict[stage]))\n",
    "\n",
    "print(tf.shape)\n",
    "\n",
    "import joblib\n",
    "joblib.dump(tf_vectorizer, '/kaggle/working/tf_vectorizer.csv')\n",
    "joblib.dump(tf, '/kaggle/working/tf.csv')"
   ]
  },
  {
   "cell_type": "markdown",
   "metadata": {
    "colab_type": "text",
    "id": "jWEc66wABgib"
   },
   "source": [
    "### LDA"
   ]
  },
  {
   "cell_type": "code",
   "execution_count": 15,
   "metadata": {
    "colab": {},
    "colab_type": "code",
    "id": "JE6W07IBBgib",
    "outputId": "8daeaa9c-8636-4f04-c173-2c1092779388"
   },
   "outputs": [
    {
     "data": {
      "text/plain": [
       "['/kaggle/working/lda.csv']"
      ]
     },
     "execution_count": 15,
     "metadata": {},
     "output_type": "execute_result"
    }
   ],
   "source": [
    "lda_tf = LatentDirichletAllocation(n_components=50, random_state=0)\n",
    "lda_tf.fit(tf)\n",
    "joblib.dump(lda_tf, '/kaggle/working/lda.csv')"
   ]
  },
  {
   "cell_type": "markdown",
   "metadata": {
    "colab_type": "text",
    "id": "FSNlxmPABgii"
   },
   "source": [
    "### Discover Topics"
   ]
  },
  {
   "cell_type": "code",
   "execution_count": 16,
   "metadata": {
    "colab": {},
    "colab_type": "code",
    "id": "Fh6roGudBgij",
    "outputId": "b7d437f1-4186-4ad9-d7b5-0fc901e6f26c"
   },
   "outputs": [
    {
     "name": "stdout",
     "output_type": "stream",
     "text": [
      "\n",
      "Topic #0: specie host wildlife bat virus flavivirus model high forest wnv study datum predict habitat number body include animal individual probability human identify devil denv distribution\n",
      "\n",
      "Topic #1: cardiovascular mortality air pm pollution pollutant effect day significant increase lag impact daily non-accidental μg/m concentration particulate er elderly change exposure cumulative haze single-day row\n",
      "\n",
      "Topic #2: disease network change country increase dengue population infectious case area high node climate human health spread africa time global include travel year specie number new\n",
      "\n",
      "Topic #3: protein cell virus viral antibody binding residue mutation show peptide epitope domain membrane site glycoprotein mab virion hiv-1 activity study surface interaction bind fusion target\n",
      "\n",
      "Topic #4: adam17 upr ace2 protein receptor study mouse increase human strain effect level epitope stroke brain show ii er stress gii.4 role ang-(1 induce ang vsv\n",
      "\n",
      "Topic #5: datum suicide descriptor s. set study report compound h. influenzae om model pneumoniae activity antibiotic test identify serotype aom incentive isolate bacteria charcoal patient research\n",
      "\n",
      "Topic #6: rate contact temperature study country household population increase age high influenza year change policy disease pathogen specie individual find transmission datum different infection number virus\n",
      "\n",
      "Topic #7: sequence g4 region gene structure recombination dna recombinant breakpoint rsv household form strand genome adc7αrsv show anti-rsv find identify number nucleotide administration vector pattern distribution\n",
      "\n",
      "Topic #8: disease human risk research virus animal intervention system vaccine infectious zoonotic vaccination health development pathogen global new approach potential collaboration production problem knowledge increase threat\n",
      "\n",
      "Topic #9: zikv infection study cell control ibv strain sample fork asthma show day fruit fetal vegetable blood intake human offspring group table zika macrophage report level\n",
      "\n",
      "Topic #10: group animal level cssa number follicle system resident worry age show high low study bid minnow recipient increase day kong hong doc result rare nh\n",
      "\n",
      "Topic #11: mouse virus cell ifnar infection animal viral titer rig-i vaccine protein show antibody serum day peptide response particle level wt result rna mda5 challenge dose\n",
      "\n",
      "Topic #12: virus aptamer lectin influenza study protein group target stress ha show plant mbt antibody report aptasensor monoclonal calf detect result viral detection bcov program binding\n",
      "\n",
      "Topic #13: ccr5 cd4 hev mouse cell je −/− foxp3 cn tregs refugee infection /+ dpi veterinary child veterinarian progression result number hi disease ic response tb\n",
      "\n",
      "Topic #14: health public system surveillance disease country outbreak information response datum include need service national provide report care case plan medical local patient practice global emergency\n",
      "\n",
      "Topic #15: model number estimate case disease transmission datum time individual epidemic population method infection parameter value rate network contact probability distribution death result different average outbreak\n",
      "\n",
      "Topic #16: cell piglet group microglia mouse neutrophil control hotspot study brain increase number show dpi bacteria result day nrf2 lesion e. pr8 pcv2 coli microglial tissue\n",
      "\n",
      "Topic #17: rna cell disruption nucleolus value isg15 temperature rrna uniformity method polyamine nucleolar standard irt study result base alu dna stability mrtd different docetaxel high show\n",
      "\n",
      "Topic #18: risk group mer disease perceive high perception show control labor behavior market al study decrease compare sow vulnerability trust effect epidemic pedv result model factor\n",
      "\n",
      "Topic #19: antibody show infection domain cell result scfv expression datum trial compare analysis sequence treatment observe am binding usa t. cc-11050 study control parasite macaque nano-7\n",
      "\n",
      "Topic #20: study influenza patient case infection disease risk report group high respiratory participant rate year include age hospital vaccination severe virus test datum illness death analysis\n",
      "\n",
      "Topic #21: surveillance datum system influenza nanoparticle drug sample veterinary result control ili medicine test environment study effect show performance site material animal activity high score cause\n",
      "\n",
      "Topic #22: cell infection response mouse cd8 immune expression cn viral cytokine antigen cd4 role induce tissue increase memory ms level virus disease ebv control function signaling\n",
      "\n",
      "Topic #23: mers-cov pedv human infection case virus sars-cov animal camel pig outbreak contact disease study report day transmission high mer respiratory aged coronavirus strain antibody epidemic\n",
      "\n",
      "Topic #24: sgta mrsa result sdab detection protein assay ata scfvs test antibody patient np show scfv cell sample ward target site isnv yoph study arm method\n",
      "\n",
      "Topic #25: herd respiratory hyponatremia variable bigg analysis high cow study disease infection bhv-1 h3n2 human level influenza event seed number h1n1 virus bovine associate sequence find\n",
      "\n",
      "Topic #26: hrv strain hrv-qpm a2 receptor vp1 icam-1 sequence site hev specie hrvs group structure rhinovirus datum predict deletion structural major minor acid amino identify divergent\n",
      "\n",
      "Topic #27: patient datum tb mask care study pattern child claim provide use treatment cybercare flu hospital family trial telemedicine health include ward code region technology eps\n",
      "\n",
      "Topic #28: study respondent report review care score include high family health questionnaire question triage sample datum knowledge dengue animal number work level time population meat nurse\n",
      "\n",
      "Topic #29: bat cell gp120 dc virus study expression apoptosis atmuv infection response human modc immune specie control apmv-1 duck bent-winged level serum ifn increase dc-sign chicken\n",
      "\n",
      "Topic #30: participant pandemic health study nurse care risk work hcws response disease emergency influenza practice knowledge experience report staff plan need management preparedness measure lack perception\n",
      "\n",
      "Topic #31: diabete type piglet emodin group mer incidence tregs allograft year people pedv pn-sia49 show h7n9 ha anxiety study isolate cmah csa hcp ko recipient isolation\n",
      "\n",
      "Topic #32: mouse lung treatment airway study nicu infection model show l. asthma cell reduce bacterial animal macrophage compare level sample effect response new gene day increase\n",
      "\n",
      "Topic #33: hospital contact datum outbreak patient model system stream ed network group mer surge tace year shift sar index disease transmission target selection visit droplet bead\n",
      "\n",
      "Topic #34: infection disease pathogen bee host wild population human specie parasite greenhouse distress animal sars-cov high study prevalence infected infectious bumble commercial respiratory psychological c. b.\n",
      "\n",
      "Topic #35: organ cancer rdna transplant prostate overseas sexual transplantation genome gene partner prisoner increase china number hcov-nl63 death human man recipient transcription domestic kt rpm lt\n",
      "\n",
      "Topic #36: virus sample sequence viral rna detect genome study detection pcr specie analysis strain human pathogen isolate acid assay positive host gene identify sequencing infection respiratory\n",
      "\n",
      "Topic #37: cuprizone demyelination alcohol remyelination week mouse model oligodendrocyte cell microglia c200 b. study brain nps opc animal tio astrocyte factor effect expression human suggest group\n",
      "\n",
      "Topic #38: vaccine vaccination behaviour pandemic public infection perceive people flu population participant study risk swine respiratory social intention perception concern ph1n1 control government health measure group\n",
      "\n",
      "Topic #39: health disaster research study review article resilience emergency include identify public workforce theme literature community country outbreak preparedness need system model lri work develop result\n",
      "\n",
      "Topic #40: intubation lynx robot prv system pig lma rate iberian wild study success perform time rrais plate infection tongue medical pre-hospital depressor laryngoscope eti tube group\n",
      "\n",
      "Topic #41: maternal pneumonia pregnancy child vaccine immunization study dental infant pregnant woman tetraspanin neonatal factor cd151 cd63 health birth infection carie peptide hpv pneumococcal vaccination associate\n",
      "\n",
      "Topic #42: cell virus viral infection protein host replication rna gene expression response antiviral immune type human ifn activity cellular show influenza pathway increase result mechanism receptor\n",
      "\n",
      "Topic #43: child infection respiratory rsv study year virus age patient case clinical infant viral report pathogen pneumonia include old pneumoniae month pertussis young high symptom adult\n",
      "\n",
      "Topic #44: health policy population social disease datum public support include regional country international approach level development global change program project initiative migrant economic region increase access\n",
      "\n",
      "Topic #45: care mucus gene sink peacock analysis condor sample bird study show coli pathogen result e. viscosity disinfectant specie eol different model high perform ppe critical\n",
      "\n",
      "Topic #46: pathogen air infection ventilation airborne aerosol patient droplet high cough rate system model bed increase concentration different room study result method city human respiratory condition\n",
      "\n",
      "Topic #47: patient study group icu day mortality case high result clinical infection level treatment therapy increase sepsis hospital associate include severe disease care rate method admission\n",
      "\n",
      "Topic #48: cell t. gondii cancer dvgs sev immune ln aa ua group production protein effect include gondii-infected acid expression infection activity increase restriction show compare cantell\n",
      "\n",
      "Topic #49: vaccine virus infection human cell antibody study protein disease response development camel viral immune strain antigen neutralize cause hiv activity high include mab bst2 result\n",
      "\n"
     ]
    }
   ],
   "source": [
    "tfidf_feature_names = tf_vectorizer.get_feature_names()\n",
    "\n",
    "def print_top_words(model, feature_names, n_top_words):\n",
    "    for topic_idx, topic in enumerate(model.components_):\n",
    "        message = \"\\nTopic #%d: \" % topic_idx\n",
    "        message += \" \".join([feature_names[i]\n",
    "                             for i in topic.argsort()[:-n_top_words - 1:-1]])\n",
    "        print(message)\n",
    "    print()\n",
    "    \n",
    "print_top_words(lda_tf, tfidf_feature_names, 25)"
   ]
  },
  {
   "cell_type": "markdown",
   "metadata": {
    "colab_type": "text",
    "id": "6iyid7cJBgip"
   },
   "source": [
    "### Create Topic Distance Matrix"
   ]
  },
  {
   "cell_type": "code",
   "execution_count": 17,
   "metadata": {
    "colab": {},
    "colab_type": "code",
    "id": "MrLbqxiyBgiq"
   },
   "outputs": [],
   "source": [
    "topic_dist = pd.DataFrame(lda_tf.transform(tf))\n",
    "topic_dist.to_csv('/kaggle/working/topic_dist.csv', index=False)"
   ]
  },
  {
   "cell_type": "code",
   "execution_count": 18,
   "metadata": {
    "colab": {},
    "colab_type": "code",
    "id": "LaTZa7l4Bgit",
    "outputId": "4548c53f-90c7-442a-f1be-b26443fc9fc5"
   },
   "outputs": [
    {
     "data": {
      "text/html": [
       "<div>\n",
       "<style scoped>\n",
       "    .dataframe tbody tr th:only-of-type {\n",
       "        vertical-align: middle;\n",
       "    }\n",
       "\n",
       "    .dataframe tbody tr th {\n",
       "        vertical-align: top;\n",
       "    }\n",
       "\n",
       "    .dataframe thead th {\n",
       "        text-align: right;\n",
       "    }\n",
       "</style>\n",
       "<table border=\"1\" class=\"dataframe\">\n",
       "  <thead>\n",
       "    <tr style=\"text-align: right;\">\n",
       "      <th></th>\n",
       "      <th>0</th>\n",
       "      <th>1</th>\n",
       "      <th>2</th>\n",
       "      <th>3</th>\n",
       "      <th>4</th>\n",
       "      <th>5</th>\n",
       "      <th>6</th>\n",
       "      <th>7</th>\n",
       "      <th>8</th>\n",
       "      <th>9</th>\n",
       "      <th>...</th>\n",
       "      <th>40</th>\n",
       "      <th>41</th>\n",
       "      <th>42</th>\n",
       "      <th>43</th>\n",
       "      <th>44</th>\n",
       "      <th>45</th>\n",
       "      <th>46</th>\n",
       "      <th>47</th>\n",
       "      <th>48</th>\n",
       "      <th>49</th>\n",
       "    </tr>\n",
       "  </thead>\n",
       "  <tbody>\n",
       "    <tr>\n",
       "      <th>0</th>\n",
       "      <td>0.000006</td>\n",
       "      <td>0.000006</td>\n",
       "      <td>0.000006</td>\n",
       "      <td>0.000006</td>\n",
       "      <td>0.002121</td>\n",
       "      <td>0.000006</td>\n",
       "      <td>0.000006</td>\n",
       "      <td>0.000006</td>\n",
       "      <td>0.000006</td>\n",
       "      <td>0.000006</td>\n",
       "      <td>...</td>\n",
       "      <td>0.000006</td>\n",
       "      <td>0.000006</td>\n",
       "      <td>0.000006</td>\n",
       "      <td>0.000006</td>\n",
       "      <td>0.000006</td>\n",
       "      <td>0.000006</td>\n",
       "      <td>0.000006</td>\n",
       "      <td>0.006787</td>\n",
       "      <td>0.000006</td>\n",
       "      <td>0.000006</td>\n",
       "    </tr>\n",
       "    <tr>\n",
       "      <th>1</th>\n",
       "      <td>0.000006</td>\n",
       "      <td>0.000006</td>\n",
       "      <td>0.123700</td>\n",
       "      <td>0.402142</td>\n",
       "      <td>0.000006</td>\n",
       "      <td>0.000006</td>\n",
       "      <td>0.000006</td>\n",
       "      <td>0.000006</td>\n",
       "      <td>0.000006</td>\n",
       "      <td>0.000006</td>\n",
       "      <td>...</td>\n",
       "      <td>0.000006</td>\n",
       "      <td>0.000006</td>\n",
       "      <td>0.000006</td>\n",
       "      <td>0.000006</td>\n",
       "      <td>0.005970</td>\n",
       "      <td>0.000006</td>\n",
       "      <td>0.000006</td>\n",
       "      <td>0.000006</td>\n",
       "      <td>0.000006</td>\n",
       "      <td>0.000006</td>\n",
       "    </tr>\n",
       "    <tr>\n",
       "      <th>2</th>\n",
       "      <td>0.000004</td>\n",
       "      <td>0.000004</td>\n",
       "      <td>0.000004</td>\n",
       "      <td>0.000004</td>\n",
       "      <td>0.000004</td>\n",
       "      <td>0.000004</td>\n",
       "      <td>0.000004</td>\n",
       "      <td>0.002645</td>\n",
       "      <td>0.167118</td>\n",
       "      <td>0.007226</td>\n",
       "      <td>...</td>\n",
       "      <td>0.000004</td>\n",
       "      <td>0.426657</td>\n",
       "      <td>0.015246</td>\n",
       "      <td>0.024387</td>\n",
       "      <td>0.036798</td>\n",
       "      <td>0.000004</td>\n",
       "      <td>0.000004</td>\n",
       "      <td>0.000004</td>\n",
       "      <td>0.000004</td>\n",
       "      <td>0.112319</td>\n",
       "    </tr>\n",
       "    <tr>\n",
       "      <th>3</th>\n",
       "      <td>0.000014</td>\n",
       "      <td>0.000014</td>\n",
       "      <td>0.048937</td>\n",
       "      <td>0.000014</td>\n",
       "      <td>0.000014</td>\n",
       "      <td>0.000014</td>\n",
       "      <td>0.020725</td>\n",
       "      <td>0.000014</td>\n",
       "      <td>0.140182</td>\n",
       "      <td>0.040616</td>\n",
       "      <td>...</td>\n",
       "      <td>0.000014</td>\n",
       "      <td>0.000014</td>\n",
       "      <td>0.000014</td>\n",
       "      <td>0.000014</td>\n",
       "      <td>0.012068</td>\n",
       "      <td>0.048383</td>\n",
       "      <td>0.000014</td>\n",
       "      <td>0.015412</td>\n",
       "      <td>0.000014</td>\n",
       "      <td>0.060659</td>\n",
       "    </tr>\n",
       "    <tr>\n",
       "      <th>4</th>\n",
       "      <td>0.000011</td>\n",
       "      <td>0.000011</td>\n",
       "      <td>0.000011</td>\n",
       "      <td>0.000011</td>\n",
       "      <td>0.000011</td>\n",
       "      <td>0.000011</td>\n",
       "      <td>0.000011</td>\n",
       "      <td>0.000011</td>\n",
       "      <td>0.000011</td>\n",
       "      <td>0.000011</td>\n",
       "      <td>...</td>\n",
       "      <td>0.000011</td>\n",
       "      <td>0.000011</td>\n",
       "      <td>0.000011</td>\n",
       "      <td>0.000011</td>\n",
       "      <td>0.000011</td>\n",
       "      <td>0.000011</td>\n",
       "      <td>0.000011</td>\n",
       "      <td>0.293011</td>\n",
       "      <td>0.000011</td>\n",
       "      <td>0.000011</td>\n",
       "    </tr>\n",
       "  </tbody>\n",
       "</table>\n",
       "<p>5 rows × 50 columns</p>\n",
       "</div>"
      ],
      "text/plain": [
       "         0         1         2         3         4         5         6   \\\n",
       "0  0.000006  0.000006  0.000006  0.000006  0.002121  0.000006  0.000006   \n",
       "1  0.000006  0.000006  0.123700  0.402142  0.000006  0.000006  0.000006   \n",
       "2  0.000004  0.000004  0.000004  0.000004  0.000004  0.000004  0.000004   \n",
       "3  0.000014  0.000014  0.048937  0.000014  0.000014  0.000014  0.020725   \n",
       "4  0.000011  0.000011  0.000011  0.000011  0.000011  0.000011  0.000011   \n",
       "\n",
       "         7         8         9   ...        40        41        42        43  \\\n",
       "0  0.000006  0.000006  0.000006  ...  0.000006  0.000006  0.000006  0.000006   \n",
       "1  0.000006  0.000006  0.000006  ...  0.000006  0.000006  0.000006  0.000006   \n",
       "2  0.002645  0.167118  0.007226  ...  0.000004  0.426657  0.015246  0.024387   \n",
       "3  0.000014  0.140182  0.040616  ...  0.000014  0.000014  0.000014  0.000014   \n",
       "4  0.000011  0.000011  0.000011  ...  0.000011  0.000011  0.000011  0.000011   \n",
       "\n",
       "         44        45        46        47        48        49  \n",
       "0  0.000006  0.000006  0.000006  0.006787  0.000006  0.000006  \n",
       "1  0.005970  0.000006  0.000006  0.000006  0.000006  0.000006  \n",
       "2  0.036798  0.000004  0.000004  0.000004  0.000004  0.112319  \n",
       "3  0.012068  0.048383  0.000014  0.015412  0.000014  0.060659  \n",
       "4  0.000011  0.000011  0.000011  0.293011  0.000011  0.000011  \n",
       "\n",
       "[5 rows x 50 columns]"
      ]
     },
     "execution_count": 18,
     "metadata": {},
     "output_type": "execute_result"
    }
   ],
   "source": [
    "topic_dist.head()"
   ]
  },
  {
   "cell_type": "markdown",
   "metadata": {
    "colab_type": "text",
    "id": "k3yT53kaBgiv"
   },
   "source": [
    "### Get Paper Related to Stage of Disease"
   ]
  },
  {
   "cell_type": "code",
   "execution_count": 19,
   "metadata": {
    "colab": {},
    "colab_type": "code",
    "id": "_Iw5VbE1Bgiy"
   },
   "outputs": [],
   "source": [
    "#get most similar paper\n",
    "from scipy.spatial import distance\n",
    "def get_k_nearest_docs(doc_dist, k=5, lower=1950, upper=2020, only_covid19=False, get_dist=False):\n",
    "    '''\n",
    "    doc_dist: topic distribution (sums to 1) of one article\n",
    "    \n",
    "    Returns the index of the k nearest articles (as by Jensen–Shannon divergence in topic space). \n",
    "    '''\n",
    "    \n",
    "    #relevant_time = df.publish_year.between(lower, upper)\n",
    "    \n",
    "   # if only_covid19:\n",
    "   #     is_covid19_article = df.body_text.str.contains('COVID-19|SARS-CoV-2|2019-nCov|SARS Coronavirus 2|2019 Novel Coronavirus') #TODO: move outside\n",
    "   #     topic_dist_temp = topic_dist[relevant_time & is_covid19_article]\n",
    "   #     \n",
    "   # else:\n",
    "    #    topic_dist_temp = topic_dist[relevant_time]\n",
    "    \n",
    "    distances = topic_dist.apply(lambda x: distance.jensenshannon(x, doc_dist), axis=1)\n",
    "    k_nearest = distances[distances != 0].nsmallest(n=k).index\n",
    "    \n",
    "    if get_dist:\n",
    "        k_distances = distances[distances != 0].nsmallest(n=k)\n",
    "        return k_nearest, k_distances\n",
    "    else:\n",
    "        return k_nearest\n",
    "    \n",
    "#d = get_k_nearest_docs(topic_dist[1].iloc[0],k=10)"
   ]
  },
  {
   "cell_type": "code",
   "execution_count": 20,
   "metadata": {
    "colab": {},
    "colab_type": "code",
    "id": "58uvnzDPBgiz"
   },
   "outputs": [],
   "source": [
    "def relevant_articles(df,tasks, k=3, lower=1950, upper=2020, only_covid19=False):\n",
    "    tasks = [tasks] if type(tasks) is str else tasks \n",
    "    \n",
    "    tasks_tf = tf_vectorizer.transform(tasks)\n",
    "    tasks_topic_dist = pd.DataFrame(lda_tf.transform(tasks_tf))\n",
    "\n",
    "    for index, bullet in enumerate(tasks):\n",
    "        print(bullet)\n",
    "        recommended = get_k_nearest_docs(tasks_topic_dist.iloc[index], k, lower, upper, only_covid19)\n",
    "        print(list(recommended))\n",
    "        recommended = df.iloc[recommended] #stage_dict[stage][','.join(list(recommended))]#\n",
    "    return recommended"
   ]
  },
  {
   "cell_type": "code",
   "execution_count": 21,
   "metadata": {
    "colab": {},
    "colab_type": "code",
    "id": "OtIX0_IEBgi2",
    "outputId": "feb00cff-a1c4-4111-c506-f159f83ca091"
   },
   "outputs": [
    {
     "name": "stdout",
     "output_type": "stream",
     "text": [
      "exposure\n",
      "[101, 463, 129, 321, 3, 199, 341, 99, 2, 513]\n"
     ]
    },
    {
     "data": {
      "text/html": [
       "<div>\n",
       "<style scoped>\n",
       "    .dataframe tbody tr th:only-of-type {\n",
       "        vertical-align: middle;\n",
       "    }\n",
       "\n",
       "    .dataframe tbody tr th {\n",
       "        vertical-align: top;\n",
       "    }\n",
       "\n",
       "    .dataframe thead th {\n",
       "        text-align: right;\n",
       "    }\n",
       "</style>\n",
       "<table border=\"1\" class=\"dataframe\">\n",
       "  <thead>\n",
       "    <tr style=\"text-align: right;\">\n",
       "      <th></th>\n",
       "      <th>0</th>\n",
       "    </tr>\n",
       "  </thead>\n",
       "  <tbody>\n",
       "    <tr>\n",
       "      <th>101</th>\n",
       "      <td>Background: Air pollution has a significant he...</td>\n",
       "    </tr>\n",
       "    <tr>\n",
       "      <th>463</th>\n",
       "      <td>The main purpose of this study was to investig...</td>\n",
       "    </tr>\n",
       "    <tr>\n",
       "      <th>129</th>\n",
       "      <td>Animal viruses and bacteria are ubiquitous in ...</td>\n",
       "    </tr>\n",
       "    <tr>\n",
       "      <th>321</th>\n",
       "      <td>Background: Zika virus infection has recently ...</td>\n",
       "    </tr>\n",
       "    <tr>\n",
       "      <th>3</th>\n",
       "      <td>A survey was conducted into respiratory infect...</td>\n",
       "    </tr>\n",
       "    <tr>\n",
       "      <th>199</th>\n",
       "      <td>Background: The widespread forest fires in Ind...</td>\n",
       "    </tr>\n",
       "    <tr>\n",
       "      <th>341</th>\n",
       "      <td>Vector-borne infectious diseases, such as mala...</td>\n",
       "    </tr>\n",
       "    <tr>\n",
       "      <th>99</th>\n",
       "      <td>Background: Wearing a pollution mask is an eff...</td>\n",
       "    </tr>\n",
       "    <tr>\n",
       "      <th>2</th>\n",
       "      <td>Prevention of serious infections in pregnant m...</td>\n",
       "    </tr>\n",
       "    <tr>\n",
       "      <th>513</th>\n",
       "      <td>Background: Asthma is a major public health pr...</td>\n",
       "    </tr>\n",
       "  </tbody>\n",
       "</table>\n",
       "</div>"
      ],
      "text/plain": [
       "                                                     0\n",
       "101  Background: Air pollution has a significant he...\n",
       "463  The main purpose of this study was to investig...\n",
       "129  Animal viruses and bacteria are ubiquitous in ...\n",
       "321  Background: Zika virus infection has recently ...\n",
       "3    A survey was conducted into respiratory infect...\n",
       "199  Background: The widespread forest fires in Ind...\n",
       "341  Vector-borne infectious diseases, such as mala...\n",
       "99   Background: Wearing a pollution mask is an eff...\n",
       "2    Prevention of serious infections in pregnant m...\n",
       "513  Background: Asthma is a major public health pr..."
      ]
     },
     "execution_count": 21,
     "metadata": {},
     "output_type": "execute_result"
    }
   ],
   "source": [
    "task = ['exposure']\n",
    "relevant_articles(exposure,task,k=10) #k is the number of relevant articles"
   ]
  }
 ],
 "metadata": {
  "colab": {
   "collapsed_sections": [],
   "name": "Exposure- json files .ipynb",
   "provenance": []
  },
  "kernelspec": {
   "display_name": "Python 3",
   "language": "python",
   "name": "python3"
  },
  "language_info": {
   "codemirror_mode": {
    "name": "ipython",
    "version": 3
   },
   "file_extension": ".py",
   "mimetype": "text/x-python",
   "name": "python",
   "nbconvert_exporter": "python",
   "pygments_lexer": "ipython3",
   "version": "3.6.6"
  },
  "widgets": {
   "application/vnd.jupyter.widget-state+json": {
    "state": {
     "1f1fbfd784f84a02adfcd00e6af4ae10": {
      "model_module": "@jupyter-widgets/controls",
      "model_module_version": "1.5.0",
      "model_name": "HBoxModel",
      "state": {
       "_dom_classes": [],
       "_model_module": "@jupyter-widgets/controls",
       "_model_module_version": "1.5.0",
       "_model_name": "HBoxModel",
       "_view_count": null,
       "_view_module": "@jupyter-widgets/controls",
       "_view_module_version": "1.5.0",
       "_view_name": "HBoxView",
       "box_style": "",
       "children": [
        "IPY_MODEL_dbda74704f0b4a8fabb1131e9df5da0f",
        "IPY_MODEL_2ab9a3e168074ba4bca8f6759126ae74"
       ],
       "layout": "IPY_MODEL_ed29327fe7794078905bd8ba1db6200b"
      }
     },
     "2ab9a3e168074ba4bca8f6759126ae74": {
      "model_module": "@jupyter-widgets/controls",
      "model_module_version": "1.5.0",
      "model_name": "HTMLModel",
      "state": {
       "_dom_classes": [],
       "_model_module": "@jupyter-widgets/controls",
       "_model_module_version": "1.5.0",
       "_model_name": "HTMLModel",
       "_view_count": null,
       "_view_module": "@jupyter-widgets/controls",
       "_view_module_version": "1.5.0",
       "_view_name": "HTMLView",
       "description": "",
       "description_tooltip": null,
       "layout": "IPY_MODEL_76780a5842ff4b5f8536bc63f6dbdcd9",
       "placeholder": "​",
       "style": "IPY_MODEL_6f158792501f4ca9a613d493c81d3f86",
       "value": " 531/531 [09:20&lt;00:00,  1.05s/it]"
      }
     },
     "2bba263b72ef46d192a2d08d9fee4952": {
      "model_module": "@jupyter-widgets/controls",
      "model_module_version": "1.5.0",
      "model_name": "ProgressStyleModel",
      "state": {
       "_model_module": "@jupyter-widgets/controls",
       "_model_module_version": "1.5.0",
       "_model_name": "ProgressStyleModel",
       "_view_count": null,
       "_view_module": "@jupyter-widgets/base",
       "_view_module_version": "1.2.0",
       "_view_name": "StyleView",
       "bar_color": null,
       "description_width": "initial"
      }
     },
     "6a0562318fc744dfa57c16fe872d7b22": {
      "model_module": "@jupyter-widgets/base",
      "model_module_version": "1.2.0",
      "model_name": "LayoutModel",
      "state": {
       "_model_module": "@jupyter-widgets/base",
       "_model_module_version": "1.2.0",
       "_model_name": "LayoutModel",
       "_view_count": null,
       "_view_module": "@jupyter-widgets/base",
       "_view_module_version": "1.2.0",
       "_view_name": "LayoutView",
       "align_content": null,
       "align_items": null,
       "align_self": null,
       "border": null,
       "bottom": null,
       "display": null,
       "flex": null,
       "flex_flow": null,
       "grid_area": null,
       "grid_auto_columns": null,
       "grid_auto_flow": null,
       "grid_auto_rows": null,
       "grid_column": null,
       "grid_gap": null,
       "grid_row": null,
       "grid_template_areas": null,
       "grid_template_columns": null,
       "grid_template_rows": null,
       "height": null,
       "justify_content": null,
       "justify_items": null,
       "left": null,
       "margin": null,
       "max_height": null,
       "max_width": null,
       "min_height": null,
       "min_width": null,
       "object_fit": null,
       "object_position": null,
       "order": null,
       "overflow": null,
       "overflow_x": null,
       "overflow_y": null,
       "padding": null,
       "right": null,
       "top": null,
       "visibility": null,
       "width": null
      }
     },
     "6f158792501f4ca9a613d493c81d3f86": {
      "model_module": "@jupyter-widgets/controls",
      "model_module_version": "1.5.0",
      "model_name": "DescriptionStyleModel",
      "state": {
       "_model_module": "@jupyter-widgets/controls",
       "_model_module_version": "1.5.0",
       "_model_name": "DescriptionStyleModel",
       "_view_count": null,
       "_view_module": "@jupyter-widgets/base",
       "_view_module_version": "1.2.0",
       "_view_name": "StyleView",
       "description_width": ""
      }
     },
     "76780a5842ff4b5f8536bc63f6dbdcd9": {
      "model_module": "@jupyter-widgets/base",
      "model_module_version": "1.2.0",
      "model_name": "LayoutModel",
      "state": {
       "_model_module": "@jupyter-widgets/base",
       "_model_module_version": "1.2.0",
       "_model_name": "LayoutModel",
       "_view_count": null,
       "_view_module": "@jupyter-widgets/base",
       "_view_module_version": "1.2.0",
       "_view_name": "LayoutView",
       "align_content": null,
       "align_items": null,
       "align_self": null,
       "border": null,
       "bottom": null,
       "display": null,
       "flex": null,
       "flex_flow": null,
       "grid_area": null,
       "grid_auto_columns": null,
       "grid_auto_flow": null,
       "grid_auto_rows": null,
       "grid_column": null,
       "grid_gap": null,
       "grid_row": null,
       "grid_template_areas": null,
       "grid_template_columns": null,
       "grid_template_rows": null,
       "height": null,
       "justify_content": null,
       "justify_items": null,
       "left": null,
       "margin": null,
       "max_height": null,
       "max_width": null,
       "min_height": null,
       "min_width": null,
       "object_fit": null,
       "object_position": null,
       "order": null,
       "overflow": null,
       "overflow_x": null,
       "overflow_y": null,
       "padding": null,
       "right": null,
       "top": null,
       "visibility": null,
       "width": null
      }
     },
     "dbda74704f0b4a8fabb1131e9df5da0f": {
      "model_module": "@jupyter-widgets/controls",
      "model_module_version": "1.5.0",
      "model_name": "FloatProgressModel",
      "state": {
       "_dom_classes": [],
       "_model_module": "@jupyter-widgets/controls",
       "_model_module_version": "1.5.0",
       "_model_name": "FloatProgressModel",
       "_view_count": null,
       "_view_module": "@jupyter-widgets/controls",
       "_view_module_version": "1.5.0",
       "_view_name": "ProgressView",
       "bar_style": "success",
       "description": "100%",
       "description_tooltip": null,
       "layout": "IPY_MODEL_6a0562318fc744dfa57c16fe872d7b22",
       "max": 531.0,
       "min": 0.0,
       "orientation": "horizontal",
       "style": "IPY_MODEL_2bba263b72ef46d192a2d08d9fee4952",
       "value": 531.0
      }
     },
     "ed29327fe7794078905bd8ba1db6200b": {
      "model_module": "@jupyter-widgets/base",
      "model_module_version": "1.2.0",
      "model_name": "LayoutModel",
      "state": {
       "_model_module": "@jupyter-widgets/base",
       "_model_module_version": "1.2.0",
       "_model_name": "LayoutModel",
       "_view_count": null,
       "_view_module": "@jupyter-widgets/base",
       "_view_module_version": "1.2.0",
       "_view_name": "LayoutView",
       "align_content": null,
       "align_items": null,
       "align_self": null,
       "border": null,
       "bottom": null,
       "display": null,
       "flex": null,
       "flex_flow": null,
       "grid_area": null,
       "grid_auto_columns": null,
       "grid_auto_flow": null,
       "grid_auto_rows": null,
       "grid_column": null,
       "grid_gap": null,
       "grid_row": null,
       "grid_template_areas": null,
       "grid_template_columns": null,
       "grid_template_rows": null,
       "height": null,
       "justify_content": null,
       "justify_items": null,
       "left": null,
       "margin": null,
       "max_height": null,
       "max_width": null,
       "min_height": null,
       "min_width": null,
       "object_fit": null,
       "object_position": null,
       "order": null,
       "overflow": null,
       "overflow_x": null,
       "overflow_y": null,
       "padding": null,
       "right": null,
       "top": null,
       "visibility": null,
       "width": null
      }
     }
    },
    "version_major": 2,
    "version_minor": 0
   }
  }
 },
 "nbformat": 4,
 "nbformat_minor": 4
}
