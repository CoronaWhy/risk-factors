{
  "nbformat": 4,
  "nbformat_minor": 0,
  "metadata": {
    "colab": {
      "name": "Pollution relation with Covid-19.ipynb",
      "provenance": [],
      "machine_shape": "hm"
    },
    "kernelspec": {
      "name": "python3",
      "display_name": "Python 3"
    }
  },
  "cells": [
    {
      "cell_type": "markdown",
      "metadata": {
        "id": "tEznHFXcKTlU",
        "colab_type": "text"
      },
      "source": [
        "### Setting up Kaggle API in Google Colaboratory"
      ]
    },
    {
      "cell_type": "code",
      "metadata": {
        "id": "haItZkO3IDXH",
        "colab_type": "code",
        "colab": {}
      },
      "source": [
        "!pip install -q kaggle"
      ],
      "execution_count": 0,
      "outputs": []
    },
    {
      "cell_type": "code",
      "metadata": {
        "id": "UDjgdtN0JPXt",
        "colab_type": "code",
        "colab": {}
      },
      "source": [
        "f = open(\"kaggle.json\", \"w\")\n",
        "f.write('{\"username\":\"pranjalya\",\"key\":\"fa4deb4f89e2fe282a3e29c166413ecf\"}')\n",
        "f.close()"
      ],
      "execution_count": 0,
      "outputs": []
    },
    {
      "cell_type": "code",
      "metadata": {
        "id": "7R71aMxBJUZP",
        "colab_type": "code",
        "colab": {}
      },
      "source": [
        "!mkdir ~/.kaggle"
      ],
      "execution_count": 0,
      "outputs": []
    },
    {
      "cell_type": "code",
      "metadata": {
        "id": "dztMX5u0Jda1",
        "colab_type": "code",
        "colab": {}
      },
      "source": [
        "!cp kaggle.json ~/.kaggle/"
      ],
      "execution_count": 0,
      "outputs": []
    },
    {
      "cell_type": "code",
      "metadata": {
        "id": "AOoD_D7KJheO",
        "colab_type": "code",
        "colab": {}
      },
      "source": [
        "!chmod 600 ~/.kaggle/kaggle.json"
      ],
      "execution_count": 0,
      "outputs": []
    },
    {
      "cell_type": "code",
      "metadata": {
        "id": "sHMWtGu1Jyd4",
        "colab_type": "code",
        "outputId": "a51ec596-c473-481e-c243-f65cec38563f",
        "colab": {
          "base_uri": "https://localhost:8080/",
          "height": 68
        }
      },
      "source": [
        "!kaggle datasets download -d skylord/coronawhy"
      ],
      "execution_count": 6,
      "outputs": [
        {
          "output_type": "stream",
          "text": [
            "Downloading coronawhy.zip to /content\n",
            "100% 13.2G/13.2G [03:36<00:00, 66.7MB/s]\n",
            "100% 13.2G/13.2G [03:36<00:00, 65.4MB/s]\n"
          ],
          "name": "stdout"
        }
      ]
    },
    {
      "cell_type": "markdown",
      "metadata": {
        "id": "ue6pPnaHKcQk",
        "colab_type": "text"
      },
      "source": [
        "## Finding papers containing pollution keywords in correlation with COVID-19 lethal outcomes"
      ]
    },
    {
      "cell_type": "markdown",
      "metadata": {
        "id": "OrfVs51LKqBL",
        "colab_type": "text"
      },
      "source": [
        "**Task at hand** :  https://trello.com/c/SA27hbNo/35-finding-papers-on-correlation-between-pollution-and-lethal-outcomes"
      ]
    },
    {
      "cell_type": "code",
      "metadata": {
        "id": "nGu_zhg8KGnu",
        "colab_type": "code",
        "outputId": "7a1b5b75-6c9c-4092-c7b4-495f093b3277",
        "colab": {
          "base_uri": "https://localhost:8080/",
          "height": 377
        }
      },
      "source": [
        "!pip install spacy_langdetect"
      ],
      "execution_count": 7,
      "outputs": [
        {
          "output_type": "stream",
          "text": [
            "Collecting spacy_langdetect\n",
            "  Downloading https://files.pythonhosted.org/packages/29/70/72dad19abe81ca8e85ff951da170915211d42d705a001d7e353af349a704/spacy_langdetect-0.1.2-py3-none-any.whl\n",
            "Requirement already satisfied: pytest in /usr/local/lib/python3.6/dist-packages (from spacy_langdetect) (3.6.4)\n",
            "Collecting langdetect==1.0.7\n",
            "\u001b[?25l  Downloading https://files.pythonhosted.org/packages/59/59/4bc44158a767a6d66de18c4136c8aa90491d56cc951c10b74dd1e13213c9/langdetect-1.0.7.zip (998kB)\n",
            "\u001b[K     |████████████████████████████████| 1.0MB 9.3MB/s \n",
            "\u001b[?25hRequirement already satisfied: more-itertools>=4.0.0 in /usr/local/lib/python3.6/dist-packages (from pytest->spacy_langdetect) (8.2.0)\n",
            "Requirement already satisfied: py>=1.5.0 in /usr/local/lib/python3.6/dist-packages (from pytest->spacy_langdetect) (1.8.1)\n",
            "Requirement already satisfied: attrs>=17.4.0 in /usr/local/lib/python3.6/dist-packages (from pytest->spacy_langdetect) (19.3.0)\n",
            "Requirement already satisfied: setuptools in /usr/local/lib/python3.6/dist-packages (from pytest->spacy_langdetect) (46.1.3)\n",
            "Requirement already satisfied: atomicwrites>=1.0 in /usr/local/lib/python3.6/dist-packages (from pytest->spacy_langdetect) (1.3.0)\n",
            "Requirement already satisfied: six>=1.10.0 in /usr/local/lib/python3.6/dist-packages (from pytest->spacy_langdetect) (1.12.0)\n",
            "Requirement already satisfied: pluggy<0.8,>=0.5 in /usr/local/lib/python3.6/dist-packages (from pytest->spacy_langdetect) (0.7.1)\n",
            "Building wheels for collected packages: langdetect\n",
            "  Building wheel for langdetect (setup.py) ... \u001b[?25l\u001b[?25hdone\n",
            "  Created wheel for langdetect: filename=langdetect-1.0.7-cp36-none-any.whl size=993459 sha256=cf65fcc7e4257914f15b8cbab856a650be2956773d667bba8fcc6fbc092d49e6\n",
            "  Stored in directory: /root/.cache/pip/wheels/ec/0c/a9/1647275e7ef5014e7b83ff30105180e332867d65e7617ddafe\n",
            "Successfully built langdetect\n",
            "Installing collected packages: langdetect, spacy-langdetect\n",
            "Successfully installed langdetect-1.0.7 spacy-langdetect-0.1.2\n"
          ],
          "name": "stdout"
        }
      ]
    },
    {
      "cell_type": "code",
      "metadata": {
        "id": "sRTbTWnvLe9a",
        "colab_type": "code",
        "outputId": "5f99f4fa-88c3-4899-d9b2-5748ca3e45ef",
        "colab": {
          "base_uri": "https://localhost:8080/",
          "height": 408
        }
      },
      "source": [
        "!unzip coronawhy.zip v6_text/*\n",
        "!unzip coronawhy.zip clean_metadata.csv"
      ],
      "execution_count": 8,
      "outputs": [
        {
          "output_type": "stream",
          "text": [
            "Archive:  coronawhy.zip\n",
            "  inflating: v6_text/v6_text/v6_text_0.pkl  \n",
            "  inflating: v6_text/v6_text/v6_text_1.pkl  \n",
            "  inflating: v6_text/v6_text/v6_text_10.pkl  \n",
            "  inflating: v6_text/v6_text/v6_text_11.pkl  \n",
            "  inflating: v6_text/v6_text/v6_text_12.pkl  \n",
            "  inflating: v6_text/v6_text/v6_text_13.pkl  \n",
            "  inflating: v6_text/v6_text/v6_text_14.pkl  \n",
            "  inflating: v6_text/v6_text/v6_text_15.pkl  \n",
            "  inflating: v6_text/v6_text/v6_text_16.pkl  \n",
            "  inflating: v6_text/v6_text/v6_text_17.pkl  \n",
            "  inflating: v6_text/v6_text/v6_text_18.pkl  \n",
            "  inflating: v6_text/v6_text/v6_text_19.pkl  \n",
            "  inflating: v6_text/v6_text/v6_text_2.pkl  \n",
            "  inflating: v6_text/v6_text/v6_text_3.pkl  \n",
            "  inflating: v6_text/v6_text/v6_text_4.pkl  \n",
            "  inflating: v6_text/v6_text/v6_text_5.pkl  \n",
            "  inflating: v6_text/v6_text/v6_text_6.pkl  \n",
            "  inflating: v6_text/v6_text/v6_text_7.pkl  \n",
            "  inflating: v6_text/v6_text/v6_text_8.pkl  \n",
            "  inflating: v6_text/v6_text/v6_text_9.pkl  \n",
            "Archive:  coronawhy.zip\n",
            "  inflating: clean_metadata.csv      \n"
          ],
          "name": "stdout"
        }
      ]
    },
    {
      "cell_type": "code",
      "metadata": {
        "id": "pr1u9HUOLDxT",
        "colab_type": "code",
        "colab": {}
      },
      "source": [
        "# Importing required libraries\n",
        "\n",
        "import os\n",
        "import pandas as pd\n",
        "import numpy as np\n",
        "\n",
        "PATH = \"v6_text/v6_text/\""
      ],
      "execution_count": 0,
      "outputs": []
    },
    {
      "cell_type": "markdown",
      "metadata": {
        "id": "UY7vcU6p69jP",
        "colab_type": "text"
      },
      "source": [
        "Here are the keywords (currently, we have trigrams) to search for in the papers."
      ]
    },
    {
      "cell_type": "code",
      "metadata": {
        "id": "ub09elGDyMUQ",
        "colab_type": "code",
        "colab": {}
      },
      "source": [
        "# Pollution n-grams\n",
        "\n",
        "pollution = ['air pollution and', 'indoor air pollutants', 'indoor air pollution', 'household air pollution', \n",
        "             'air pollution is', 'between air pollution', 'of air pollution', 'particulate air pollution',\n",
        "             'pollution and the', 'air pollutant data']"
      ],
      "execution_count": 0,
      "outputs": []
    },
    {
      "cell_type": "markdown",
      "metadata": {
        "id": "Qrcyrn4JySvx",
        "colab_type": "text"
      },
      "source": [
        "The output is supposed to be in this format."
      ]
    },
    {
      "cell_type": "code",
      "metadata": {
        "id": "m9Lgt1Pz7iTd",
        "colab_type": "code",
        "colab": {}
      },
      "source": [
        "df_output = pd.DataFrame(columns=['Risk Factor', 'Keyword/Ngram', 'Paper ID', 'URL', \n",
        "                                  'Sentences from Result', 'Sentences from Method', \n",
        "                                  'Design Methodology', 'Correlation', 'Authors', \n",
        "                                  'No of Citations', 'No of keyword occurence in Paper'])"
      ],
      "execution_count": 0,
      "outputs": []
    },
    {
      "cell_type": "markdown",
      "metadata": {
        "id": "rWHbTs8n7A5-",
        "colab_type": "text"
      },
      "source": [
        "**Searching for the keywords only in method and result section of the papers, as the most relevant papers can be found there only.**\n",
        "\n",
        "(This cell may take some time)"
      ]
    },
    {
      "cell_type": "code",
      "metadata": {
        "id": "hNa-HNKZylBN",
        "colab_type": "code",
        "colab": {}
      },
      "source": [
        "firstpass = True\n",
        "\n",
        "for pkl in os.listdir(PATH):\n",
        "  df = pd.read_pickle(PATH+pkl, compression='gzip')\n",
        "  if(firstpass):\n",
        "    df_method = df[df['section']=='methods']\n",
        "    df_result = df[df['section']=='results']\n",
        "    firstpass = False\n",
        "  else:\n",
        "    df_method = pd.concat([df_method, df[df['section']=='methods']])\n",
        "    df_result = pd.concat([df_result, df[df['section']=='results']])"
      ],
      "execution_count": 0,
      "outputs": []
    },
    {
      "cell_type": "code",
      "metadata": {
        "id": "HJ6bzXwg100f",
        "colab_type": "code",
        "outputId": "eb223cf7-e0f2-4dc9-e762-dddd7c1da4b9",
        "colab": {
          "base_uri": "https://localhost:8080/",
          "height": 51
        }
      },
      "source": [
        "print(\"No of unique papers in method section : \", df_method['paper_id'].nunique(), \" out of \", \n",
        "      len(df_method), \" rows in dataframe\")\n",
        "print(\"No of unique papers in result section : \", df_result['paper_id'].nunique(), \" out of \", \n",
        "      len(df_result), \" rows in dataframe\")"
      ],
      "execution_count": 13,
      "outputs": [
        {
          "output_type": "stream",
          "text": [
            "No of unique papers in method section :  9692  out of  187090  rows in dataframe\n",
            "No of unique papers in result section :  7820  out of  178050  rows in dataframe\n"
          ],
          "name": "stdout"
        }
      ]
    },
    {
      "cell_type": "code",
      "metadata": {
        "id": "SAKAkjOwEHQY",
        "colab_type": "code",
        "outputId": "6bc51eb1-b6f3-412a-b060-92a9d8d3f20e",
        "colab": {
          "base_uri": "https://localhost:8080/",
          "height": 748
        }
      },
      "source": [
        "df_method.info()"
      ],
      "execution_count": 14,
      "outputs": [
        {
          "output_type": "stream",
          "text": [
            "<class 'pandas.core.frame.DataFrame'>\n",
            "Int64Index: 187090 entries, 288 to 370559\n",
            "Data columns (total 36 columns):\n",
            " #   Column                           Non-Null Count   Dtype \n",
            "---  ------                           --------------   ----- \n",
            " 0   paper_id                         187090 non-null  string\n",
            " 1   language                         187090 non-null  object\n",
            " 2   section                          187090 non-null  object\n",
            " 3   sentence                         187090 non-null  string\n",
            " 4   lemma                            187090 non-null  object\n",
            " 5   UMLS                             187090 non-null  object\n",
            " 6   GGP                              187090 non-null  object\n",
            " 7   SO                               187090 non-null  object\n",
            " 8   TAXON                            187090 non-null  object\n",
            " 9   CHEBI                            187090 non-null  object\n",
            " 10  GO                               187090 non-null  object\n",
            " 11  CL                               187090 non-null  object\n",
            " 12  DNA                              187090 non-null  object\n",
            " 13  CELL_TYPE                        187090 non-null  object\n",
            " 14  CELL_LINE                        187090 non-null  object\n",
            " 15  RNA                              187090 non-null  object\n",
            " 16  PROTEIN                          187090 non-null  object\n",
            " 17  DISEASE                          187090 non-null  object\n",
            " 18  CHEMICAL                         187090 non-null  object\n",
            " 19  CANCER                           187090 non-null  object\n",
            " 20  ORGAN                            187090 non-null  object\n",
            " 21  TISSUE                           187090 non-null  object\n",
            " 22  ORGANISM                         187090 non-null  object\n",
            " 23  CELL                             187090 non-null  object\n",
            " 24  AMINO_ACID                       187090 non-null  object\n",
            " 25  GENE_OR_GENE_PRODUCT             187090 non-null  object\n",
            " 26  SIMPLE_CHEMICAL                  187090 non-null  object\n",
            " 27  ANATOMICAL_SYSTEM                187090 non-null  object\n",
            " 28  IMMATERIAL_ANATOMICAL_ENTITY     187090 non-null  object\n",
            " 29  MULTI-TISSUE_STRUCTURE           187090 non-null  object\n",
            " 30  DEVELOPING_ANATOMICAL_STRUCTURE  187090 non-null  object\n",
            " 31  ORGANISM_SUBDIVISION             187090 non-null  object\n",
            " 32  CELLULAR_COMPONENT               187090 non-null  object\n",
            " 33  PATHOLOGICAL_FORMATION           187090 non-null  object\n",
            " 34  ORGANISM_SUBSTANCE               187090 non-null  object\n",
            " 35  sentence_id                      187090 non-null  string\n",
            "dtypes: object(33), string(3)\n",
            "memory usage: 52.8+ MB\n"
          ],
          "name": "stdout"
        }
      ]
    },
    {
      "cell_type": "markdown",
      "metadata": {
        "id": "LbCzPzpp7a7c",
        "colab_type": "text"
      },
      "source": [
        "*Just some function I thought I would use, but never did, actually. Maybe someone could find them useful."
      ]
    },
    {
      "cell_type": "code",
      "metadata": {
        "id": "9ROBm9JFcTeC",
        "colab_type": "code",
        "colab": {}
      },
      "source": [
        "def isPresentInList(A, B):\n",
        "  '''\n",
        "  A, B : Lists\n",
        "  Returns : Boolean value for whether A appears as sequence in B\n",
        "  '''\n",
        "  return ', '.join(map(str, A)) in ', '.join(map(str, B))"
      ],
      "execution_count": 0,
      "outputs": []
    },
    {
      "cell_type": "markdown",
      "metadata": {
        "id": "4yjyRe_I7zVb",
        "colab_type": "text"
      },
      "source": [
        "***Now we extract sentences from the method and result sections of papers, which contain the keywords.***"
      ]
    },
    {
      "cell_type": "code",
      "metadata": {
        "id": "-e6sJksdtBnz",
        "colab_type": "code",
        "colab": {}
      },
      "source": [
        "df_method_p = df_method[df_method['sentence'].str.contains('|'.join(pollution), case=False) == True]\n",
        "df_result_p = df_result[df_result['sentence'].str.contains('|'.join(pollution), case=False) == True]\n",
        "\n",
        "# Merging the method and result section sentences into single dataframe\n",
        "df_real = pd.concat([df_method_p, df_result_p])"
      ],
      "execution_count": 0,
      "outputs": []
    },
    {
      "cell_type": "code",
      "metadata": {
        "id": "cEJNxJLwu4US",
        "colab_type": "code",
        "colab": {
          "base_uri": "https://localhost:8080/",
          "height": 51
        },
        "outputId": "80749268-810d-4dab-b176-7355496a0756"
      },
      "source": [
        "print(\"There are {} sentences containing keywords/ngrams in Method section.\".format(len(df_method_p)))\n",
        "print(\"There are {} sentences containing keywords/ngrams in Result section.\".format(len(df_result_p)))"
      ],
      "execution_count": 17,
      "outputs": [
        {
          "output_type": "stream",
          "text": [
            "There are 38 sentences containing keywords/ngrams in Method section.\n",
            "There are 8 sentences containing keywords/ngrams in Result section.\n"
          ],
          "name": "stdout"
        }
      ]
    },
    {
      "cell_type": "code",
      "metadata": {
        "id": "o6uun6vMM8ul",
        "colab_type": "code",
        "colab": {
          "base_uri": "https://localhost:8080/",
          "height": 68
        },
        "outputId": "235de180-1724-419c-abc7-e2500be7d49a"
      },
      "source": [
        "print(\"Total unique papers in Method section : {}\".format(df_method_p['paper_id'].nunique()))\n",
        "print(\"Total unique papers in Result section : {}\".format(df_result_p['paper_id'].nunique()))\n",
        "print(\"Total unique papers in combined section : {}\".format(df_real['paper_id'].nunique()))"
      ],
      "execution_count": 18,
      "outputs": [
        {
          "output_type": "stream",
          "text": [
            "Total unique papers in Method section : 17\n",
            "Total unique papers in Result section : 6\n",
            "Total unique papers in combined section : 20\n"
          ],
          "name": "stdout"
        }
      ]
    },
    {
      "cell_type": "markdown",
      "metadata": {
        "id": "2gH4to_O8EOO",
        "colab_type": "text"
      },
      "source": [
        "Hence, we have 20 papers which mention mention the specified keywords."
      ]
    },
    {
      "cell_type": "code",
      "metadata": {
        "id": "pyVvEGnENgWk",
        "colab_type": "code",
        "colab": {
          "base_uri": "https://localhost:8080/",
          "height": 442
        },
        "outputId": "8c966e47-d0f9-40f3-b87a-84b9daf51b98"
      },
      "source": [
        "metadata = pd.read_csv('clean_metadata.csv')\n",
        "metadata.rename(columns={'sha':'paper_id'}, inplace = True)\n",
        "metadata['paper_id'] = metadata['paper_id'].astype(\"string\")\n",
        "metadata.info()"
      ],
      "execution_count": 19,
      "outputs": [
        {
          "output_type": "stream",
          "text": [
            "<class 'pandas.core.frame.DataFrame'>\n",
            "RangeIndex: 31745 entries, 0 to 31744\n",
            "Data columns (total 18 columns):\n",
            " #   Column                       Non-Null Count  Dtype  \n",
            "---  ------                       --------------  -----  \n",
            " 0   Unnamed: 0                   31745 non-null  int64  \n",
            " 1   cord_uid                     31745 non-null  object \n",
            " 2   paper_id                     31744 non-null  string \n",
            " 3   source_x                     31745 non-null  object \n",
            " 4   title                        31710 non-null  object \n",
            " 5   doi                          31745 non-null  object \n",
            " 6   pmcid                        16636 non-null  object \n",
            " 7   pubmed_id                    24739 non-null  float64\n",
            " 8   license                      31745 non-null  object \n",
            " 9   abstract                     27917 non-null  object \n",
            " 10  publish_time                 31745 non-null  object \n",
            " 11  authors                      31191 non-null  object \n",
            " 12  journal                      30623 non-null  object \n",
            " 13  Microsoft Academic Paper ID  357 non-null    float64\n",
            " 14  WHO #Covidence               490 non-null    object \n",
            " 15  has_full_text                31745 non-null  bool   \n",
            " 16  full_text_file               31745 non-null  object \n",
            " 17  url                          31563 non-null  object \n",
            "dtypes: bool(1), float64(2), int64(1), object(13), string(1)\n",
            "memory usage: 4.1+ MB\n"
          ],
          "name": "stdout"
        }
      ]
    },
    {
      "cell_type": "code",
      "metadata": {
        "id": "_hQJxS6K2Chv",
        "colab_type": "code",
        "outputId": "cec3d7d3-750f-43d0-92a7-b7a83b390035",
        "colab": {
          "base_uri": "https://localhost:8080/",
          "height": 301
        }
      },
      "source": [
        "df_real.head(2)"
      ],
      "execution_count": 20,
      "outputs": [
        {
          "output_type": "execute_result",
          "data": {
            "text/html": [
              "<div>\n",
              "<style scoped>\n",
              "    .dataframe tbody tr th:only-of-type {\n",
              "        vertical-align: middle;\n",
              "    }\n",
              "\n",
              "    .dataframe tbody tr th {\n",
              "        vertical-align: top;\n",
              "    }\n",
              "\n",
              "    .dataframe thead th {\n",
              "        text-align: right;\n",
              "    }\n",
              "</style>\n",
              "<table border=\"1\" class=\"dataframe\">\n",
              "  <thead>\n",
              "    <tr style=\"text-align: right;\">\n",
              "      <th></th>\n",
              "      <th>paper_id</th>\n",
              "      <th>language</th>\n",
              "      <th>section</th>\n",
              "      <th>sentence</th>\n",
              "      <th>lemma</th>\n",
              "      <th>UMLS</th>\n",
              "      <th>GGP</th>\n",
              "      <th>SO</th>\n",
              "      <th>TAXON</th>\n",
              "      <th>CHEBI</th>\n",
              "      <th>GO</th>\n",
              "      <th>CL</th>\n",
              "      <th>DNA</th>\n",
              "      <th>CELL_TYPE</th>\n",
              "      <th>CELL_LINE</th>\n",
              "      <th>RNA</th>\n",
              "      <th>PROTEIN</th>\n",
              "      <th>DISEASE</th>\n",
              "      <th>CHEMICAL</th>\n",
              "      <th>CANCER</th>\n",
              "      <th>ORGAN</th>\n",
              "      <th>TISSUE</th>\n",
              "      <th>ORGANISM</th>\n",
              "      <th>CELL</th>\n",
              "      <th>AMINO_ACID</th>\n",
              "      <th>GENE_OR_GENE_PRODUCT</th>\n",
              "      <th>SIMPLE_CHEMICAL</th>\n",
              "      <th>ANATOMICAL_SYSTEM</th>\n",
              "      <th>IMMATERIAL_ANATOMICAL_ENTITY</th>\n",
              "      <th>MULTI-TISSUE_STRUCTURE</th>\n",
              "      <th>DEVELOPING_ANATOMICAL_STRUCTURE</th>\n",
              "      <th>ORGANISM_SUBDIVISION</th>\n",
              "      <th>CELLULAR_COMPONENT</th>\n",
              "      <th>PATHOLOGICAL_FORMATION</th>\n",
              "      <th>ORGANISM_SUBSTANCE</th>\n",
              "      <th>sentence_id</th>\n",
              "    </tr>\n",
              "  </thead>\n",
              "  <tbody>\n",
              "    <tr>\n",
              "      <th>119389</th>\n",
              "      <td>142a615ffb970d12beaa9597bff2b9c49da4bb96</td>\n",
              "      <td>en</td>\n",
              "      <td>methods</td>\n",
              "      <td>We searched a variety of databases-Medline (Ov...</td>\n",
              "      <td>[-PRON-, search, a, variety, of, databases-med...</td>\n",
              "      <td>[ovid, Global Health, Combinations (Undergarme...</td>\n",
              "      <td>[]</td>\n",
              "      <td>[]</td>\n",
              "      <td>[]</td>\n",
              "      <td>[]</td>\n",
              "      <td>[]</td>\n",
              "      <td>[]</td>\n",
              "      <td>[]</td>\n",
              "      <td>[]</td>\n",
              "      <td>[]</td>\n",
              "      <td>[]</td>\n",
              "      <td>[]</td>\n",
              "      <td>[pneumonia]</td>\n",
              "      <td>[databases-Medline, smoking]</td>\n",
              "      <td>[]</td>\n",
              "      <td>[breast]</td>\n",
              "      <td>[]</td>\n",
              "      <td>[]</td>\n",
              "      <td>[]</td>\n",
              "      <td>[]</td>\n",
              "      <td>[]</td>\n",
              "      <td>[databases-Medline, Ovid]</td>\n",
              "      <td>[]</td>\n",
              "      <td>[]</td>\n",
              "      <td>[]</td>\n",
              "      <td>[]</td>\n",
              "      <td>[]</td>\n",
              "      <td>[]</td>\n",
              "      <td>[]</td>\n",
              "      <td>[]</td>\n",
              "      <td>142a6551934bb96</td>\n",
              "    </tr>\n",
              "    <tr>\n",
              "      <th>238396</th>\n",
              "      <td>7bc929ab19e608e85e901dd0e3fe014ec8761a60</td>\n",
              "      <td>en</td>\n",
              "      <td>methods</td>\n",
              "      <td>The systematic approach involves the measureme...</td>\n",
              "      <td>[the, systematic, approach, involve, the, meas...</td>\n",
              "      <td>[Systems Analysis, Measurement, Clinical Trial...</td>\n",
              "      <td>[]</td>\n",
              "      <td>[]</td>\n",
              "      <td>[]</td>\n",
              "      <td>[pollutants]</td>\n",
              "      <td>[]</td>\n",
              "      <td>[]</td>\n",
              "      <td>[]</td>\n",
              "      <td>[]</td>\n",
              "      <td>[]</td>\n",
              "      <td>[]</td>\n",
              "      <td>[]</td>\n",
              "      <td>[]</td>\n",
              "      <td>[]</td>\n",
              "      <td>[]</td>\n",
              "      <td>[]</td>\n",
              "      <td>[]</td>\n",
              "      <td>[]</td>\n",
              "      <td>[]</td>\n",
              "      <td>[]</td>\n",
              "      <td>[]</td>\n",
              "      <td>[]</td>\n",
              "      <td>[]</td>\n",
              "      <td>[]</td>\n",
              "      <td>[]</td>\n",
              "      <td>[]</td>\n",
              "      <td>[]</td>\n",
              "      <td>[]</td>\n",
              "      <td>[]</td>\n",
              "      <td>[]</td>\n",
              "      <td>7bc922187361a60</td>\n",
              "    </tr>\n",
              "  </tbody>\n",
              "</table>\n",
              "</div>"
            ],
            "text/plain": [
              "                                        paper_id  ...      sentence_id\n",
              "119389  142a615ffb970d12beaa9597bff2b9c49da4bb96  ...  142a6551934bb96\n",
              "238396  7bc929ab19e608e85e901dd0e3fe014ec8761a60  ...  7bc922187361a60\n",
              "\n",
              "[2 rows x 36 columns]"
            ]
          },
          "metadata": {
            "tags": []
          },
          "execution_count": 20
        }
      ]
    },
    {
      "cell_type": "code",
      "metadata": {
        "id": "VNF1VXcN1Res",
        "colab_type": "code",
        "colab": {
          "base_uri": "https://localhost:8080/",
          "height": 219
        },
        "outputId": "26018f80-c3bb-4d01-b41c-1c6526180a6f"
      },
      "source": [
        "metadata.head(1)"
      ],
      "execution_count": 21,
      "outputs": [
        {
          "output_type": "execute_result",
          "data": {
            "text/html": [
              "<div>\n",
              "<style scoped>\n",
              "    .dataframe tbody tr th:only-of-type {\n",
              "        vertical-align: middle;\n",
              "    }\n",
              "\n",
              "    .dataframe tbody tr th {\n",
              "        vertical-align: top;\n",
              "    }\n",
              "\n",
              "    .dataframe thead th {\n",
              "        text-align: right;\n",
              "    }\n",
              "</style>\n",
              "<table border=\"1\" class=\"dataframe\">\n",
              "  <thead>\n",
              "    <tr style=\"text-align: right;\">\n",
              "      <th></th>\n",
              "      <th>Unnamed: 0</th>\n",
              "      <th>cord_uid</th>\n",
              "      <th>paper_id</th>\n",
              "      <th>source_x</th>\n",
              "      <th>title</th>\n",
              "      <th>doi</th>\n",
              "      <th>pmcid</th>\n",
              "      <th>pubmed_id</th>\n",
              "      <th>license</th>\n",
              "      <th>abstract</th>\n",
              "      <th>publish_time</th>\n",
              "      <th>authors</th>\n",
              "      <th>journal</th>\n",
              "      <th>Microsoft Academic Paper ID</th>\n",
              "      <th>WHO #Covidence</th>\n",
              "      <th>has_full_text</th>\n",
              "      <th>full_text_file</th>\n",
              "      <th>url</th>\n",
              "    </tr>\n",
              "  </thead>\n",
              "  <tbody>\n",
              "    <tr>\n",
              "      <th>0</th>\n",
              "      <td>0</td>\n",
              "      <td>vho70jcx</td>\n",
              "      <td>f056da9c64fbf00a4645ae326e8a4339d015d155</td>\n",
              "      <td>biorxiv</td>\n",
              "      <td>SIANN: Strain Identification by Alignment to N...</td>\n",
              "      <td>http://doi.org/10.1101/001727</td>\n",
              "      <td>NaN</td>\n",
              "      <td>NaN</td>\n",
              "      <td>biorxiv</td>\n",
              "      <td>Next-generation sequencing is increasingly bei...</td>\n",
              "      <td>2014-01-10</td>\n",
              "      <td>Samuel Minot; Stephen D Turner; Krista L Ternu...</td>\n",
              "      <td>NaN</td>\n",
              "      <td>NaN</td>\n",
              "      <td>NaN</td>\n",
              "      <td>True</td>\n",
              "      <td>biorxiv_medrxiv</td>\n",
              "      <td>https://doi.org/10.1101/001727</td>\n",
              "    </tr>\n",
              "  </tbody>\n",
              "</table>\n",
              "</div>"
            ],
            "text/plain": [
              "   Unnamed: 0  cord_uid  ...   full_text_file                             url\n",
              "0           0  vho70jcx  ...  biorxiv_medrxiv  https://doi.org/10.1101/001727\n",
              "\n",
              "[1 rows x 18 columns]"
            ]
          },
          "metadata": {
            "tags": []
          },
          "execution_count": 21
        }
      ]
    },
    {
      "cell_type": "markdown",
      "metadata": {
        "id": "LXdzYvu98rbo",
        "colab_type": "text"
      },
      "source": [
        "Merging the given papers with their metadata, which contains relevant data."
      ]
    },
    {
      "cell_type": "code",
      "metadata": {
        "id": "aL5WuTLmFymD",
        "colab_type": "code",
        "colab": {}
      },
      "source": [
        "df_real = df_real.merge(metadata[['paper_id', 'title', 'abstract', 'publish_time', 'authors', 'url']], on='paper_id', how='left')"
      ],
      "execution_count": 0,
      "outputs": []
    },
    {
      "cell_type": "markdown",
      "metadata": {
        "id": "rCvQxCY381sO",
        "colab_type": "text"
      },
      "source": [
        "Keeping only the fields which are relevant to us."
      ]
    },
    {
      "cell_type": "code",
      "metadata": {
        "id": "OfnsH5GU5T7Q",
        "colab_type": "code",
        "outputId": "5ad7d2ee-a8b9-4936-f9ec-68b4754eae10",
        "colab": {
          "base_uri": "https://localhost:8080/",
          "height": 340
        }
      },
      "source": [
        "df_real = df_real[['paper_id', 'language', 'section', 'sentence', 'lemma', 'UMLS', 'sentence_id', 'title', 'abstract', 'publish_time', 'authors', 'url']]\n",
        "df_real.info()"
      ],
      "execution_count": 23,
      "outputs": [
        {
          "output_type": "stream",
          "text": [
            "<class 'pandas.core.frame.DataFrame'>\n",
            "Int64Index: 46 entries, 0 to 45\n",
            "Data columns (total 12 columns):\n",
            " #   Column        Non-Null Count  Dtype \n",
            "---  ------        --------------  ----- \n",
            " 0   paper_id      46 non-null     string\n",
            " 1   language      46 non-null     object\n",
            " 2   section       46 non-null     object\n",
            " 3   sentence      46 non-null     string\n",
            " 4   lemma         46 non-null     object\n",
            " 5   UMLS          46 non-null     object\n",
            " 6   sentence_id   46 non-null     string\n",
            " 7   title         45 non-null     object\n",
            " 8   abstract      45 non-null     object\n",
            " 9   publish_time  45 non-null     object\n",
            " 10  authors       42 non-null     object\n",
            " 11  url           45 non-null     object\n",
            "dtypes: object(9), string(3)\n",
            "memory usage: 4.7+ KB\n"
          ],
          "name": "stdout"
        }
      ]
    },
    {
      "cell_type": "markdown",
      "metadata": {
        "id": "I23Zk82h8nKn",
        "colab_type": "text"
      },
      "source": [
        "**TO WORK ON : ** If we need to also get all the papers which show lethality, among the papers containing risk factor keywords."
      ]
    },
    {
      "cell_type": "code",
      "metadata": {
        "id": "JA04dSW8sMaZ",
        "colab_type": "code",
        "colab": {}
      },
      "source": [
        "lethal = [\"death\", \"fatality\", \"mortality\",\"lethal\", \"lethality\", \"morbidity\"]"
      ],
      "execution_count": 0,
      "outputs": []
    },
    {
      "cell_type": "code",
      "metadata": {
        "id": "C_eVWd9GISnt",
        "colab_type": "code",
        "colab": {}
      },
      "source": [
        "def keywordcounter(sentences):\n",
        "  '''\n",
        "  Input : List of sentences\n",
        "  Returns : Keywords present in sentences, Total count of all keywords present in Input\n",
        "  '''\n",
        "  keyword = {}\n",
        "  sent = \" \".join(sentences)\n",
        "  for pol in pollution:\n",
        "    counter = sent.lower().count(pol)\n",
        "    if (counter > 0):\n",
        "      keyword[pol] = counter\n",
        "  return list(keyword.keys()), sum(keyword.values())"
      ],
      "execution_count": 0,
      "outputs": []
    },
    {
      "cell_type": "markdown",
      "metadata": {
        "id": "q6MojxW99fHC",
        "colab_type": "text"
      },
      "source": [
        "***Grouping the sentences by their Paper IDs.***"
      ]
    },
    {
      "cell_type": "code",
      "metadata": {
        "id": "XKZAI9c3AWoP",
        "colab_type": "code",
        "colab": {}
      },
      "source": [
        "grouped = df_real.groupby('paper_id')"
      ],
      "execution_count": 0,
      "outputs": []
    },
    {
      "cell_type": "markdown",
      "metadata": {
        "id": "FoMQeFu99sMk",
        "colab_type": "text"
      },
      "source": [
        "Function to format all the code in specified output format.\n",
        "\n",
        "Work left : \n",
        "\n",
        "-> No of citations for each paper\n",
        "\n",
        "-> Correlation (Unclear)\n",
        "\n",
        "-> Design Methodology (Unclear)"
      ]
    },
    {
      "cell_type": "code",
      "metadata": {
        "id": "NSnaPoUFNZeS",
        "colab_type": "code",
        "colab": {}
      },
      "source": [
        "def aggregation(item):\n",
        "  '''\n",
        "  Input : Dataframe of sentences of a paper\n",
        "  Return : Datframe in Standard Output format\n",
        "  '''\n",
        "  dfo = {}\n",
        "\n",
        "  dfo['Risk Factor'] = 'Pollution'\n",
        "  dfo['Keyword/Ngram'], dfo['No of keyword occurence in Paper'] = keywordcounter(item['sentence'].tolist())\n",
        "  dfo['Paper ID'] = item['paper_id'].iloc[0]\n",
        "  dfo['URL'] = item['url'].iloc[0]\n",
        "  dfo['Sentences from Method'] = item[item['section']=='methods']['sentence'].tolist()\n",
        "  dfo['Sentences from Result'] = item[item['section']=='results']['sentence'].tolist()\n",
        "  dfo['Authors'] = item['authors'].iloc[0]\n",
        "  dfo['No of Citations'] = 0\n",
        "  dfo['Correlation'] = 'Not yet'\n",
        "  dfo['Design Methodology'] = 'None'\n",
        "\n",
        "  return dfo"
      ],
      "execution_count": 0,
      "outputs": []
    },
    {
      "cell_type": "markdown",
      "metadata": {
        "id": "poUAZtrU-xT2",
        "colab_type": "text"
      },
      "source": [
        "Applying function to get the final output dataframe."
      ]
    },
    {
      "cell_type": "code",
      "metadata": {
        "id": "aBUAu6_MGX4C",
        "colab_type": "code",
        "colab": {}
      },
      "source": [
        "for key, item in grouped:\n",
        "  df_output = pd.concat([df_output, pd.DataFrame([aggregation(item)])])"
      ],
      "execution_count": 0,
      "outputs": []
    },
    {
      "cell_type": "code",
      "metadata": {
        "colab_type": "code",
        "outputId": "f3af0438-11d6-437e-ad3a-2f0e92093a7c",
        "id": "A6XSi_grsySh",
        "colab": {
          "base_uri": "https://localhost:8080/",
          "height": 1000
        }
      },
      "source": [
        "df_output = df_output.reset_index()\n",
        "del df_output['index']\n",
        "df_output"
      ],
      "execution_count": 29,
      "outputs": [
        {
          "output_type": "execute_result",
          "data": {
            "text/html": [
              "<div>\n",
              "<style scoped>\n",
              "    .dataframe tbody tr th:only-of-type {\n",
              "        vertical-align: middle;\n",
              "    }\n",
              "\n",
              "    .dataframe tbody tr th {\n",
              "        vertical-align: top;\n",
              "    }\n",
              "\n",
              "    .dataframe thead th {\n",
              "        text-align: right;\n",
              "    }\n",
              "</style>\n",
              "<table border=\"1\" class=\"dataframe\">\n",
              "  <thead>\n",
              "    <tr style=\"text-align: right;\">\n",
              "      <th></th>\n",
              "      <th>Risk Factor</th>\n",
              "      <th>Keyword/Ngram</th>\n",
              "      <th>Paper ID</th>\n",
              "      <th>URL</th>\n",
              "      <th>Sentences from Result</th>\n",
              "      <th>Sentences from Method</th>\n",
              "      <th>Design Methodology</th>\n",
              "      <th>Correlation</th>\n",
              "      <th>Authors</th>\n",
              "      <th>No of Citations</th>\n",
              "      <th>No of keyword occurence in Paper</th>\n",
              "    </tr>\n",
              "  </thead>\n",
              "  <tbody>\n",
              "    <tr>\n",
              "      <th>0</th>\n",
              "      <td>Pollution</td>\n",
              "      <td>[indoor air pollution]</td>\n",
              "      <td>045b111f0f2584890e9271399aa93c917a496662</td>\n",
              "      <td>https://www.ncbi.nlm.nih.gov/pmc/articles/PMC6...</td>\n",
              "      <td>[]</td>\n",
              "      <td>[Some patients participated in linked case-con...</td>\n",
              "      <td>None</td>\n",
              "      <td>Not yet</td>\n",
              "      <td>Aston, Stephen J.; Ho, Antonia; Jary, Hannah; ...</td>\n",
              "      <td>0</td>\n",
              "      <td>1</td>\n",
              "    </tr>\n",
              "    <tr>\n",
              "      <th>1</th>\n",
              "      <td>Pollution</td>\n",
              "      <td>[air pollution and]</td>\n",
              "      <td>0ce2f11a7c4da992b9a8686bd3b2ed53064a2ac8</td>\n",
              "      <td>https://www.ncbi.nlm.nih.gov/pmc/articles/PMC2...</td>\n",
              "      <td>[]</td>\n",
              "      <td>[Hourly data for air pollution and meteorologi...</td>\n",
              "      <td>None</td>\n",
              "      <td>Not yet</td>\n",
              "      <td>Chen, Pei-Shih; Tsai, Feng Ta; Lin, Chien Kun;...</td>\n",
              "      <td>0</td>\n",
              "      <td>1</td>\n",
              "    </tr>\n",
              "    <tr>\n",
              "      <th>2</th>\n",
              "      <td>Pollution</td>\n",
              "      <td>[indoor air pollution, of air pollution]</td>\n",
              "      <td>13a1c758877b216e51c51e9ee532ab5c3e0c12fb</td>\n",
              "      <td>https://www.ncbi.nlm.nih.gov/pmc/articles/PMC5...</td>\n",
              "      <td>[]</td>\n",
              "      <td>[Although ecologic fallacy and uncontrolled co...</td>\n",
              "      <td>None</td>\n",
              "      <td>Not yet</td>\n",
              "      <td>Xia, Tian; Zhu, Yifang; Mu, Lina; Zhang, Zuo-F...</td>\n",
              "      <td>0</td>\n",
              "      <td>2</td>\n",
              "    </tr>\n",
              "    <tr>\n",
              "      <th>3</th>\n",
              "      <td>Pollution</td>\n",
              "      <td>[indoor air pollution]</td>\n",
              "      <td>142a615ffb970d12beaa9597bff2b9c49da4bb96</td>\n",
              "      <td>https://www.ncbi.nlm.nih.gov/pmc/articles/PMC3...</td>\n",
              "      <td>[Of these, 7 risk factors were significantly a...</td>\n",
              "      <td>[We searched a variety of databases-Medline (O...</td>\n",
              "      <td>None</td>\n",
              "      <td>Not yet</td>\n",
              "      <td>Jackson, Stewart; Mathews, Kyle H.; Pulanić, D...</td>\n",
              "      <td>0</td>\n",
              "      <td>3</td>\n",
              "    </tr>\n",
              "    <tr>\n",
              "      <th>4</th>\n",
              "      <td>Pollution</td>\n",
              "      <td>[indoor air pollutants]</td>\n",
              "      <td>142ecef30a98e08395505ea44e0a7a6f8239ed6b</td>\n",
              "      <td>https://doi.org/10.1016/j.cej.2010.11.061</td>\n",
              "      <td>[Indoor air pollutants consist of particulates...</td>\n",
              "      <td>[]</td>\n",
              "      <td>None</td>\n",
              "      <td>Not yet</td>\n",
              "      <td>Yao, Nan; Lun Yeung, King</td>\n",
              "      <td>0</td>\n",
              "      <td>1</td>\n",
              "    </tr>\n",
              "    <tr>\n",
              "      <th>5</th>\n",
              "      <td>Pollution</td>\n",
              "      <td>[of air pollution]</td>\n",
              "      <td>21d98e3c9427e96a21a4dc7f37d420c42cd6e864</td>\n",
              "      <td>https://doi.org/10.1016/j.envres.2010.05.005</td>\n",
              "      <td>[]</td>\n",
              "      <td>[The analytic method used in this study follow...</td>\n",
              "      <td>None</td>\n",
              "      <td>Not yet</td>\n",
              "      <td>Thach, Thuan-Quoc; Wong, Chit-Ming; Chan, King...</td>\n",
              "      <td>0</td>\n",
              "      <td>1</td>\n",
              "    </tr>\n",
              "    <tr>\n",
              "      <th>6</th>\n",
              "      <td>Pollution</td>\n",
              "      <td>[indoor air pollutants, indoor air pollution]</td>\n",
              "      <td>283e32b6190b8c6183e0f5cbfae20c01d7df035c</td>\n",
              "      <td>https://doi.org/10.1016/j.rppneu.2014.02.006</td>\n",
              "      <td>[]</td>\n",
              "      <td>[Since the first studies on indoor air quality...</td>\n",
              "      <td>None</td>\n",
              "      <td>Not yet</td>\n",
              "      <td>Araújo-Martins, J.; Carreiro Martins, P.; Vieg...</td>\n",
              "      <td>0</td>\n",
              "      <td>4</td>\n",
              "    </tr>\n",
              "    <tr>\n",
              "      <th>7</th>\n",
              "      <td>Pollution</td>\n",
              "      <td>[air pollution and, between air pollution]</td>\n",
              "      <td>32412ffe52eb41da8ecfed314b703c49fd041f5c</td>\n",
              "      <td>https://www.ncbi.nlm.nih.gov/pmc/articles/PMC4...</td>\n",
              "      <td>[To study the possible relationship between ai...</td>\n",
              "      <td>[]</td>\n",
              "      <td>None</td>\n",
              "      <td>Not yet</td>\n",
              "      <td>Almagro, Pere; Hernandez, Carme; Martinez-Camb...</td>\n",
              "      <td>0</td>\n",
              "      <td>2</td>\n",
              "    </tr>\n",
              "    <tr>\n",
              "      <th>8</th>\n",
              "      <td>Pollution</td>\n",
              "      <td>[household air pollution]</td>\n",
              "      <td>5ec597fac768d34f7c66553b0d568a5c6f3e2aa0</td>\n",
              "      <td>https://doi.org/10.1016/s1473-3099(19)30410-4</td>\n",
              "      <td>[]</td>\n",
              "      <td>[Although decreased exposure to household air ...</td>\n",
              "      <td>None</td>\n",
              "      <td>Not yet</td>\n",
              "      <td>Troeger, Christopher E; Khalil, Ibrahim A; Bla...</td>\n",
              "      <td>0</td>\n",
              "      <td>3</td>\n",
              "    </tr>\n",
              "    <tr>\n",
              "      <th>9</th>\n",
              "      <td>Pollution</td>\n",
              "      <td>[air pollution and, between air pollution]</td>\n",
              "      <td>75ebad1e8641e5fe2a51214f4d97742ab59a8dae</td>\n",
              "      <td>https://www.ncbi.nlm.nih.gov/pmc/articles/PMC2...</td>\n",
              "      <td>[Ecologic analysis was conducted among 5 regio...</td>\n",
              "      <td>[Ecologic analysis was conducted to explore th...</td>\n",
              "      <td>None</td>\n",
              "      <td>Not yet</td>\n",
              "      <td>Cui, Yan; Zhang, Zuo-Feng; Froines, John; Zhao...</td>\n",
              "      <td>0</td>\n",
              "      <td>3</td>\n",
              "    </tr>\n",
              "    <tr>\n",
              "      <th>10</th>\n",
              "      <td>Pollution</td>\n",
              "      <td>[indoor air pollutants]</td>\n",
              "      <td>7bc929ab19e608e85e901dd0e3fe014ec8761a60</td>\n",
              "      <td>https://www.ncbi.nlm.nih.gov/pmc/articles/PMC7...</td>\n",
              "      <td>[]</td>\n",
              "      <td>[The systematic approach involves the measurem...</td>\n",
              "      <td>None</td>\n",
              "      <td>Not yet</td>\n",
              "      <td>Kuo, Nae-Wen; Chiang, Hsin-Chen; Chiang, Che-Ming</td>\n",
              "      <td>0</td>\n",
              "      <td>1</td>\n",
              "    </tr>\n",
              "    <tr>\n",
              "      <th>11</th>\n",
              "      <td>Pollution</td>\n",
              "      <td>[air pollution and]</td>\n",
              "      <td>7ccfc3b4b4cb4c7966569d165a1b120698ed9b69</td>\n",
              "      <td>https://doi.org/10.1016/j.scitotenv.2011.04.056</td>\n",
              "      <td>[]</td>\n",
              "      <td>[Although most asthma cases are caused by air ...</td>\n",
              "      <td>None</td>\n",
              "      <td>Not yet</td>\n",
              "      <td>Liao, Chung-Min; Hsieh, Nan-Hung; Chio, Chia-Pin</td>\n",
              "      <td>0</td>\n",
              "      <td>1</td>\n",
              "    </tr>\n",
              "    <tr>\n",
              "      <th>12</th>\n",
              "      <td>Pollution</td>\n",
              "      <td>[household air pollution]</td>\n",
              "      <td>7fadc31f532d97c2f2317c05237e5d17833a0381</td>\n",
              "      <td>https://doi.org/10.1016/s2213-2600(19)30249-8</td>\n",
              "      <td>[]</td>\n",
              "      <td>[13 For instance, in a household air pollution...</td>\n",
              "      <td>None</td>\n",
              "      <td>Not yet</td>\n",
              "      <td>Goodman, Dina; Crocker, Mary E; Pervaiz, Farha...</td>\n",
              "      <td>0</td>\n",
              "      <td>5</td>\n",
              "    </tr>\n",
              "    <tr>\n",
              "      <th>13</th>\n",
              "      <td>Pollution</td>\n",
              "      <td>[indoor air pollution, air pollution is]</td>\n",
              "      <td>aff980a3b552e184251a190f2f50f4507a92087b</td>\n",
              "      <td>https://doi.org/10.1016/s2213-2600(18)30103-6</td>\n",
              "      <td>[]</td>\n",
              "      <td>[Measure ment of indoor air pollution is compl...</td>\n",
              "      <td>None</td>\n",
              "      <td>Not yet</td>\n",
              "      <td>Fang, Liwen; Gao, Pei; Bao, Heling; Tang, Xun;...</td>\n",
              "      <td>0</td>\n",
              "      <td>2</td>\n",
              "    </tr>\n",
              "    <tr>\n",
              "      <th>14</th>\n",
              "      <td>Pollution</td>\n",
              "      <td>[air pollutant data]</td>\n",
              "      <td>b83e73208243975983aec9ea7caeaa0f6f4df2ec</td>\n",
              "      <td>NaN</td>\n",
              "      <td>[]</td>\n",
              "      <td>[Meteorological variables included daily avera...</td>\n",
              "      <td>None</td>\n",
              "      <td>Not yet</td>\n",
              "      <td>NaN</td>\n",
              "      <td>0</td>\n",
              "      <td>1</td>\n",
              "    </tr>\n",
              "    <tr>\n",
              "      <th>15</th>\n",
              "      <td>Pollution</td>\n",
              "      <td>[air pollutant data]</td>\n",
              "      <td>da030e57b186fc870eab92c4f1ac6be717ede6da</td>\n",
              "      <td>https://www.ncbi.nlm.nih.gov/pmc/articles/PMC6...</td>\n",
              "      <td>[Completeness of the air pollutant data ranged...</td>\n",
              "      <td>[]</td>\n",
              "      <td>None</td>\n",
              "      <td>Not yet</td>\n",
              "      <td>Yap, Jonathan; Ng, Yixiang; Yeo, Khung Keong; ...</td>\n",
              "      <td>0</td>\n",
              "      <td>1</td>\n",
              "    </tr>\n",
              "    <tr>\n",
              "      <th>16</th>\n",
              "      <td>Pollution</td>\n",
              "      <td>[indoor air pollutants, indoor air pollution, ...</td>\n",
              "      <td>da9ae9cfb0eca6c0a6ae9e71dc59a08baecffdbd</td>\n",
              "      <td>https://doi.org/10.1016/j.envint.2018.09.043</td>\n",
              "      <td>[]</td>\n",
              "      <td>[The terms employed during the search were (\"i...</td>\n",
              "      <td>None</td>\n",
              "      <td>Not yet</td>\n",
              "      <td>Amoatey, Patrick; Omidvarborna, Hamid; Baawain...</td>\n",
              "      <td>0</td>\n",
              "      <td>11</td>\n",
              "    </tr>\n",
              "    <tr>\n",
              "      <th>17</th>\n",
              "      <td>Pollution</td>\n",
              "      <td>[indoor air pollutants, indoor air pollution]</td>\n",
              "      <td>dcb33ca2b0b8e86f785e7e1df0f23d5648e34bc5</td>\n",
              "      <td>https://doi.org/10.1016/j.rppnen.2014.02.002</td>\n",
              "      <td>[]</td>\n",
              "      <td>[Since the first studies on indoor air quality...</td>\n",
              "      <td>None</td>\n",
              "      <td>Not yet</td>\n",
              "      <td>Araújo-Martins, J.; Carreiro Martins, P.; Vieg...</td>\n",
              "      <td>0</td>\n",
              "      <td>4</td>\n",
              "    </tr>\n",
              "    <tr>\n",
              "      <th>18</th>\n",
              "      <td>Pollution</td>\n",
              "      <td>[indoor air pollutants]</td>\n",
              "      <td>e47402fcd7e6c22a95beeaa06f1f7e94cb7a4e42</td>\n",
              "      <td>https://doi.org/10.1016/j.atmosenv.2011.05.041</td>\n",
              "      <td>[]</td>\n",
              "      <td>[The scientific peer-reviewed literature on th...</td>\n",
              "      <td>None</td>\n",
              "      <td>Not yet</td>\n",
              "      <td>Zhang, Yinping; Mo, Jinhan; Li, Yuguo; Sundell...</td>\n",
              "      <td>0</td>\n",
              "      <td>2</td>\n",
              "    </tr>\n",
              "    <tr>\n",
              "      <th>19</th>\n",
              "      <td>Pollution</td>\n",
              "      <td>[household air pollution]</td>\n",
              "      <td>ed638b6b8897dfcc7b28ba26c2bb6048da0501e6</td>\n",
              "      <td>https://www.ncbi.nlm.nih.gov/pmc/articles/PMC5...</td>\n",
              "      <td>[Childhood undernutrition, household air pollu...</td>\n",
              "      <td>[We estimated burden of LRI attributable to ch...</td>\n",
              "      <td>None</td>\n",
              "      <td>Not yet</td>\n",
              "      <td>NaN</td>\n",
              "      <td>0</td>\n",
              "      <td>3</td>\n",
              "    </tr>\n",
              "  </tbody>\n",
              "</table>\n",
              "</div>"
            ],
            "text/plain": [
              "   Risk Factor  ... No of keyword occurence in Paper\n",
              "0    Pollution  ...                                1\n",
              "1    Pollution  ...                                1\n",
              "2    Pollution  ...                                2\n",
              "3    Pollution  ...                                3\n",
              "4    Pollution  ...                                1\n",
              "5    Pollution  ...                                1\n",
              "6    Pollution  ...                                4\n",
              "7    Pollution  ...                                2\n",
              "8    Pollution  ...                                3\n",
              "9    Pollution  ...                                3\n",
              "10   Pollution  ...                                1\n",
              "11   Pollution  ...                                1\n",
              "12   Pollution  ...                                5\n",
              "13   Pollution  ...                                2\n",
              "14   Pollution  ...                                1\n",
              "15   Pollution  ...                                1\n",
              "16   Pollution  ...                               11\n",
              "17   Pollution  ...                                4\n",
              "18   Pollution  ...                                2\n",
              "19   Pollution  ...                                3\n",
              "\n",
              "[20 rows x 11 columns]"
            ]
          },
          "metadata": {
            "tags": []
          },
          "execution_count": 29
        }
      ]
    },
    {
      "cell_type": "markdown",
      "metadata": {
        "id": "GuOWuOUNAfng",
        "colab_type": "text"
      },
      "source": [
        "Saving the extracted papers."
      ]
    },
    {
      "cell_type": "code",
      "metadata": {
        "id": "sfpNGO29GeS_",
        "colab_type": "code",
        "colab": {}
      },
      "source": [
        "df_output.to_csv('pollution_papers.csv')"
      ],
      "execution_count": 0,
      "outputs": []
    }
  ]
}